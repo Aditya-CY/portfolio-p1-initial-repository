{
 "cells": [
  {
   "cell_type": "markdown",
   "id": "a3906bb2",
   "metadata": {},
   "source": [
    "## Analysis of Yelp Dataset Portfolio2 "
   ]
  },
  {
   "cell_type": "markdown",
   "id": "4b9492a4",
   "metadata": {},
   "source": [
    "The portfolio aims to use various data processing techniques to clean and preprocess the data, filter out irrelevant data, and remove any outliers that could impact the accuracy of the model. Finally, the portfolio aims to use linear regression models to train and validate the model's accuracy in predicting user ratings towards business. Ultimately, the objective is to build a reliable model that can be used to provide insights into user preferences and help businesses make data-driven decisions to improve their services and offerings. In this task, we will explore the impacts of feature selections and different sizes of training/testing data on the model performance. We will use Yelp sub-dataset."
   ]
  },
  {
   "cell_type": "markdown",
   "id": "f9c65efd",
   "metadata": {},
   "source": [
    "### Import the output sample data from Portfolio1\n",
    "The csv file named `Yelp_Portfolio2_Input.csv` is provided. You may need to use the Pandas method, i.e., `read_csv`, for doing this. After that, please import the csv file and print out its total length."
   ]
  },
  {
   "cell_type": "code",
   "execution_count": 1,
   "id": "a958181e",
   "metadata": {},
   "outputs": [
    {
     "data": {
      "text/plain": [
       "'Aditya Choudhary'"
      ]
     },
     "execution_count": 1,
     "metadata": {},
     "output_type": "execute_result"
    }
   ],
   "source": [
    "# Student Name\n",
    "\"Aditya Choudhary\""
   ]
  },
  {
   "cell_type": "code",
   "execution_count": 2,
   "id": "b0e5357a",
   "metadata": {},
   "outputs": [
    {
     "data": {
      "text/plain": [
       "'47680288'"
      ]
     },
     "execution_count": 2,
     "metadata": {},
     "output_type": "execute_result"
    }
   ],
   "source": [
    "# Student ID\n",
    "\"47680288\""
   ]
  },
  {
   "cell_type": "code",
   "execution_count": 3,
   "id": "71dbcf80",
   "metadata": {},
   "outputs": [],
   "source": [
    "import pandas as pd\n",
    "import numpy as np\n",
    "from sklearn.model_selection import train_test_split\n",
    "from sklearn import linear_model\n",
    "from sklearn.metrics import r2_score\n",
    "\n",
    "import seaborn as sns\n",
    "import matplotlib.pylab as plt\n",
    "%matplotlib inline"
   ]
  },
  {
   "cell_type": "code",
   "execution_count": 4,
   "id": "3a493d86",
   "metadata": {},
   "outputs": [
    {
     "data": {
      "text/html": [
       "<div>\n",
       "<style scoped>\n",
       "    .dataframe tbody tr th:only-of-type {\n",
       "        vertical-align: middle;\n",
       "    }\n",
       "\n",
       "    .dataframe tbody tr th {\n",
       "        vertical-align: top;\n",
       "    }\n",
       "\n",
       "    .dataframe thead th {\n",
       "        text-align: right;\n",
       "    }\n",
       "</style>\n",
       "<table border=\"1\" class=\"dataframe\">\n",
       "  <thead>\n",
       "    <tr style=\"text-align: right;\">\n",
       "      <th></th>\n",
       "      <th>business_categories</th>\n",
       "      <th>business_city</th>\n",
       "      <th>business_id</th>\n",
       "      <th>date</th>\n",
       "      <th>stars</th>\n",
       "      <th>text</th>\n",
       "      <th>useful</th>\n",
       "      <th>user_id</th>\n",
       "    </tr>\n",
       "  </thead>\n",
       "  <tbody>\n",
       "    <tr>\n",
       "      <th>0</th>\n",
       "      <td>Middle Eastern; Restaurants</td>\n",
       "      <td>Tempe</td>\n",
       "      <td>6oRAC4uyJCsJl1X0WZpVSA</td>\n",
       "      <td>14/6/2012</td>\n",
       "      <td>4</td>\n",
       "      <td>love the gyro plate. Rice is so good and I als...</td>\n",
       "      <td>1</td>\n",
       "      <td>0hT2KtfLiobPvh6cDC8JQg</td>\n",
       "    </tr>\n",
       "    <tr>\n",
       "      <th>1</th>\n",
       "      <td>Tattoo; Beauty &amp; Spas</td>\n",
       "      <td>Tempe</td>\n",
       "      <td>WGNIYMeXPyoWav1APUq7jA</td>\n",
       "      <td>23/12/2011</td>\n",
       "      <td>4</td>\n",
       "      <td>Good tattoo shop. Clean space, multiple artist...</td>\n",
       "      <td>2</td>\n",
       "      <td>Xm8HXE1JHqscXe5BKf0GFQ</td>\n",
       "    </tr>\n",
       "    <tr>\n",
       "      <th>2</th>\n",
       "      <td>Tires; Automotive</td>\n",
       "      <td>Glendale</td>\n",
       "      <td>rxQ2PIjhAx6dgAqUalf99Q</td>\n",
       "      <td>9/9/2012</td>\n",
       "      <td>5</td>\n",
       "      <td>Never having dealt with a Discount Tire in Pho...</td>\n",
       "      <td>0</td>\n",
       "      <td>HLbhD2OyiMCUDRR4c1iXaw</td>\n",
       "    </tr>\n",
       "    <tr>\n",
       "      <th>3</th>\n",
       "      <td>Sushi Bars; Restaurants</td>\n",
       "      <td>Tempe</td>\n",
       "      <td>EC9WB-iVjd28B6R6KIZ8TA</td>\n",
       "      <td>4/8/2010</td>\n",
       "      <td>4</td>\n",
       "      <td>Cliff notes\\n- Cheap: $1-2/plate\\n- Fast: It's...</td>\n",
       "      <td>0</td>\n",
       "      <td>jdoGEEy5s-5L1O_lNzEi2g</td>\n",
       "    </tr>\n",
       "    <tr>\n",
       "      <th>4</th>\n",
       "      <td>Arts &amp; Entertainment; Cinema</td>\n",
       "      <td>Tempe</td>\n",
       "      <td>LDJhwZN14AZOJyHjg2lkRw</td>\n",
       "      <td>13/12/2011</td>\n",
       "      <td>4</td>\n",
       "      <td>We got passes for the preview of Mission Impos...</td>\n",
       "      <td>0</td>\n",
       "      <td>Mb0psF4WQF7gZSuZafVr-g</td>\n",
       "    </tr>\n",
       "    <tr>\n",
       "      <th>...</th>\n",
       "      <td>...</td>\n",
       "      <td>...</td>\n",
       "      <td>...</td>\n",
       "      <td>...</td>\n",
       "      <td>...</td>\n",
       "      <td>...</td>\n",
       "      <td>...</td>\n",
       "      <td>...</td>\n",
       "    </tr>\n",
       "    <tr>\n",
       "      <th>38649</th>\n",
       "      <td>Burgers; Restaurants</td>\n",
       "      <td>Glendale</td>\n",
       "      <td>sbnCG3-CouwIu0jsApfCsQ</td>\n",
       "      <td>26/2/2010</td>\n",
       "      <td>1</td>\n",
       "      <td>We ate at the Arrowhead Mall Johnny Rockets to...</td>\n",
       "      <td>0</td>\n",
       "      <td>mlY2rj2PBhK6-nlWjDMQIg</td>\n",
       "    </tr>\n",
       "    <tr>\n",
       "      <th>38650</th>\n",
       "      <td>Delis; Sandwiches; Restaurants</td>\n",
       "      <td>Tempe</td>\n",
       "      <td>cE99Cjrj2YXSGs4MECb86w</td>\n",
       "      <td>19/10/2007</td>\n",
       "      <td>3</td>\n",
       "      <td>You want a monster sandwich that will challeng...</td>\n",
       "      <td>6</td>\n",
       "      <td>tlSSQwfHYJany7wPoTH46A</td>\n",
       "    </tr>\n",
       "    <tr>\n",
       "      <th>38651</th>\n",
       "      <td>American (Traditional); Restaurants</td>\n",
       "      <td>Tempe</td>\n",
       "      <td>c8XlQvVNwKhH9BOHEObtNQ</td>\n",
       "      <td>16/12/2011</td>\n",
       "      <td>4</td>\n",
       "      <td>Went for lunch at Claim Jumper, let me tell yo...</td>\n",
       "      <td>0</td>\n",
       "      <td>8dbRf1UsWp2ktXHZ6Zv06w</td>\n",
       "    </tr>\n",
       "    <tr>\n",
       "      <th>38652</th>\n",
       "      <td>Gastropubs; Restaurants</td>\n",
       "      <td>Tempe</td>\n",
       "      <td>vnffHkFJbmd-J3OaBbK2Eg</td>\n",
       "      <td>14/4/2011</td>\n",
       "      <td>2</td>\n",
       "      <td>I really wanted to like this place because it'...</td>\n",
       "      <td>0</td>\n",
       "      <td>6e7pZofhDuIlD_rX2oYirQ</td>\n",
       "    </tr>\n",
       "    <tr>\n",
       "      <th>38653</th>\n",
       "      <td>Wine Bars; Bars; Pizza; Nightlife; Restaurants</td>\n",
       "      <td>Tempe</td>\n",
       "      <td>YQvg0JCGRFUkb6reMMf3Iw</td>\n",
       "      <td>18/1/2011</td>\n",
       "      <td>3</td>\n",
       "      <td>I have to take a star off for the spotty servi...</td>\n",
       "      <td>2</td>\n",
       "      <td>jopndPrv-H5KW2CfScnw9A</td>\n",
       "    </tr>\n",
       "  </tbody>\n",
       "</table>\n",
       "<p>38654 rows × 8 columns</p>\n",
       "</div>"
      ],
      "text/plain": [
       "                                  business_categories business_city  \\\n",
       "0                         Middle Eastern; Restaurants         Tempe   \n",
       "1                               Tattoo; Beauty & Spas         Tempe   \n",
       "2                                   Tires; Automotive      Glendale   \n",
       "3                             Sushi Bars; Restaurants         Tempe   \n",
       "4                        Arts & Entertainment; Cinema         Tempe   \n",
       "...                                               ...           ...   \n",
       "38649                            Burgers; Restaurants      Glendale   \n",
       "38650                  Delis; Sandwiches; Restaurants         Tempe   \n",
       "38651             American (Traditional); Restaurants         Tempe   \n",
       "38652                         Gastropubs; Restaurants         Tempe   \n",
       "38653  Wine Bars; Bars; Pizza; Nightlife; Restaurants         Tempe   \n",
       "\n",
       "                  business_id        date  stars  \\\n",
       "0      6oRAC4uyJCsJl1X0WZpVSA   14/6/2012      4   \n",
       "1      WGNIYMeXPyoWav1APUq7jA  23/12/2011      4   \n",
       "2      rxQ2PIjhAx6dgAqUalf99Q    9/9/2012      5   \n",
       "3      EC9WB-iVjd28B6R6KIZ8TA    4/8/2010      4   \n",
       "4      LDJhwZN14AZOJyHjg2lkRw  13/12/2011      4   \n",
       "...                       ...         ...    ...   \n",
       "38649  sbnCG3-CouwIu0jsApfCsQ   26/2/2010      1   \n",
       "38650  cE99Cjrj2YXSGs4MECb86w  19/10/2007      3   \n",
       "38651  c8XlQvVNwKhH9BOHEObtNQ  16/12/2011      4   \n",
       "38652  vnffHkFJbmd-J3OaBbK2Eg   14/4/2011      2   \n",
       "38653  YQvg0JCGRFUkb6reMMf3Iw   18/1/2011      3   \n",
       "\n",
       "                                                    text  useful  \\\n",
       "0      love the gyro plate. Rice is so good and I als...       1   \n",
       "1      Good tattoo shop. Clean space, multiple artist...       2   \n",
       "2      Never having dealt with a Discount Tire in Pho...       0   \n",
       "3      Cliff notes\\n- Cheap: $1-2/plate\\n- Fast: It's...       0   \n",
       "4      We got passes for the preview of Mission Impos...       0   \n",
       "...                                                  ...     ...   \n",
       "38649  We ate at the Arrowhead Mall Johnny Rockets to...       0   \n",
       "38650  You want a monster sandwich that will challeng...       6   \n",
       "38651  Went for lunch at Claim Jumper, let me tell yo...       0   \n",
       "38652  I really wanted to like this place because it'...       0   \n",
       "38653  I have to take a star off for the spotty servi...       2   \n",
       "\n",
       "                      user_id  \n",
       "0      0hT2KtfLiobPvh6cDC8JQg  \n",
       "1      Xm8HXE1JHqscXe5BKf0GFQ  \n",
       "2      HLbhD2OyiMCUDRR4c1iXaw  \n",
       "3      jdoGEEy5s-5L1O_lNzEi2g  \n",
       "4      Mb0psF4WQF7gZSuZafVr-g  \n",
       "...                       ...  \n",
       "38649  mlY2rj2PBhK6-nlWjDMQIg  \n",
       "38650  tlSSQwfHYJany7wPoTH46A  \n",
       "38651  8dbRf1UsWp2ktXHZ6Zv06w  \n",
       "38652  6e7pZofhDuIlD_rX2oYirQ  \n",
       "38653  jopndPrv-H5KW2CfScnw9A  \n",
       "\n",
       "[38654 rows x 8 columns]"
      ]
     },
     "execution_count": 4,
     "metadata": {},
     "output_type": "execute_result"
    }
   ],
   "source": [
    "pd.read_csv('Files/Yelp_Portfolio2_Input.csv')\n"
   ]
  },
  {
   "cell_type": "code",
   "execution_count": 5,
   "id": "094490ce",
   "metadata": {},
   "outputs": [],
   "source": [
    "# read data from csv file\n",
    "df = pd.read_csv('Files/Yelp_Portfolio2_Input.csv')"
   ]
  },
  {
   "cell_type": "code",
   "execution_count": 6,
   "id": "9bc01727",
   "metadata": {},
   "outputs": [],
   "source": [
    "sample_data = pd.read_csv('Files/Yelp_Portfolio2_Input.csv')\n"
   ]
  },
  {
   "cell_type": "code",
   "execution_count": 7,
   "id": "d018d604",
   "metadata": {},
   "outputs": [
    {
     "name": "stdout",
     "output_type": "stream",
     "text": [
      "38654\n"
     ]
    }
   ],
   "source": [
    "print(len(sample_data))"
   ]
  },
  {
   "cell_type": "code",
   "execution_count": 8,
   "id": "cbf9f046",
   "metadata": {
    "scrolled": true
   },
   "outputs": [
    {
     "data": {
      "text/html": [
       "<div>\n",
       "<style scoped>\n",
       "    .dataframe tbody tr th:only-of-type {\n",
       "        vertical-align: middle;\n",
       "    }\n",
       "\n",
       "    .dataframe tbody tr th {\n",
       "        vertical-align: top;\n",
       "    }\n",
       "\n",
       "    .dataframe thead th {\n",
       "        text-align: right;\n",
       "    }\n",
       "</style>\n",
       "<table border=\"1\" class=\"dataframe\">\n",
       "  <thead>\n",
       "    <tr style=\"text-align: right;\">\n",
       "      <th></th>\n",
       "      <th>business_categories</th>\n",
       "      <th>business_city</th>\n",
       "      <th>business_id</th>\n",
       "      <th>date</th>\n",
       "      <th>stars</th>\n",
       "      <th>text</th>\n",
       "      <th>useful</th>\n",
       "      <th>user_id</th>\n",
       "    </tr>\n",
       "  </thead>\n",
       "  <tbody>\n",
       "    <tr>\n",
       "      <th>0</th>\n",
       "      <td>Middle Eastern; Restaurants</td>\n",
       "      <td>Tempe</td>\n",
       "      <td>6oRAC4uyJCsJl1X0WZpVSA</td>\n",
       "      <td>14/6/2012</td>\n",
       "      <td>4</td>\n",
       "      <td>love the gyro plate. Rice is so good and I als...</td>\n",
       "      <td>1</td>\n",
       "      <td>0hT2KtfLiobPvh6cDC8JQg</td>\n",
       "    </tr>\n",
       "    <tr>\n",
       "      <th>1</th>\n",
       "      <td>Tattoo; Beauty &amp; Spas</td>\n",
       "      <td>Tempe</td>\n",
       "      <td>WGNIYMeXPyoWav1APUq7jA</td>\n",
       "      <td>23/12/2011</td>\n",
       "      <td>4</td>\n",
       "      <td>Good tattoo shop. Clean space, multiple artist...</td>\n",
       "      <td>2</td>\n",
       "      <td>Xm8HXE1JHqscXe5BKf0GFQ</td>\n",
       "    </tr>\n",
       "    <tr>\n",
       "      <th>2</th>\n",
       "      <td>Tires; Automotive</td>\n",
       "      <td>Glendale</td>\n",
       "      <td>rxQ2PIjhAx6dgAqUalf99Q</td>\n",
       "      <td>9/9/2012</td>\n",
       "      <td>5</td>\n",
       "      <td>Never having dealt with a Discount Tire in Pho...</td>\n",
       "      <td>0</td>\n",
       "      <td>HLbhD2OyiMCUDRR4c1iXaw</td>\n",
       "    </tr>\n",
       "    <tr>\n",
       "      <th>3</th>\n",
       "      <td>Sushi Bars; Restaurants</td>\n",
       "      <td>Tempe</td>\n",
       "      <td>EC9WB-iVjd28B6R6KIZ8TA</td>\n",
       "      <td>4/8/2010</td>\n",
       "      <td>4</td>\n",
       "      <td>Cliff notes\\n- Cheap: $1-2/plate\\n- Fast: It's...</td>\n",
       "      <td>0</td>\n",
       "      <td>jdoGEEy5s-5L1O_lNzEi2g</td>\n",
       "    </tr>\n",
       "    <tr>\n",
       "      <th>4</th>\n",
       "      <td>Arts &amp; Entertainment; Cinema</td>\n",
       "      <td>Tempe</td>\n",
       "      <td>LDJhwZN14AZOJyHjg2lkRw</td>\n",
       "      <td>13/12/2011</td>\n",
       "      <td>4</td>\n",
       "      <td>We got passes for the preview of Mission Impos...</td>\n",
       "      <td>0</td>\n",
       "      <td>Mb0psF4WQF7gZSuZafVr-g</td>\n",
       "    </tr>\n",
       "  </tbody>\n",
       "</table>\n",
       "</div>"
      ],
      "text/plain": [
       "            business_categories business_city             business_id  \\\n",
       "0   Middle Eastern; Restaurants         Tempe  6oRAC4uyJCsJl1X0WZpVSA   \n",
       "1         Tattoo; Beauty & Spas         Tempe  WGNIYMeXPyoWav1APUq7jA   \n",
       "2             Tires; Automotive      Glendale  rxQ2PIjhAx6dgAqUalf99Q   \n",
       "3       Sushi Bars; Restaurants         Tempe  EC9WB-iVjd28B6R6KIZ8TA   \n",
       "4  Arts & Entertainment; Cinema         Tempe  LDJhwZN14AZOJyHjg2lkRw   \n",
       "\n",
       "         date  stars                                               text  \\\n",
       "0   14/6/2012      4  love the gyro plate. Rice is so good and I als...   \n",
       "1  23/12/2011      4  Good tattoo shop. Clean space, multiple artist...   \n",
       "2    9/9/2012      5  Never having dealt with a Discount Tire in Pho...   \n",
       "3    4/8/2010      4  Cliff notes\\n- Cheap: $1-2/plate\\n- Fast: It's...   \n",
       "4  13/12/2011      4  We got passes for the preview of Mission Impos...   \n",
       "\n",
       "   useful                 user_id  \n",
       "0       1  0hT2KtfLiobPvh6cDC8JQg  \n",
       "1       2  Xm8HXE1JHqscXe5BKf0GFQ  \n",
       "2       0  HLbhD2OyiMCUDRR4c1iXaw  \n",
       "3       0  jdoGEEy5s-5L1O_lNzEi2g  \n",
       "4       0  Mb0psF4WQF7gZSuZafVr-g  "
      ]
     },
     "execution_count": 8,
     "metadata": {},
     "output_type": "execute_result"
    }
   ],
   "source": [
    "sample_data.head()"
   ]
  },
  {
   "cell_type": "code",
   "execution_count": 9,
   "id": "d0de76b1",
   "metadata": {},
   "outputs": [
    {
     "data": {
      "text/html": [
       "<div>\n",
       "<style scoped>\n",
       "    .dataframe tbody tr th:only-of-type {\n",
       "        vertical-align: middle;\n",
       "    }\n",
       "\n",
       "    .dataframe tbody tr th {\n",
       "        vertical-align: top;\n",
       "    }\n",
       "\n",
       "    .dataframe thead th {\n",
       "        text-align: right;\n",
       "    }\n",
       "</style>\n",
       "<table border=\"1\" class=\"dataframe\">\n",
       "  <thead>\n",
       "    <tr style=\"text-align: right;\">\n",
       "      <th></th>\n",
       "      <th>business_categories</th>\n",
       "      <th>business_city</th>\n",
       "      <th>business_id</th>\n",
       "      <th>date</th>\n",
       "      <th>stars</th>\n",
       "      <th>text</th>\n",
       "      <th>useful</th>\n",
       "      <th>user_id</th>\n",
       "    </tr>\n",
       "  </thead>\n",
       "  <tbody>\n",
       "    <tr>\n",
       "      <th>0</th>\n",
       "      <td>Middle Eastern; Restaurants</td>\n",
       "      <td>Tempe</td>\n",
       "      <td>6oRAC4uyJCsJl1X0WZpVSA</td>\n",
       "      <td>14/6/2012</td>\n",
       "      <td>4</td>\n",
       "      <td>love the gyro plate. Rice is so good and I als...</td>\n",
       "      <td>1</td>\n",
       "      <td>0hT2KtfLiobPvh6cDC8JQg</td>\n",
       "    </tr>\n",
       "    <tr>\n",
       "      <th>1</th>\n",
       "      <td>Tattoo; Beauty &amp; Spas</td>\n",
       "      <td>Tempe</td>\n",
       "      <td>WGNIYMeXPyoWav1APUq7jA</td>\n",
       "      <td>23/12/2011</td>\n",
       "      <td>4</td>\n",
       "      <td>Good tattoo shop. Clean space, multiple artist...</td>\n",
       "      <td>2</td>\n",
       "      <td>Xm8HXE1JHqscXe5BKf0GFQ</td>\n",
       "    </tr>\n",
       "    <tr>\n",
       "      <th>2</th>\n",
       "      <td>Tires; Automotive</td>\n",
       "      <td>Glendale</td>\n",
       "      <td>rxQ2PIjhAx6dgAqUalf99Q</td>\n",
       "      <td>9/9/2012</td>\n",
       "      <td>5</td>\n",
       "      <td>Never having dealt with a Discount Tire in Pho...</td>\n",
       "      <td>0</td>\n",
       "      <td>HLbhD2OyiMCUDRR4c1iXaw</td>\n",
       "    </tr>\n",
       "    <tr>\n",
       "      <th>3</th>\n",
       "      <td>Sushi Bars; Restaurants</td>\n",
       "      <td>Tempe</td>\n",
       "      <td>EC9WB-iVjd28B6R6KIZ8TA</td>\n",
       "      <td>4/8/2010</td>\n",
       "      <td>4</td>\n",
       "      <td>Cliff notes\\n- Cheap: $1-2/plate\\n- Fast: It's...</td>\n",
       "      <td>0</td>\n",
       "      <td>jdoGEEy5s-5L1O_lNzEi2g</td>\n",
       "    </tr>\n",
       "    <tr>\n",
       "      <th>4</th>\n",
       "      <td>Arts &amp; Entertainment; Cinema</td>\n",
       "      <td>Tempe</td>\n",
       "      <td>LDJhwZN14AZOJyHjg2lkRw</td>\n",
       "      <td>13/12/2011</td>\n",
       "      <td>4</td>\n",
       "      <td>We got passes for the preview of Mission Impos...</td>\n",
       "      <td>0</td>\n",
       "      <td>Mb0psF4WQF7gZSuZafVr-g</td>\n",
       "    </tr>\n",
       "  </tbody>\n",
       "</table>\n",
       "</div>"
      ],
      "text/plain": [
       "            business_categories business_city             business_id  \\\n",
       "0   Middle Eastern; Restaurants         Tempe  6oRAC4uyJCsJl1X0WZpVSA   \n",
       "1         Tattoo; Beauty & Spas         Tempe  WGNIYMeXPyoWav1APUq7jA   \n",
       "2             Tires; Automotive      Glendale  rxQ2PIjhAx6dgAqUalf99Q   \n",
       "3       Sushi Bars; Restaurants         Tempe  EC9WB-iVjd28B6R6KIZ8TA   \n",
       "4  Arts & Entertainment; Cinema         Tempe  LDJhwZN14AZOJyHjg2lkRw   \n",
       "\n",
       "         date  stars                                               text  \\\n",
       "0   14/6/2012      4  love the gyro plate. Rice is so good and I als...   \n",
       "1  23/12/2011      4  Good tattoo shop. Clean space, multiple artist...   \n",
       "2    9/9/2012      5  Never having dealt with a Discount Tire in Pho...   \n",
       "3    4/8/2010      4  Cliff notes\\n- Cheap: $1-2/plate\\n- Fast: It's...   \n",
       "4  13/12/2011      4  We got passes for the preview of Mission Impos...   \n",
       "\n",
       "   useful                 user_id  \n",
       "0       1  0hT2KtfLiobPvh6cDC8JQg  \n",
       "1       2  Xm8HXE1JHqscXe5BKf0GFQ  \n",
       "2       0  HLbhD2OyiMCUDRR4c1iXaw  \n",
       "3       0  jdoGEEy5s-5L1O_lNzEi2g  \n",
       "4       0  Mb0psF4WQF7gZSuZafVr-g  "
      ]
     },
     "execution_count": 9,
     "metadata": {},
     "output_type": "execute_result"
    }
   ],
   "source": [
    "df.head()"
   ]
  },
  {
   "cell_type": "code",
   "execution_count": 10,
   "id": "8b93357c",
   "metadata": {},
   "outputs": [
    {
     "data": {
      "text/plain": [
       "Index(['business_categories', 'business_city', 'business_id', 'date', 'stars',\n",
       "       'text', 'useful', 'user_id'],\n",
       "      dtype='object')"
      ]
     },
     "execution_count": 10,
     "metadata": {},
     "output_type": "execute_result"
    }
   ],
   "source": [
    "df.columns"
   ]
  },
  {
   "cell_type": "code",
   "execution_count": 11,
   "id": "a4c7ff69",
   "metadata": {},
   "outputs": [
    {
     "data": {
      "text/plain": [
       "(38654, 8)"
      ]
     },
     "execution_count": 11,
     "metadata": {},
     "output_type": "execute_result"
    }
   ],
   "source": [
    "df.shape"
   ]
  },
  {
   "cell_type": "code",
   "execution_count": 12,
   "id": "358cd1bb",
   "metadata": {},
   "outputs": [
    {
     "data": {
      "text/plain": [
       "<bound method NDFrame.describe of                                   business_categories business_city  \\\n",
       "0                         Middle Eastern; Restaurants         Tempe   \n",
       "1                               Tattoo; Beauty & Spas         Tempe   \n",
       "2                                   Tires; Automotive      Glendale   \n",
       "3                             Sushi Bars; Restaurants         Tempe   \n",
       "4                        Arts & Entertainment; Cinema         Tempe   \n",
       "...                                               ...           ...   \n",
       "38649                            Burgers; Restaurants      Glendale   \n",
       "38650                  Delis; Sandwiches; Restaurants         Tempe   \n",
       "38651             American (Traditional); Restaurants         Tempe   \n",
       "38652                         Gastropubs; Restaurants         Tempe   \n",
       "38653  Wine Bars; Bars; Pizza; Nightlife; Restaurants         Tempe   \n",
       "\n",
       "                  business_id        date  stars  \\\n",
       "0      6oRAC4uyJCsJl1X0WZpVSA   14/6/2012      4   \n",
       "1      WGNIYMeXPyoWav1APUq7jA  23/12/2011      4   \n",
       "2      rxQ2PIjhAx6dgAqUalf99Q    9/9/2012      5   \n",
       "3      EC9WB-iVjd28B6R6KIZ8TA    4/8/2010      4   \n",
       "4      LDJhwZN14AZOJyHjg2lkRw  13/12/2011      4   \n",
       "...                       ...         ...    ...   \n",
       "38649  sbnCG3-CouwIu0jsApfCsQ   26/2/2010      1   \n",
       "38650  cE99Cjrj2YXSGs4MECb86w  19/10/2007      3   \n",
       "38651  c8XlQvVNwKhH9BOHEObtNQ  16/12/2011      4   \n",
       "38652  vnffHkFJbmd-J3OaBbK2Eg   14/4/2011      2   \n",
       "38653  YQvg0JCGRFUkb6reMMf3Iw   18/1/2011      3   \n",
       "\n",
       "                                                    text  useful  \\\n",
       "0      love the gyro plate. Rice is so good and I als...       1   \n",
       "1      Good tattoo shop. Clean space, multiple artist...       2   \n",
       "2      Never having dealt with a Discount Tire in Pho...       0   \n",
       "3      Cliff notes\\n- Cheap: $1-2/plate\\n- Fast: It's...       0   \n",
       "4      We got passes for the preview of Mission Impos...       0   \n",
       "...                                                  ...     ...   \n",
       "38649  We ate at the Arrowhead Mall Johnny Rockets to...       0   \n",
       "38650  You want a monster sandwich that will challeng...       6   \n",
       "38651  Went for lunch at Claim Jumper, let me tell yo...       0   \n",
       "38652  I really wanted to like this place because it'...       0   \n",
       "38653  I have to take a star off for the spotty servi...       2   \n",
       "\n",
       "                      user_id  \n",
       "0      0hT2KtfLiobPvh6cDC8JQg  \n",
       "1      Xm8HXE1JHqscXe5BKf0GFQ  \n",
       "2      HLbhD2OyiMCUDRR4c1iXaw  \n",
       "3      jdoGEEy5s-5L1O_lNzEi2g  \n",
       "4      Mb0psF4WQF7gZSuZafVr-g  \n",
       "...                       ...  \n",
       "38649  mlY2rj2PBhK6-nlWjDMQIg  \n",
       "38650  tlSSQwfHYJany7wPoTH46A  \n",
       "38651  8dbRf1UsWp2ktXHZ6Zv06w  \n",
       "38652  6e7pZofhDuIlD_rX2oYirQ  \n",
       "38653  jopndPrv-H5KW2CfScnw9A  \n",
       "\n",
       "[38654 rows x 8 columns]>"
      ]
     },
     "execution_count": 12,
     "metadata": {},
     "output_type": "execute_result"
    }
   ],
   "source": [
    "df.describe"
   ]
  },
  {
   "cell_type": "code",
   "execution_count": null,
   "id": "2a102c01",
   "metadata": {},
   "outputs": [],
   "source": []
  },
  {
   "cell_type": "markdown",
   "id": "c16c3d9b",
   "metadata": {},
   "source": [
    "# Q1. `business_categories` processing"
   ]
  },
  {
   "cell_type": "markdown",
   "id": "eb5b37b2",
   "metadata": {},
   "source": [
    "You may notice that there are a total of 693 unique business categories present in the sample data. Please write a code snippet to confirm this number. Then, generate a boxplot of `stars` for `business_categories`."
   ]
  },
  {
   "cell_type": "code",
   "execution_count": 13,
   "id": "0238816f",
   "metadata": {},
   "outputs": [],
   "source": [
    "# your code and solutions"
   ]
  },
  {
   "cell_type": "code",
   "execution_count": 14,
   "id": "be9b6018",
   "metadata": {},
   "outputs": [],
   "source": [
    "import pandas as pd\n",
    "import matplotlib.pyplot as plt\n",
    "\n",
    "# Load the dataset\n",
    "df = pd.read_csv('Files/Yelp_Portfolio2_Input.csv')"
   ]
  },
  {
   "cell_type": "code",
   "execution_count": 15,
   "id": "88d6d604",
   "metadata": {},
   "outputs": [
    {
     "name": "stdout",
     "output_type": "stream",
     "text": [
      "Number of unique business categories: 377\n"
     ]
    }
   ],
   "source": [
    "# Count the number of unique business categories\n",
    "num_categories = df['business_categories'].str.split('; ').explode().nunique()\n",
    "print(f\"Number of unique business categories: {num_categories}\")\n"
   ]
  },
  {
   "cell_type": "code",
   "execution_count": 28,
   "id": "083bd927",
   "metadata": {},
   "outputs": [
    {
     "name": "stderr",
     "output_type": "stream",
     "text": [
      "/var/folders/gt/sfkj2f7j4wg1244sc_t5ddmm0000gn/T/ipykernel_50934/429954695.py:7: UserWarning: This pattern is interpreted as a regular expression, and has match groups. To actually get the groups, use str.extract.\n",
      "  plt.boxplot([df.loc[df['business_categories'].str.contains(category), 'stars'] for category in df['business_categories'].str.split('; ').explode().unique()])\n"
     ]
    },
    {
     "data": {
      "image/png": "[encoded data removed]",
      "text/plain": [
       "<Figure size 1000x600 with 1 Axes>"
      ]
     },
     "metadata": {},
     "output_type": "display_data"
    }
   ],
   "source": [
    "# Generate a boxplot of stars for business_categories\n",
    "plt.figure(figsize=(10, 6))\n",
    "plt.xticks(rotation=90)\n",
    "plt.title(\"Boxplot of stars for business_categories\")\n",
    "plt.xlabel(\"Business Categories\")\n",
    "plt.ylabel(\"Stars\")\n",
    "plt.boxplot([df.loc[df['business_categories'].str.contains(category), 'stars'] for category in df['business_categories'].str.split('; ').explode().unique()])\n",
    "plt.show()"
   ]
  },
  {
   "cell_type": "code",
   "execution_count": 17,
   "id": "3366ce54",
   "metadata": {},
   "outputs": [
    {
     "name": "stdout",
     "output_type": "stream",
     "text": [
      "There are 377 unique business categories in the sample data.\n"
     ]
    }
   ],
   "source": [
    "import pandas as pd\n",
    "\n",
    "# Load the dataset\n",
    "df = pd.read_csv('Files/Yelp_Portfolio2_Input.csv')\n",
    "\n",
    "# Count the number of unique business categories\n",
    "n_categories = df['business_categories'].str.split('; ').explode().nunique()\n",
    "\n",
    "# Print the number of unique business categories\n",
    "print(f\"There are {n_categories} unique business categories in the sample data.\")\n"
   ]
  },
  {
   "cell_type": "code",
   "execution_count": 27,
   "id": "12fa9bab",
   "metadata": {},
   "outputs": [
    {
     "data": {
      "image/png": "[encoded data removed]",
      "text/plain": [
       "<Figure size 640x480 with 1 Axes>"
      ]
     },
     "metadata": {},
     "output_type": "display_data"
    }
   ],
   "source": [
    "import pandas as pd\n",
    "import matplotlib.pyplot as plt\n",
    "\n",
    "# Load the dataset\n",
    "df = pd.read_csv('Files/Yelp_Portfolio2_Input.csv')\n",
    "\n",
    "# Generate boxplot\n",
    "df.boxplot(column='stars', by='business_categories')\n",
    "plt.show()"
   ]
  },
  {
   "cell_type": "code",
   "execution_count": null,
   "id": "c7ee6285",
   "metadata": {},
   "outputs": [],
   "source": []
  },
  {
   "cell_type": "code",
   "execution_count": null,
   "id": "989078e0",
   "metadata": {},
   "outputs": [],
   "source": []
  },
  {
   "cell_type": "markdown",
   "id": "a578c205",
   "metadata": {},
   "source": [
    "Sometimes we need to extract some major categories, such as `Middle Eastern; Restaurants` and `Sushi Bars; Restaurants`, both of which should belong to the `Restaurants` category."
   ]
  },
  {
   "cell_type": "markdown",
   "id": "69c2aae2",
   "metadata": {},
   "source": [
    "### Q1.1 How to efficiently and accurately extract the last category value (i.e., categorieN) from the `business_categories` column in a dataset, where the format of each row is a semicolon-separated list of categories (i.e., 'categorie1; categorie2;...;categorieN')? and replace the original string with this last category value. At last, print the first five rows."
   ]
  },
  {
   "cell_type": "code",
   "execution_count": 19,
   "id": "c1386d1f",
   "metadata": {},
   "outputs": [],
   "source": [
    "# your code and solutions"
   ]
  },
  {
   "cell_type": "markdown",
   "id": "4d77d3c0",
   "metadata": {},
   "source": [
    "### Q1.2 Let's first check how many unique business categories are present in the dataset (output from Q1.1). Maybe it's still not an appropriate number to make a clear Boxplot. Now, we want to display `ALL Rows` of the business category count data. That is to count and print the number of occurrences for each business category."
   ]
  },
  {
   "cell_type": "code",
   "execution_count": 20,
   "id": "36f87584",
   "metadata": {},
   "outputs": [],
   "source": [
    "# your code and solutions"
   ]
  },
  {
   "cell_type": "markdown",
   "id": "1c4f446f",
   "metadata": {},
   "source": [
    "### Q1.3 We want to remove categories that appear fewer than 200 times. Write a Python code snippet to perform this operation. At last, print the number of resulting unique business_categories."
   ]
  },
  {
   "cell_type": "code",
   "execution_count": 21,
   "id": "f1b9ed00",
   "metadata": {},
   "outputs": [],
   "source": [
    "# your code and solutions"
   ]
  },
  {
   "cell_type": "markdown",
   "id": "1649f53c",
   "metadata": {},
   "source": [
    "# Q2. Outliers"
   ]
  },
  {
   "cell_type": "markdown",
   "id": "5c649505",
   "metadata": {},
   "source": [
    "### Q2.1 Remove any rows from the sample_data DataFrame (output from Q1.3) where the `useful` column has a value of 6 or more; Then, create a single figure with two subplots, one showing the boxplot of `useful` column of the original data and the other showing the boxplot of the data with outliers removed. \n",
    "\n",
    "At last, __print the length of the data__."
   ]
  },
  {
   "cell_type": "code",
   "execution_count": 22,
   "id": "3531504d",
   "metadata": {},
   "outputs": [],
   "source": [
    "# your code and solutions"
   ]
  },
  {
   "cell_type": "markdown",
   "id": "6c29233a",
   "metadata": {},
   "source": [
    "### Q2.2 In general, we might remove some inactive users from a dataset (output from Q2.1), for example, users who rate businesses less than 3 times. However, in this case, we are doing the opposite and removing extremely active users who rate businesses more than 30 times (>30). Again, create a single figure with two subplots, one showing the boxplot of the count of business rating given by each user and the other showing the boxplot of the data with outliers removed. \n",
    "\n",
    "At last, __print the length of the data__."
   ]
  },
  {
   "cell_type": "code",
   "execution_count": 23,
   "id": "cb385f82",
   "metadata": {},
   "outputs": [],
   "source": [
    "# your code and solutions"
   ]
  },
  {
   "cell_type": "markdown",
   "id": "95827eb7",
   "metadata": {},
   "source": [
    "# Q3. Training a LinearRegression model on the data output from Q2.2."
   ]
  },
  {
   "cell_type": "markdown",
   "id": "bd4568bd",
   "metadata": {},
   "source": [
    "### Q3.1 How to build a linear regression model on a subset of the data, using the `useful` column as the input variable and the `stars` column as the output variable. Split the data into a training set and a test set, with 70% of the data used for training. The random_state is set to 42."
   ]
  },
  {
   "cell_type": "code",
   "execution_count": 24,
   "id": "d778cd98",
   "metadata": {},
   "outputs": [],
   "source": [
    "# your code and solutions"
   ]
  },
  {
   "cell_type": "markdown",
   "id": "a863d87e",
   "metadata": {},
   "source": [
    "### Q3.2 Assuming that the number of reviews a business has received  `business_review_count`  can greatly influence the average rating that the business has received. Now, we create the relevant variable to the data, and do the LinearRegression again to the `stars`. "
   ]
  },
  {
   "cell_type": "code",
   "execution_count": 25,
   "id": "6d9b8d61",
   "metadata": {},
   "outputs": [],
   "source": [
    "# your code and solutions"
   ]
  },
  {
   "cell_type": "markdown",
   "id": "417bf155",
   "metadata": {},
   "source": [
    "### Q3.3 Output the correlations between `business_review_count` and `useful` variables with `stars` and analyze the results."
   ]
  },
  {
   "cell_type": "code",
   "execution_count": 26,
   "id": "2502c751",
   "metadata": {},
   "outputs": [],
   "source": [
    "# your code and solutions"
   ]
  }
 ],
 "metadata": {
  "kernelspec": {
   "display_name": "Python 3 (ipykernel)",
   "language": "python",
   "name": "python3"
  },
  "language_info": {
   "codemirror_mode": {
    "name": "ipython",
    "version": 3
   },
   "file_extension": ".py",
   "mimetype": "text/x-python",
   "name": "python",
   "nbconvert_exporter": "python",
   "pygments_lexer": "ipython3",
   "version": "3.9.13"
  }
 },
 "nbformat": 4,
 "nbformat_minor": 5
}
