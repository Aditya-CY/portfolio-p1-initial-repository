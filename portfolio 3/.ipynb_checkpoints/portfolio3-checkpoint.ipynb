{
 "cells": [
  {
   "cell_type": "markdown",
   "metadata": {},
   "source": [
    "# Aditya Choudhary"
   ]
  },
  {
   "cell_type": "markdown",
   "metadata": {},
   "source": [
    "# 47680288"
   ]
  },
  {
   "cell_type": "markdown",
   "metadata": {},
   "source": [
    "# LendingClub Dataset\n",
    "**Dataset Description：**\n",
    "The dataset contains the homeloan records released from Lending Club. The problem lenders care is that whether a borrower can repay homeloan and interest on time. In addition, the homeloan interest rate is highly related with the loan credit of borrowers. A borrower with a higher credit can easily get homeloan with a lower rate. The task of the project is to predict whehter a borrower can replay homeloan and interest on time based on a number of features of the borrower. This is a typical classification problem and this notebook demonstrate how to use Lending Club dataset to decide whether a homeloan case should be approved based a borrower' features. \n",
    "\n",
    "**Dataset Detail Information*\n",
    "The dataset contains 9,578 recrds in total. Every record has 13 features and 1 label which are described as below. \n",
    "* credit.policy: This is the label. Its value is 1 if the customer meets the credit underwriting criteria of LendingClub.com, and 0 otherwise.\n",
    "\n",
    "* purpose: The purpose of the loan (takes values \"creditcard\", \"debtconsolidation\", \"educational\", \"majorpurchase\", \"smallbusiness\", “home_improvement” and \"all_other\").\n",
    "\n",
    "* int.rate: The interest rate of the loan, as a proportion (a rate of 11% would be stored as 0.11). Borrowers judged by LendingClub.com to be more risky are assigned higher interest rates.\n",
    "\n",
    "* installment: The monthly installments owed by the borrower if the loan is funded.\n",
    "\n",
    "* log.annual.inc: The natural log of the self-reported annual income of the borrower.\n",
    "\n",
    "* dti: The debt-to-income ratio of the borrower (amount of debt divided by annual income).\n",
    "\n",
    "* fico: The FICO credit score of the borrower.Common FICO scores range from 300 to 850,with higher scores indicating better credit.\n",
    "\n",
    "* days.with.cr.line: The number of days the borrower has had a credit line.\n",
    "\n",
    "* revol.bal: The borrower's revolving balance (amount unpaid at the end of the credit card billing cycle).\n",
    "\n",
    "* revol.util: The borrower's revolving line utilization rate (the amount of the credit line used relative to total credit available).\n",
    "\n",
    "* inq.last.6mths: The borrower's number of inquiries by creditors in the last 6 months.\n",
    "\n",
    "* delinq.2yrs: The number of times the borrower had been 30+ days past due on a payment in the past 2 years.\n",
    "\n",
    "* pub.rec: The borrower's number of derogatory public records (bankruptcy filings, tax liens, or judgments\n",
    "\n",
    "* not.fully.paid：Whether the borrower will be fully paid or not.\n",
    "\n",
    "**Learning taks:**\n",
    "1. Data should be preprocessed and cleaned. \n",
    "2. Feature selection should be conducted to remove irrelevant features.\n",
    "3. Train a logistic regression model to predict \"credit.policy\" by using the other 13 features.\n",
    "4. The logistic regression model should be evaluated with cross validation by using 5-10 folds.  "
   ]
  },
  {
   "cell_type": "code",
   "execution_count": null,
   "metadata": {},
   "outputs": [],
   "source": []
  },
  {
   "cell_type": "markdown",
   "metadata": {},
   "source": [
    "## Import Packages"
   ]
  },
  {
   "cell_type": "code",
   "execution_count": 1,
   "metadata": {},
   "outputs": [],
   "source": [
    "import numpy as np\n",
    "import pandas as pd\n",
    "import seaborn as sns\n",
    "import matplotlib.pyplot as plt\n",
    "%matplotlib inline\n",
    "import warnings\n",
    "warnings.filterwarnings('ignore')"
   ]
  },
  {
   "cell_type": "markdown",
   "metadata": {},
   "source": [
    "## Load Dataset and Clean Dataset"
   ]
  },
  {
   "cell_type": "markdown",
   "metadata": {},
   "source": [
    "The purpose of this part is to guarantee the data used in the notebook is reliable. 。"
   ]
  },
  {
   "cell_type": "code",
   "execution_count": 2,
   "metadata": {},
   "outputs": [
    {
     "data": {
      "text/html": [
       "<div>\n",
       "<style scoped>\n",
       "    .dataframe tbody tr th:only-of-type {\n",
       "        vertical-align: middle;\n",
       "    }\n",
       "\n",
       "    .dataframe tbody tr th {\n",
       "        vertical-align: top;\n",
       "    }\n",
       "\n",
       "    .dataframe thead th {\n",
       "        text-align: right;\n",
       "    }\n",
       "</style>\n",
       "<table border=\"1\" class=\"dataframe\">\n",
       "  <thead>\n",
       "    <tr style=\"text-align: right;\">\n",
       "      <th></th>\n",
       "      <th>credit.policy</th>\n",
       "      <th>purpose</th>\n",
       "      <th>int.rate</th>\n",
       "      <th>installment</th>\n",
       "      <th>log.annual.inc</th>\n",
       "      <th>dti</th>\n",
       "      <th>fico</th>\n",
       "      <th>days.with.cr.line</th>\n",
       "      <th>revol.bal</th>\n",
       "      <th>revol.util</th>\n",
       "      <th>inq.last.6mths</th>\n",
       "      <th>delinq.2yrs</th>\n",
       "      <th>pub.rec</th>\n",
       "      <th>not.fully.paid</th>\n",
       "    </tr>\n",
       "  </thead>\n",
       "  <tbody>\n",
       "    <tr>\n",
       "      <th>0</th>\n",
       "      <td>1</td>\n",
       "      <td>debt_consolidation</td>\n",
       "      <td>0.1189</td>\n",
       "      <td>829.10</td>\n",
       "      <td>11.350407</td>\n",
       "      <td>19.48</td>\n",
       "      <td>737</td>\n",
       "      <td>5639.958333</td>\n",
       "      <td>28854</td>\n",
       "      <td>52.1</td>\n",
       "      <td>0</td>\n",
       "      <td>0</td>\n",
       "      <td>0</td>\n",
       "      <td>NaN</td>\n",
       "    </tr>\n",
       "    <tr>\n",
       "      <th>1</th>\n",
       "      <td>1</td>\n",
       "      <td>credit_card</td>\n",
       "      <td>0.1071</td>\n",
       "      <td>228.22</td>\n",
       "      <td>11.082143</td>\n",
       "      <td>14.29</td>\n",
       "      <td>707</td>\n",
       "      <td>2760.000000</td>\n",
       "      <td>33623</td>\n",
       "      <td>76.7</td>\n",
       "      <td>0</td>\n",
       "      <td>0</td>\n",
       "      <td>0</td>\n",
       "      <td>0.0</td>\n",
       "    </tr>\n",
       "    <tr>\n",
       "      <th>2</th>\n",
       "      <td>1</td>\n",
       "      <td>debt_consolidation</td>\n",
       "      <td>0.1357</td>\n",
       "      <td>366.86</td>\n",
       "      <td>10.373491</td>\n",
       "      <td>11.63</td>\n",
       "      <td>682</td>\n",
       "      <td>471000.000000</td>\n",
       "      <td>3511</td>\n",
       "      <td>25.6</td>\n",
       "      <td>1</td>\n",
       "      <td>0</td>\n",
       "      <td>0</td>\n",
       "      <td>0.0</td>\n",
       "    </tr>\n",
       "    <tr>\n",
       "      <th>3</th>\n",
       "      <td>1</td>\n",
       "      <td>debt_consolidation</td>\n",
       "      <td>0.1008</td>\n",
       "      <td>162.34</td>\n",
       "      <td>11.350407</td>\n",
       "      <td>8.10</td>\n",
       "      <td>712</td>\n",
       "      <td>2699.958333</td>\n",
       "      <td>33667</td>\n",
       "      <td>73.2</td>\n",
       "      <td>1</td>\n",
       "      <td>0</td>\n",
       "      <td>0</td>\n",
       "      <td>0.0</td>\n",
       "    </tr>\n",
       "    <tr>\n",
       "      <th>4</th>\n",
       "      <td>1</td>\n",
       "      <td>credit_card</td>\n",
       "      <td>0.1426</td>\n",
       "      <td>102.92</td>\n",
       "      <td>11.299732</td>\n",
       "      <td>14.97</td>\n",
       "      <td>667</td>\n",
       "      <td>4066.000000</td>\n",
       "      <td>4740</td>\n",
       "      <td>39.5</td>\n",
       "      <td>0</td>\n",
       "      <td>1</td>\n",
       "      <td>0</td>\n",
       "      <td>0.0</td>\n",
       "    </tr>\n",
       "  </tbody>\n",
       "</table>\n",
       "</div>"
      ],
      "text/plain": [
       "   credit.policy             purpose  int.rate  installment  log.annual.inc  \\\n",
       "0              1  debt_consolidation    0.1189       829.10       11.350407   \n",
       "1              1         credit_card    0.1071       228.22       11.082143   \n",
       "2              1  debt_consolidation    0.1357       366.86       10.373491   \n",
       "3              1  debt_consolidation    0.1008       162.34       11.350407   \n",
       "4              1         credit_card    0.1426       102.92       11.299732   \n",
       "\n",
       "     dti  fico  days.with.cr.line  revol.bal  revol.util  inq.last.6mths  \\\n",
       "0  19.48   737        5639.958333      28854        52.1               0   \n",
       "1  14.29   707        2760.000000      33623        76.7               0   \n",
       "2  11.63   682      471000.000000       3511        25.6               1   \n",
       "3   8.10   712        2699.958333      33667        73.2               1   \n",
       "4  14.97   667        4066.000000       4740        39.5               0   \n",
       "\n",
       "   delinq.2yrs  pub.rec  not.fully.paid  \n",
       "0            0        0             NaN  \n",
       "1            0        0             0.0  \n",
       "2            0        0             0.0  \n",
       "3            0        0             0.0  \n",
       "4            1        0             0.0  "
      ]
     },
     "execution_count": 2,
     "metadata": {},
     "output_type": "execute_result"
    }
   ],
   "source": [
    "Data = pd.read_csv('./data/loan_data.csv')\n",
    "Data.head()"
   ]
  },
  {
   "cell_type": "markdown",
   "metadata": {},
   "source": [
    "After loading the dataset into the notebook, we can further check basic information of the dataset such as data type. "
   ]
  },
  {
   "cell_type": "code",
   "execution_count": 3,
   "metadata": {},
   "outputs": [
    {
     "name": "stdout",
     "output_type": "stream",
     "text": [
      "<class 'pandas.core.frame.DataFrame'>\n",
      "RangeIndex: 9578 entries, 0 to 9577\n",
      "Data columns (total 14 columns):\n",
      " #   Column             Non-Null Count  Dtype  \n",
      "---  ------             --------------  -----  \n",
      " 0   credit.policy      9578 non-null   int64  \n",
      " 1   purpose            9578 non-null   object \n",
      " 2   int.rate           9578 non-null   float64\n",
      " 3   installment        9578 non-null   float64\n",
      " 4   log.annual.inc     9578 non-null   float64\n",
      " 5   dti                9578 non-null   float64\n",
      " 6   fico               9578 non-null   int64  \n",
      " 7   days.with.cr.line  9578 non-null   float64\n",
      " 8   revol.bal          9578 non-null   int64  \n",
      " 9   revol.util         9578 non-null   float64\n",
      " 10  inq.last.6mths     9578 non-null   int64  \n",
      " 11  delinq.2yrs        9578 non-null   int64  \n",
      " 12  pub.rec            9578 non-null   int64  \n",
      " 13  not.fully.paid     9577 non-null   float64\n",
      "dtypes: float64(7), int64(6), object(1)\n",
      "memory usage: 1.0+ MB\n"
     ]
    }
   ],
   "source": [
    "Data.info()"
   ]
  },
  {
   "cell_type": "markdown",
   "metadata": {},
   "source": [
    "According to the displayed dataset information, we can conclude that\n",
    "1. The dataset is complete without missing any record. \n",
    "2. There are 13 features and 1 label. There are three possible datatypes, which are loat64,int64 and object\n",
    "There are seven data types which are：credit_card, debt_consolidation, educational, major_purchase, small_business, home_improvement 和all_other。 Note that the type of purpose is object, which cannot be analyzed directly. This feature will be converted by OneHotEncoder or OrdinalEncoder.\n",
    "\n",
    "Now, we can proveed to check basic statistical information of these features such as mean values, standard deviation, maximum and minimum values, etc. "
   ]
  },
  {
   "cell_type": "markdown",
   "metadata": {},
   "source": [
    "## Task 1: Based on Data info, please clean the dataset by removing abnormal data points or filling in missing values.  "
   ]
  },
  {
   "cell_type": "code",
   "execution_count": 5,
   "metadata": {
    "scrolled": true
   },
   "outputs": [
    {
     "data": {
      "image/png": "[encoded data removed]",
      "text/plain": [
       "<Figure size 1152x864 with 16 Axes>"
      ]
     },
     "metadata": {
      "needs_background": "light"
     },
     "output_type": "display_data"
    }
   ],
   "source": [
    "Data.hist(bins=10 ,figsize=(16,12), color = 'Green')\n",
    "plt.show()"
   ]
  },
  {
   "cell_type": "code",
   "execution_count": 7,
   "metadata": {},
   "outputs": [
    {
     "data": {
      "text/plain": [
       "Index(['credit.policy', 'purpose', 'int.rate', 'installment', 'log.annual.inc',\n",
       "       'dti', 'fico', 'days.with.cr.line', 'revol.bal', 'revol.util',\n",
       "       'inq.last.6mths', 'delinq.2yrs', 'pub.rec', 'not.fully.paid'],\n",
       "      dtype='object')"
      ]
     },
     "execution_count": 7,
     "metadata": {},
     "output_type": "execute_result"
    }
   ],
   "source": [
    "Data.columns"
   ]
  },
  {
   "cell_type": "code",
   "execution_count": 11,
   "metadata": {},
   "outputs": [],
   "source": [
    "# Load necessary libraries\n",
    "import pandas as pd\n",
    "import numpy as np\n",
    "\n",
    "# Load the dataset\n",
    "Data = pd.read_csv('./data/loan_data.csv')\n",
    "\n",
    "# Remove rows with missing values\n",
    "Data.dropna(inplace=True)\n",
    "\n",
    "# Remove rows with negative values in 'installment', 'log.annual.inc', 'dti', 'fico', 'days.with.cr.line', 'revol.bal', and 'revol.util' columns\n",
    "Data = Data[(Data['installment'] > 0) & (Data['log.annual.inc'] > 0) & (Data['dti'] > 0) & (Data['fico'] > 0) & (Data['days.with.cr.line'] > 0) & (Data['revol.bal'] > 0) & (Data['revol.util'] > 0)]\n",
    "\n",
    "# Remove rows with values outside of the 1st and 99th percentile for 'int.rate', 'inq.last.6mths', 'delinq.2yrs', and 'pub.rec' columns\n",
    "Data = Data[(Data['int.rate'] >= np.percentile(Data['int.rate'], 1)) & (Data['int.rate'] <= np.percentile(Data['int.rate'], 99)) & (Data['inq.last.6mths'] >= np.percentile(Data['inq.last.6mths'], 1)) & (Data['inq.last.6mths'] <= np.percentile(Data['inq.last.6mths'], 99)) & (Data['delinq.2yrs'] >= np.percentile(Data['delinq.2yrs'], 1)) & (Data['delinq.2yrs'] <= np.percentile(Data['delinq.2yrs'], 99)) & (Data['pub.rec'] >= np.percentile(Data['pub.rec'], 1)) & (Data['pub.rec'] <= np.percentile(Data['pub.rec'], 99))]\n"
   ]
  },
  {
   "cell_type": "code",
   "execution_count": 12,
   "metadata": {},
   "outputs": [
    {
     "name": "stdout",
     "output_type": "stream",
     "text": [
      "<class 'pandas.core.frame.DataFrame'>\n",
      "Int64Index: 8823 entries, 1 to 9577\n",
      "Data columns (total 14 columns):\n",
      " #   Column             Non-Null Count  Dtype  \n",
      "---  ------             --------------  -----  \n",
      " 0   credit.policy      8823 non-null   int64  \n",
      " 1   purpose            8823 non-null   object \n",
      " 2   int.rate           8823 non-null   float64\n",
      " 3   installment        8823 non-null   float64\n",
      " 4   log.annual.inc     8823 non-null   float64\n",
      " 5   dti                8823 non-null   float64\n",
      " 6   fico               8823 non-null   int64  \n",
      " 7   days.with.cr.line  8823 non-null   float64\n",
      " 8   revol.bal          8823 non-null   int64  \n",
      " 9   revol.util         8823 non-null   float64\n",
      " 10  inq.last.6mths     8823 non-null   int64  \n",
      " 11  delinq.2yrs        8823 non-null   int64  \n",
      " 12  pub.rec            8823 non-null   int64  \n",
      " 13  not.fully.paid     8823 non-null   float64\n",
      "dtypes: float64(7), int64(6), object(1)\n",
      "memory usage: 1.0+ MB\n",
      "None\n"
     ]
    }
   ],
   "source": [
    "# Check the cleaned dataset\n",
    "print(Data.info())"
   ]
  },
  {
   "cell_type": "code",
   "execution_count": 6,
   "metadata": {},
   "outputs": [
    {
     "data": {
      "text/html": [
       "<div>\n",
       "<style scoped>\n",
       "    .dataframe tbody tr th:only-of-type {\n",
       "        vertical-align: middle;\n",
       "    }\n",
       "\n",
       "    .dataframe tbody tr th {\n",
       "        vertical-align: top;\n",
       "    }\n",
       "\n",
       "    .dataframe thead th {\n",
       "        text-align: right;\n",
       "    }\n",
       "</style>\n",
       "<table border=\"1\" class=\"dataframe\">\n",
       "  <thead>\n",
       "    <tr style=\"text-align: right;\">\n",
       "      <th></th>\n",
       "      <th>count</th>\n",
       "      <th>mean</th>\n",
       "      <th>std</th>\n",
       "      <th>min</th>\n",
       "      <th>25%</th>\n",
       "      <th>50%</th>\n",
       "      <th>75%</th>\n",
       "      <th>max</th>\n",
       "    </tr>\n",
       "  </thead>\n",
       "  <tbody>\n",
       "    <tr>\n",
       "      <th>credit.policy</th>\n",
       "      <td>9578.0</td>\n",
       "      <td>0.804970</td>\n",
       "      <td>0.396245</td>\n",
       "      <td>0.000000</td>\n",
       "      <td>1.000000</td>\n",
       "      <td>1.000000</td>\n",
       "      <td>1.000000</td>\n",
       "      <td>1.000000e+00</td>\n",
       "    </tr>\n",
       "    <tr>\n",
       "      <th>int.rate</th>\n",
       "      <td>9578.0</td>\n",
       "      <td>0.122570</td>\n",
       "      <td>0.027163</td>\n",
       "      <td>-0.146100</td>\n",
       "      <td>0.103900</td>\n",
       "      <td>0.122100</td>\n",
       "      <td>0.140700</td>\n",
       "      <td>2.164000e-01</td>\n",
       "    </tr>\n",
       "    <tr>\n",
       "      <th>installment</th>\n",
       "      <td>9578.0</td>\n",
       "      <td>319.089413</td>\n",
       "      <td>207.071301</td>\n",
       "      <td>15.670000</td>\n",
       "      <td>163.770000</td>\n",
       "      <td>268.950000</td>\n",
       "      <td>432.762500</td>\n",
       "      <td>9.401400e+02</td>\n",
       "    </tr>\n",
       "    <tr>\n",
       "      <th>log.annual.inc</th>\n",
       "      <td>9578.0</td>\n",
       "      <td>10.932117</td>\n",
       "      <td>0.614813</td>\n",
       "      <td>7.547502</td>\n",
       "      <td>10.558414</td>\n",
       "      <td>10.928884</td>\n",
       "      <td>11.291293</td>\n",
       "      <td>1.452835e+01</td>\n",
       "    </tr>\n",
       "    <tr>\n",
       "      <th>dti</th>\n",
       "      <td>9578.0</td>\n",
       "      <td>12.606679</td>\n",
       "      <td>6.883970</td>\n",
       "      <td>0.000000</td>\n",
       "      <td>7.212500</td>\n",
       "      <td>12.665000</td>\n",
       "      <td>17.950000</td>\n",
       "      <td>2.996000e+01</td>\n",
       "    </tr>\n",
       "    <tr>\n",
       "      <th>fico</th>\n",
       "      <td>9578.0</td>\n",
       "      <td>710.846314</td>\n",
       "      <td>37.970537</td>\n",
       "      <td>612.000000</td>\n",
       "      <td>682.000000</td>\n",
       "      <td>707.000000</td>\n",
       "      <td>737.000000</td>\n",
       "      <td>8.270000e+02</td>\n",
       "    </tr>\n",
       "    <tr>\n",
       "      <th>days.with.cr.line</th>\n",
       "      <td>9578.0</td>\n",
       "      <td>4609.450638</td>\n",
       "      <td>5380.501367</td>\n",
       "      <td>178.958333</td>\n",
       "      <td>2820.000000</td>\n",
       "      <td>4139.958333</td>\n",
       "      <td>5730.000000</td>\n",
       "      <td>4.710000e+05</td>\n",
       "    </tr>\n",
       "    <tr>\n",
       "      <th>revol.bal</th>\n",
       "      <td>9578.0</td>\n",
       "      <td>16913.963876</td>\n",
       "      <td>33756.189557</td>\n",
       "      <td>0.000000</td>\n",
       "      <td>3187.000000</td>\n",
       "      <td>8596.000000</td>\n",
       "      <td>18249.500000</td>\n",
       "      <td>1.207359e+06</td>\n",
       "    </tr>\n",
       "    <tr>\n",
       "      <th>revol.util</th>\n",
       "      <td>9578.0</td>\n",
       "      <td>46.799236</td>\n",
       "      <td>29.014417</td>\n",
       "      <td>0.000000</td>\n",
       "      <td>22.600000</td>\n",
       "      <td>46.300000</td>\n",
       "      <td>70.900000</td>\n",
       "      <td>1.190000e+02</td>\n",
       "    </tr>\n",
       "    <tr>\n",
       "      <th>inq.last.6mths</th>\n",
       "      <td>9578.0</td>\n",
       "      <td>1.577469</td>\n",
       "      <td>2.200245</td>\n",
       "      <td>0.000000</td>\n",
       "      <td>0.000000</td>\n",
       "      <td>1.000000</td>\n",
       "      <td>2.000000</td>\n",
       "      <td>3.300000e+01</td>\n",
       "    </tr>\n",
       "    <tr>\n",
       "      <th>delinq.2yrs</th>\n",
       "      <td>9578.0</td>\n",
       "      <td>0.163708</td>\n",
       "      <td>0.546215</td>\n",
       "      <td>0.000000</td>\n",
       "      <td>0.000000</td>\n",
       "      <td>0.000000</td>\n",
       "      <td>0.000000</td>\n",
       "      <td>1.300000e+01</td>\n",
       "    </tr>\n",
       "    <tr>\n",
       "      <th>pub.rec</th>\n",
       "      <td>9578.0</td>\n",
       "      <td>0.062122</td>\n",
       "      <td>0.262126</td>\n",
       "      <td>0.000000</td>\n",
       "      <td>0.000000</td>\n",
       "      <td>0.000000</td>\n",
       "      <td>0.000000</td>\n",
       "      <td>5.000000e+00</td>\n",
       "    </tr>\n",
       "    <tr>\n",
       "      <th>not.fully.paid</th>\n",
       "      <td>9578.0</td>\n",
       "      <td>0.160071</td>\n",
       "      <td>0.366672</td>\n",
       "      <td>0.000000</td>\n",
       "      <td>0.000000</td>\n",
       "      <td>0.000000</td>\n",
       "      <td>0.000000</td>\n",
       "      <td>1.000000e+00</td>\n",
       "    </tr>\n",
       "  </tbody>\n",
       "</table>\n",
       "</div>"
      ],
      "text/plain": [
       "                    count          mean           std         min  \\\n",
       "credit.policy      9578.0      0.804970      0.396245    0.000000   \n",
       "int.rate           9578.0      0.122570      0.027163   -0.146100   \n",
       "installment        9578.0    319.089413    207.071301   15.670000   \n",
       "log.annual.inc     9578.0     10.932117      0.614813    7.547502   \n",
       "dti                9578.0     12.606679      6.883970    0.000000   \n",
       "fico               9578.0    710.846314     37.970537  612.000000   \n",
       "days.with.cr.line  9578.0   4609.450638   5380.501367  178.958333   \n",
       "revol.bal          9578.0  16913.963876  33756.189557    0.000000   \n",
       "revol.util         9578.0     46.799236     29.014417    0.000000   \n",
       "inq.last.6mths     9578.0      1.577469      2.200245    0.000000   \n",
       "delinq.2yrs        9578.0      0.163708      0.546215    0.000000   \n",
       "pub.rec            9578.0      0.062122      0.262126    0.000000   \n",
       "not.fully.paid     9578.0      0.160071      0.366672    0.000000   \n",
       "\n",
       "                           25%          50%           75%           max  \n",
       "credit.policy         1.000000     1.000000      1.000000  1.000000e+00  \n",
       "int.rate              0.103900     0.122100      0.140700  2.164000e-01  \n",
       "installment         163.770000   268.950000    432.762500  9.401400e+02  \n",
       "log.annual.inc       10.558414    10.928884     11.291293  1.452835e+01  \n",
       "dti                   7.212500    12.665000     17.950000  2.996000e+01  \n",
       "fico                682.000000   707.000000    737.000000  8.270000e+02  \n",
       "days.with.cr.line  2820.000000  4139.958333   5730.000000  4.710000e+05  \n",
       "revol.bal          3187.000000  8596.000000  18249.500000  1.207359e+06  \n",
       "revol.util           22.600000    46.300000     70.900000  1.190000e+02  \n",
       "inq.last.6mths        0.000000     1.000000      2.000000  3.300000e+01  \n",
       "delinq.2yrs           0.000000     0.000000      0.000000  1.300000e+01  \n",
       "pub.rec               0.000000     0.000000      0.000000  5.000000e+00  \n",
       "not.fully.paid        0.000000     0.000000      0.000000  1.000000e+00  "
      ]
     },
     "execution_count": 6,
     "metadata": {},
     "output_type": "execute_result"
    }
   ],
   "source": [
    "Data.describe().transpose()"
   ]
  },
  {
   "cell_type": "markdown",
   "metadata": {},
   "source": [
    "## Tasl 2: From data feature distributions, please discuss whether we should normalise these features. "
   ]
  },
  {
   "cell_type": "raw",
   "metadata": {},
   "source": [
    "Looking at the feature distributions, we can see that some of the features are on different scales. For example, 'revol.bal' ranges from 0 to over 25 million while 'int.rate' ranges from 0.06 to 0.22. This indicates that normalization or scaling may be beneficial for certain models, including logistic regression.\n",
    "\n",
    "Normalization can help improve the performance of the logistic regression model by ensuring that all features contribute equally to the decision boundary. Normalization will also help to mitigate any issues with features that have different units or scales.\n",
    "\n",
    "Therefore, it would be a good idea to normalize or scale the features before training a logistic regression model. One common technique for scaling is to use the StandardScaler from scikit-learn, which will transform the features to have zero mean and unit variance.\n",
    "\n",
    "\n",
    "\n",
    "\n",
    "\n"
   ]
  },
  {
   "cell_type": "markdown",
   "metadata": {},
   "source": [
    "## Data Analytics and Classification"
   ]
  },
  {
   "cell_type": "markdown",
   "metadata": {},
   "source": [
    "Now, our target is to train a logistic regression model to predict 'credit.policy' with 13 features. This is a typical classification problem. \n",
    "## Task 3: It is unnecessary to use all 13 features as input of the logistic regression model. To select relevant features, we can plot the heatmap between two features to filter relevant features as our input. "
   ]
  },
  {
   "cell_type": "code",
   "execution_count": 13,
   "metadata": {},
   "outputs": [
    {
     "data": {
      "text/plain": [
       "<AxesSubplot:>"
      ]
     },
     "execution_count": 13,
     "metadata": {},
     "output_type": "execute_result"
    },
    {
     "data": {
      "image/png": "[encoded data removed]",
      "text/plain": [
       "<Figure size 640x480 with 2 Axes>"
      ]
     },
     "metadata": {},
     "output_type": "display_data"
    }
   ],
   "source": [
    "import seaborn as sns\n",
    "\n",
    "# Calculate the correlation matrix\n",
    "corr = Data.corr()\n",
    "\n",
    "# Plot the heatmap\n",
    "sns.heatmap(corr, cmap='coolwarm', annot=True)\n"
   ]
  },
  {
   "cell_type": "code",
   "execution_count": null,
   "metadata": {},
   "outputs": [],
   "source": []
  },
  {
   "cell_type": "markdown",
   "metadata": {},
   "source": [
    "From the heatmaps, we can find different correlations between each feature and 'credit.policy'. \n",
    "We only reserve features that have positive correlations with 'credit.policy' by removing features with a low correlation with credit_policy."
   ]
  },
  {
   "cell_type": "markdown",
   "metadata": {},
   "source": [
    "## Data Preprocess"
   ]
  },
  {
   "cell_type": "raw",
   "metadata": {},
   "source": [
    "\n",
    "It is not recommended to solely rely on correlation to determine the relevance of features for a classification model. Instead, it is better to use a proper feature selection algorithm or technique to select the most important features for the model. Correlation only shows the linear relationship between features, while there could be non-linear relationships or interactions between features that are important for the model. Therefore, it is important to use a more advanced feature selection method to avoid overfitting and improve the model's performance."
   ]
  },
  {
   "cell_type": "markdown",
   "metadata": {},
   "source": [
    "### Process of Object data type\n",
    "\n",
    "The logistic regression model cannot well process the object data type. We convert this data type with OneHotEncoder such that this feature can be handled by the logistic regression model. "
   ]
  },
  {
   "cell_type": "code",
   "execution_count": 8,
   "metadata": {},
   "outputs": [
    {
     "data": {
      "text/html": [
       "<div>\n",
       "<style scoped>\n",
       "    .dataframe tbody tr th:only-of-type {\n",
       "        vertical-align: middle;\n",
       "    }\n",
       "\n",
       "    .dataframe tbody tr th {\n",
       "        vertical-align: top;\n",
       "    }\n",
       "\n",
       "    .dataframe thead th {\n",
       "        text-align: right;\n",
       "    }\n",
       "</style>\n",
       "<table border=\"1\" class=\"dataframe\">\n",
       "  <thead>\n",
       "    <tr style=\"text-align: right;\">\n",
       "      <th></th>\n",
       "      <th>credit.policy</th>\n",
       "      <th>all_other</th>\n",
       "      <th>credit_card</th>\n",
       "      <th>debt_consolidation</th>\n",
       "      <th>educational</th>\n",
       "      <th>home_improvement</th>\n",
       "      <th>major_purchase</th>\n",
       "      <th>small_business</th>\n",
       "      <th>int.rate</th>\n",
       "      <th>installment</th>\n",
       "      <th>log.annual.inc</th>\n",
       "      <th>dti</th>\n",
       "      <th>fico</th>\n",
       "      <th>days.with.cr.line</th>\n",
       "      <th>revol.bal</th>\n",
       "      <th>revol.util</th>\n",
       "      <th>inq.last.6mths</th>\n",
       "      <th>delinq.2yrs</th>\n",
       "      <th>pub.rec</th>\n",
       "      <th>not.fully.paid</th>\n",
       "    </tr>\n",
       "  </thead>\n",
       "  <tbody>\n",
       "    <tr>\n",
       "      <th>0</th>\n",
       "      <td>1</td>\n",
       "      <td>0</td>\n",
       "      <td>0</td>\n",
       "      <td>1</td>\n",
       "      <td>0</td>\n",
       "      <td>0</td>\n",
       "      <td>0</td>\n",
       "      <td>0</td>\n",
       "      <td>0.1189</td>\n",
       "      <td>829.10</td>\n",
       "      <td>11.350407</td>\n",
       "      <td>19.48</td>\n",
       "      <td>737</td>\n",
       "      <td>5639.958333</td>\n",
       "      <td>28854</td>\n",
       "      <td>52.1</td>\n",
       "      <td>0</td>\n",
       "      <td>0</td>\n",
       "      <td>0</td>\n",
       "      <td>0.160071</td>\n",
       "    </tr>\n",
       "    <tr>\n",
       "      <th>1</th>\n",
       "      <td>1</td>\n",
       "      <td>0</td>\n",
       "      <td>1</td>\n",
       "      <td>0</td>\n",
       "      <td>0</td>\n",
       "      <td>0</td>\n",
       "      <td>0</td>\n",
       "      <td>0</td>\n",
       "      <td>0.1071</td>\n",
       "      <td>228.22</td>\n",
       "      <td>11.082143</td>\n",
       "      <td>14.29</td>\n",
       "      <td>707</td>\n",
       "      <td>2760.000000</td>\n",
       "      <td>33623</td>\n",
       "      <td>76.7</td>\n",
       "      <td>0</td>\n",
       "      <td>0</td>\n",
       "      <td>0</td>\n",
       "      <td>0.000000</td>\n",
       "    </tr>\n",
       "    <tr>\n",
       "      <th>2</th>\n",
       "      <td>1</td>\n",
       "      <td>0</td>\n",
       "      <td>0</td>\n",
       "      <td>1</td>\n",
       "      <td>0</td>\n",
       "      <td>0</td>\n",
       "      <td>0</td>\n",
       "      <td>0</td>\n",
       "      <td>0.1357</td>\n",
       "      <td>366.86</td>\n",
       "      <td>10.373491</td>\n",
       "      <td>11.63</td>\n",
       "      <td>682</td>\n",
       "      <td>471000.000000</td>\n",
       "      <td>3511</td>\n",
       "      <td>25.6</td>\n",
       "      <td>1</td>\n",
       "      <td>0</td>\n",
       "      <td>0</td>\n",
       "      <td>0.000000</td>\n",
       "    </tr>\n",
       "    <tr>\n",
       "      <th>3</th>\n",
       "      <td>1</td>\n",
       "      <td>0</td>\n",
       "      <td>0</td>\n",
       "      <td>1</td>\n",
       "      <td>0</td>\n",
       "      <td>0</td>\n",
       "      <td>0</td>\n",
       "      <td>0</td>\n",
       "      <td>0.1008</td>\n",
       "      <td>162.34</td>\n",
       "      <td>11.350407</td>\n",
       "      <td>8.10</td>\n",
       "      <td>712</td>\n",
       "      <td>2699.958333</td>\n",
       "      <td>33667</td>\n",
       "      <td>73.2</td>\n",
       "      <td>1</td>\n",
       "      <td>0</td>\n",
       "      <td>0</td>\n",
       "      <td>0.000000</td>\n",
       "    </tr>\n",
       "    <tr>\n",
       "      <th>4</th>\n",
       "      <td>1</td>\n",
       "      <td>0</td>\n",
       "      <td>1</td>\n",
       "      <td>0</td>\n",
       "      <td>0</td>\n",
       "      <td>0</td>\n",
       "      <td>0</td>\n",
       "      <td>0</td>\n",
       "      <td>0.1426</td>\n",
       "      <td>102.92</td>\n",
       "      <td>11.299732</td>\n",
       "      <td>14.97</td>\n",
       "      <td>667</td>\n",
       "      <td>4066.000000</td>\n",
       "      <td>4740</td>\n",
       "      <td>39.5</td>\n",
       "      <td>0</td>\n",
       "      <td>1</td>\n",
       "      <td>0</td>\n",
       "      <td>0.000000</td>\n",
       "    </tr>\n",
       "  </tbody>\n",
       "</table>\n",
       "</div>"
      ],
      "text/plain": [
       "   credit.policy  all_other  credit_card  debt_consolidation  educational  \\\n",
       "0              1          0            0                   1            0   \n",
       "1              1          0            1                   0            0   \n",
       "2              1          0            0                   1            0   \n",
       "3              1          0            0                   1            0   \n",
       "4              1          0            1                   0            0   \n",
       "\n",
       "   home_improvement  major_purchase  small_business  int.rate  installment  \\\n",
       "0                 0               0               0    0.1189       829.10   \n",
       "1                 0               0               0    0.1071       228.22   \n",
       "2                 0               0               0    0.1357       366.86   \n",
       "3                 0               0               0    0.1008       162.34   \n",
       "4                 0               0               0    0.1426       102.92   \n",
       "\n",
       "   log.annual.inc    dti  fico  days.with.cr.line  revol.bal  revol.util  \\\n",
       "0       11.350407  19.48   737        5639.958333      28854        52.1   \n",
       "1       11.082143  14.29   707        2760.000000      33623        76.7   \n",
       "2       10.373491  11.63   682      471000.000000       3511        25.6   \n",
       "3       11.350407   8.10   712        2699.958333      33667        73.2   \n",
       "4       11.299732  14.97   667        4066.000000       4740        39.5   \n",
       "\n",
       "   inq.last.6mths  delinq.2yrs  pub.rec  not.fully.paid  \n",
       "0               0            0        0        0.160071  \n",
       "1               0            0        0        0.000000  \n",
       "2               1            0        0        0.000000  \n",
       "3               1            0        0        0.000000  \n",
       "4               0            1        0        0.000000  "
      ]
     },
     "execution_count": 8,
     "metadata": {},
     "output_type": "execute_result"
    }
   ],
   "source": [
    "dummy_purpose = pd.get_dummies(Data['purpose'])\n",
    "dummy_purpose.head()  \n",
    "New_Data = pd.concat((Data.iloc[:,0], dummy_purpose, Data.iloc[:,2:]), axis=1)\n",
    "New_Data.head()"
   ]
  },
  {
   "cell_type": "markdown",
   "metadata": {},
   "source": [
    "### Dataset classification\n",
    "We classify all data records into training set (80%), validation set (10%)  and test set (10%) so that we can determine hyper-parameters with k-cross validation. \n",
    "\n",
    "Randomly select 90% as the training + validation sets. The rest 10% will be used as the test set. "
   ]
  },
  {
   "cell_type": "code",
   "execution_count": 54,
   "metadata": {},
   "outputs": [
    {
     "name": "stdout",
     "output_type": "stream",
     "text": [
      "Training Data size: 7758\n",
      "Validation Data size: 862\n",
      "Test Data size: 958\n"
     ]
    }
   ],
   "source": [
    "import pandas as pd\n",
    "from sklearn.model_selection import train_test_split\n",
    "\n",
    "# Load the Lending Club dataset\n",
    "Data = pd.read_csv('./data/loan_data.csv')\n",
    "\n",
    "# Split the data into training + validation and test sets\n",
    "trainval_Data, test_Data = train_test_split(Data, test_size=0.1, random_state=42)\n",
    "\n",
    "# Split the training + validation data into training and validation sets\n",
    "train_Data, val_Data = train_test_split(trainval_Data, test_size=0.1, random_state=42)\n",
    "\n",
    "# Print the sizes of the resulting datasets\n",
    "print(\"Training Data size:\", len(train_Data))\n",
    "print(\"Validation Data size:\", len(val_Data))\n",
    "print(\"Test Data size:\", len(test_Data))\n"
   ]
  },
  {
   "cell_type": "code",
   "execution_count": 51,
   "metadata": {},
   "outputs": [],
   "source": [
    "from sklearn.model_selection import train_test_split"
   ]
  },
  {
   "cell_type": "markdown",
   "metadata": {},
   "source": [
    "We complete dataset classification as below. "
   ]
  },
  {
   "cell_type": "code",
   "execution_count": 59,
   "metadata": {},
   "outputs": [
    {
     "name": "stdout",
     "output_type": "stream",
     "text": [
      "Training set size:  7671\n",
      "Validation set size:  949\n",
      "Test set size:  958\n"
     ]
    }
   ],
   "source": [
    "import pandas as pd\n",
    "from sklearn.model_selection import train_test_split\n",
    "\n",
    "# Load the dataset\n",
    "Data = pd.read_csv('./data/loan_data.csv')\n",
    "\n",
    "# Split the data into training + validation and test sets\n",
    "train_val, test = train_test_split(Data, test_size=0.1, random_state=42)\n",
    "\n",
    "# Split the training + validation set into training and validation sets\n",
    "train, val = train_test_split(train_val, test_size=0.11, random_state=42)\n",
    "\n",
    "# Print the number of records in each set\n",
    "print(\"Training set size: \", len(train))\n",
    "print(\"Validation set size: \", len(val))\n",
    "print(\"Test set size: \", len(test))\n"
   ]
  },
  {
   "cell_type": "code",
   "execution_count": 57,
   "metadata": {},
   "outputs": [
    {
     "ename": "NameError",
     "evalue": "name 'New_Data' is not defined",
     "output_type": "error",
     "traceback": [
      "\u001b[0;31m---------------------------------------------------------------------------\u001b[0m",
      "\u001b[0;31mNameError\u001b[0m                                 Traceback (most recent call last)",
      "\u001b[0;32m/var/folders/gt/sfkj2f7j4wg1244sc_t5ddmm0000gn/T/ipykernel_32968/214505108.py\u001b[0m in \u001b[0;36m<module>\u001b[0;34m\u001b[0m\n\u001b[1;32m      1\u001b[0m \u001b[0;32mfrom\u001b[0m \u001b[0msklearn\u001b[0m\u001b[0;34m.\u001b[0m\u001b[0mmodel_selection\u001b[0m \u001b[0;32mimport\u001b[0m \u001b[0mtrain_test_split\u001b[0m\u001b[0;34m\u001b[0m\u001b[0;34m\u001b[0m\u001b[0m\n\u001b[0;32m----> 2\u001b[0;31m \u001b[0mx_ex1\u001b[0m \u001b[0;34m=\u001b[0m \u001b[0mNew_Data\u001b[0m\u001b[0;34m.\u001b[0m\u001b[0mcopy\u001b[0m\u001b[0;34m(\u001b[0m\u001b[0;34m)\u001b[0m\u001b[0;34m.\u001b[0m\u001b[0mdrop\u001b[0m\u001b[0;34m(\u001b[0m\u001b[0mcolumns\u001b[0m\u001b[0;34m=\u001b[0m\u001b[0;34m[\u001b[0m\u001b[0;34m'credit.policy'\u001b[0m\u001b[0;34m,\u001b[0m \u001b[0;34m'int.rate'\u001b[0m\u001b[0;34m,\u001b[0m\u001b[0;34m'revol.bal'\u001b[0m\u001b[0;34m,\u001b[0m \u001b[0;34m'inq.last.6mths'\u001b[0m\u001b[0;34m,\u001b[0m \u001b[0;34m'not.fully.paid'\u001b[0m \u001b[0;34m]\u001b[0m\u001b[0;34m)\u001b[0m\u001b[0;34m\u001b[0m\u001b[0;34m\u001b[0m\u001b[0m\n\u001b[0m\u001b[1;32m      3\u001b[0m \u001b[0my_ex1\u001b[0m \u001b[0;34m=\u001b[0m \u001b[0mNew_Data\u001b[0m\u001b[0;34m.\u001b[0m\u001b[0mcopy\u001b[0m\u001b[0;34m(\u001b[0m\u001b[0;34m)\u001b[0m\u001b[0;34m[\u001b[0m\u001b[0;34m'credit.policy'\u001b[0m\u001b[0;34m]\u001b[0m\u001b[0;34m\u001b[0m\u001b[0;34m\u001b[0m\u001b[0m\n\u001b[1;32m      4\u001b[0m \u001b[0mx_ex1_array\u001b[0m \u001b[0;34m=\u001b[0m \u001b[0mx_ex1\u001b[0m\u001b[0;34m.\u001b[0m\u001b[0mvalues\u001b[0m\u001b[0;34m\u001b[0m\u001b[0;34m\u001b[0m\u001b[0m\n\u001b[1;32m      5\u001b[0m \u001b[0my_ex1_array\u001b[0m \u001b[0;34m=\u001b[0m \u001b[0my_ex1\u001b[0m\u001b[0;34m.\u001b[0m\u001b[0mvalues\u001b[0m\u001b[0;34m\u001b[0m\u001b[0;34m\u001b[0m\u001b[0m\n",
      "\u001b[0;31mNameError\u001b[0m: name 'New_Data' is not defined"
     ]
    }
   ],
   "source": [
    "from sklearn.model_selection import train_test_split\n",
    "x_ex1 = New_Data.copy().drop(columns=['credit.policy', 'int.rate','revol.bal', 'inq.last.6mths', 'not.fully.paid' ])\n",
    "y_ex1 = New_Data.copy()['credit.policy']\n",
    "x_ex1_array = x_ex1.values\n",
    "y_ex1_array = y_ex1.values\n",
    "x_ex1_train = x_ex1_array[0:int((len(y_ex1_array)+1)*0.9),:]\n",
    "x_ex1_test = x_ex1_array[int((len(y_ex1_array)+1)*0.9):,:]\n",
    "y_ex1_train = y_ex1_array[0:int((len(y_ex1_array)+1)*0.9)]\n",
    "y_ex1_test = y_ex1_array[int((len(y_ex1_array)+1)*0.9):]\n",
    "print(New_Data['credit.policy'].value_counts())\n"
   ]
  },
  {
   "cell_type": "markdown",
   "metadata": {},
   "source": [
    "### Data normalisation\n",
    "\n",
    "## Task 4: Recall that we have observed large value discrepancies between these features. It is necessary to normalise these features before we use them to train our models.  Here, we emply standardization method to normalise our dataset as below. "
   ]
  },
  {
   "cell_type": "code",
   "execution_count": 18,
   "metadata": {},
   "outputs": [],
   "source": [
    "Data_encoded = pd.get_dummies(Data, columns=['purpose'])\n",
    "scaler.fit(Data_encoded.drop('credit.policy', axis=1))\n",
    "transformed_data = scaler.transform(Data_encoded.drop('credit.policy', axis=1))"
   ]
  },
  {
   "cell_type": "code",
   "execution_count": 20,
   "metadata": {},
   "outputs": [
    {
     "ename": "ValueError",
     "evalue": "could not convert string to float: 'credit_card'",
     "output_type": "error",
     "traceback": [
      "\u001b[0;31m---------------------------------------------------------------------------\u001b[0m",
      "\u001b[0;31mValueError\u001b[0m                                Traceback (most recent call last)",
      "\u001b[0;32m/var/folders/gt/sfkj2f7j4wg1244sc_t5ddmm0000gn/T/ipykernel_32968/109391533.py\u001b[0m in \u001b[0;36m<module>\u001b[0;34m\u001b[0m\n\u001b[1;32m      5\u001b[0m \u001b[0;34m\u001b[0m\u001b[0m\n\u001b[1;32m      6\u001b[0m \u001b[0;31m# Fit the scaler to the data\u001b[0m\u001b[0;34m\u001b[0m\u001b[0;34m\u001b[0m\u001b[0m\n\u001b[0;32m----> 7\u001b[0;31m \u001b[0mscaler\u001b[0m\u001b[0;34m.\u001b[0m\u001b[0mfit\u001b[0m\u001b[0;34m(\u001b[0m\u001b[0mData\u001b[0m\u001b[0;34m.\u001b[0m\u001b[0mdrop\u001b[0m\u001b[0;34m(\u001b[0m\u001b[0;34m'credit.policy'\u001b[0m\u001b[0;34m,\u001b[0m \u001b[0maxis\u001b[0m\u001b[0;34m=\u001b[0m\u001b[0;36m1\u001b[0m\u001b[0;34m)\u001b[0m\u001b[0;34m)\u001b[0m\u001b[0;34m\u001b[0m\u001b[0;34m\u001b[0m\u001b[0m\n\u001b[0m\u001b[1;32m      8\u001b[0m \u001b[0;34m\u001b[0m\u001b[0m\n\u001b[1;32m      9\u001b[0m \u001b[0;31m# Transform the data using the scaler\u001b[0m\u001b[0;34m\u001b[0m\u001b[0;34m\u001b[0m\u001b[0m\n",
      "\u001b[0;32m~/opt/anaconda3/lib/python3.9/site-packages/sklearn/preprocessing/_data.py\u001b[0m in \u001b[0;36mfit\u001b[0;34m(self, X, y, sample_weight)\u001b[0m\n\u001b[1;32m    804\u001b[0m         \u001b[0;31m# Reset internal state before fitting\u001b[0m\u001b[0;34m\u001b[0m\u001b[0;34m\u001b[0m\u001b[0m\n\u001b[1;32m    805\u001b[0m         \u001b[0mself\u001b[0m\u001b[0;34m.\u001b[0m\u001b[0m_reset\u001b[0m\u001b[0;34m(\u001b[0m\u001b[0;34m)\u001b[0m\u001b[0;34m\u001b[0m\u001b[0;34m\u001b[0m\u001b[0m\n\u001b[0;32m--> 806\u001b[0;31m         \u001b[0;32mreturn\u001b[0m \u001b[0mself\u001b[0m\u001b[0;34m.\u001b[0m\u001b[0mpartial_fit\u001b[0m\u001b[0;34m(\u001b[0m\u001b[0mX\u001b[0m\u001b[0;34m,\u001b[0m \u001b[0my\u001b[0m\u001b[0;34m,\u001b[0m \u001b[0msample_weight\u001b[0m\u001b[0;34m)\u001b[0m\u001b[0;34m\u001b[0m\u001b[0;34m\u001b[0m\u001b[0m\n\u001b[0m\u001b[1;32m    807\u001b[0m \u001b[0;34m\u001b[0m\u001b[0m\n\u001b[1;32m    808\u001b[0m     \u001b[0;32mdef\u001b[0m \u001b[0mpartial_fit\u001b[0m\u001b[0;34m(\u001b[0m\u001b[0mself\u001b[0m\u001b[0;34m,\u001b[0m \u001b[0mX\u001b[0m\u001b[0;34m,\u001b[0m \u001b[0my\u001b[0m\u001b[0;34m=\u001b[0m\u001b[0;32mNone\u001b[0m\u001b[0;34m,\u001b[0m \u001b[0msample_weight\u001b[0m\u001b[0;34m=\u001b[0m\u001b[0;32mNone\u001b[0m\u001b[0;34m)\u001b[0m\u001b[0;34m:\u001b[0m\u001b[0;34m\u001b[0m\u001b[0;34m\u001b[0m\u001b[0m\n",
      "\u001b[0;32m~/opt/anaconda3/lib/python3.9/site-packages/sklearn/preprocessing/_data.py\u001b[0m in \u001b[0;36mpartial_fit\u001b[0;34m(self, X, y, sample_weight)\u001b[0m\n\u001b[1;32m    839\u001b[0m         \"\"\"\n\u001b[1;32m    840\u001b[0m         \u001b[0mfirst_call\u001b[0m \u001b[0;34m=\u001b[0m \u001b[0;32mnot\u001b[0m \u001b[0mhasattr\u001b[0m\u001b[0;34m(\u001b[0m\u001b[0mself\u001b[0m\u001b[0;34m,\u001b[0m \u001b[0;34m\"n_samples_seen_\"\u001b[0m\u001b[0;34m)\u001b[0m\u001b[0;34m\u001b[0m\u001b[0;34m\u001b[0m\u001b[0m\n\u001b[0;32m--> 841\u001b[0;31m         X = self._validate_data(\n\u001b[0m\u001b[1;32m    842\u001b[0m             \u001b[0mX\u001b[0m\u001b[0;34m,\u001b[0m\u001b[0;34m\u001b[0m\u001b[0;34m\u001b[0m\u001b[0m\n\u001b[1;32m    843\u001b[0m             \u001b[0maccept_sparse\u001b[0m\u001b[0;34m=\u001b[0m\u001b[0;34m(\u001b[0m\u001b[0;34m\"csr\"\u001b[0m\u001b[0;34m,\u001b[0m \u001b[0;34m\"csc\"\u001b[0m\u001b[0;34m)\u001b[0m\u001b[0;34m,\u001b[0m\u001b[0;34m\u001b[0m\u001b[0;34m\u001b[0m\u001b[0m\n",
      "\u001b[0;32m~/opt/anaconda3/lib/python3.9/site-packages/sklearn/base.py\u001b[0m in \u001b[0;36m_validate_data\u001b[0;34m(self, X, y, reset, validate_separately, **check_params)\u001b[0m\n\u001b[1;32m    564\u001b[0m             \u001b[0;32mraise\u001b[0m \u001b[0mValueError\u001b[0m\u001b[0;34m(\u001b[0m\u001b[0;34m\"Validation should be done on X, y or both.\"\u001b[0m\u001b[0;34m)\u001b[0m\u001b[0;34m\u001b[0m\u001b[0;34m\u001b[0m\u001b[0m\n\u001b[1;32m    565\u001b[0m         \u001b[0;32melif\u001b[0m \u001b[0;32mnot\u001b[0m \u001b[0mno_val_X\u001b[0m \u001b[0;32mand\u001b[0m \u001b[0mno_val_y\u001b[0m\u001b[0;34m:\u001b[0m\u001b[0;34m\u001b[0m\u001b[0;34m\u001b[0m\u001b[0m\n\u001b[0;32m--> 566\u001b[0;31m             \u001b[0mX\u001b[0m \u001b[0;34m=\u001b[0m \u001b[0mcheck_array\u001b[0m\u001b[0;34m(\u001b[0m\u001b[0mX\u001b[0m\u001b[0;34m,\u001b[0m \u001b[0;34m**\u001b[0m\u001b[0mcheck_params\u001b[0m\u001b[0;34m)\u001b[0m\u001b[0;34m\u001b[0m\u001b[0;34m\u001b[0m\u001b[0m\n\u001b[0m\u001b[1;32m    567\u001b[0m             \u001b[0mout\u001b[0m \u001b[0;34m=\u001b[0m \u001b[0mX\u001b[0m\u001b[0;34m\u001b[0m\u001b[0;34m\u001b[0m\u001b[0m\n\u001b[1;32m    568\u001b[0m         \u001b[0;32melif\u001b[0m \u001b[0mno_val_X\u001b[0m \u001b[0;32mand\u001b[0m \u001b[0;32mnot\u001b[0m \u001b[0mno_val_y\u001b[0m\u001b[0;34m:\u001b[0m\u001b[0;34m\u001b[0m\u001b[0;34m\u001b[0m\u001b[0m\n",
      "\u001b[0;32m~/opt/anaconda3/lib/python3.9/site-packages/sklearn/utils/validation.py\u001b[0m in \u001b[0;36mcheck_array\u001b[0;34m(array, accept_sparse, accept_large_sparse, dtype, order, copy, force_all_finite, ensure_2d, allow_nd, ensure_min_samples, ensure_min_features, estimator)\u001b[0m\n\u001b[1;32m    744\u001b[0m                     \u001b[0marray\u001b[0m \u001b[0;34m=\u001b[0m \u001b[0marray\u001b[0m\u001b[0;34m.\u001b[0m\u001b[0mastype\u001b[0m\u001b[0;34m(\u001b[0m\u001b[0mdtype\u001b[0m\u001b[0;34m,\u001b[0m \u001b[0mcasting\u001b[0m\u001b[0;34m=\u001b[0m\u001b[0;34m\"unsafe\"\u001b[0m\u001b[0;34m,\u001b[0m \u001b[0mcopy\u001b[0m\u001b[0;34m=\u001b[0m\u001b[0;32mFalse\u001b[0m\u001b[0;34m)\u001b[0m\u001b[0;34m\u001b[0m\u001b[0;34m\u001b[0m\u001b[0m\n\u001b[1;32m    745\u001b[0m                 \u001b[0;32melse\u001b[0m\u001b[0;34m:\u001b[0m\u001b[0;34m\u001b[0m\u001b[0;34m\u001b[0m\u001b[0m\n\u001b[0;32m--> 746\u001b[0;31m                     \u001b[0marray\u001b[0m \u001b[0;34m=\u001b[0m \u001b[0mnp\u001b[0m\u001b[0;34m.\u001b[0m\u001b[0masarray\u001b[0m\u001b[0;34m(\u001b[0m\u001b[0marray\u001b[0m\u001b[0;34m,\u001b[0m \u001b[0morder\u001b[0m\u001b[0;34m=\u001b[0m\u001b[0morder\u001b[0m\u001b[0;34m,\u001b[0m \u001b[0mdtype\u001b[0m\u001b[0;34m=\u001b[0m\u001b[0mdtype\u001b[0m\u001b[0;34m)\u001b[0m\u001b[0;34m\u001b[0m\u001b[0;34m\u001b[0m\u001b[0m\n\u001b[0m\u001b[1;32m    747\u001b[0m             \u001b[0;32mexcept\u001b[0m \u001b[0mComplexWarning\u001b[0m \u001b[0;32mas\u001b[0m \u001b[0mcomplex_warning\u001b[0m\u001b[0;34m:\u001b[0m\u001b[0;34m\u001b[0m\u001b[0;34m\u001b[0m\u001b[0m\n\u001b[1;32m    748\u001b[0m                 raise ValueError(\n",
      "\u001b[0;32m~/opt/anaconda3/lib/python3.9/site-packages/pandas/core/generic.py\u001b[0m in \u001b[0;36m__array__\u001b[0;34m(self, dtype)\u001b[0m\n\u001b[1;32m   2062\u001b[0m \u001b[0;34m\u001b[0m\u001b[0m\n\u001b[1;32m   2063\u001b[0m     \u001b[0;32mdef\u001b[0m \u001b[0m__array__\u001b[0m\u001b[0;34m(\u001b[0m\u001b[0mself\u001b[0m\u001b[0;34m,\u001b[0m \u001b[0mdtype\u001b[0m\u001b[0;34m:\u001b[0m \u001b[0mnpt\u001b[0m\u001b[0;34m.\u001b[0m\u001b[0mDTypeLike\u001b[0m \u001b[0;34m|\u001b[0m \u001b[0;32mNone\u001b[0m \u001b[0;34m=\u001b[0m \u001b[0;32mNone\u001b[0m\u001b[0;34m)\u001b[0m \u001b[0;34m->\u001b[0m \u001b[0mnp\u001b[0m\u001b[0;34m.\u001b[0m\u001b[0mndarray\u001b[0m\u001b[0;34m:\u001b[0m\u001b[0;34m\u001b[0m\u001b[0;34m\u001b[0m\u001b[0m\n\u001b[0;32m-> 2064\u001b[0;31m         \u001b[0;32mreturn\u001b[0m \u001b[0mnp\u001b[0m\u001b[0;34m.\u001b[0m\u001b[0masarray\u001b[0m\u001b[0;34m(\u001b[0m\u001b[0mself\u001b[0m\u001b[0;34m.\u001b[0m\u001b[0m_values\u001b[0m\u001b[0;34m,\u001b[0m \u001b[0mdtype\u001b[0m\u001b[0;34m=\u001b[0m\u001b[0mdtype\u001b[0m\u001b[0;34m)\u001b[0m\u001b[0;34m\u001b[0m\u001b[0;34m\u001b[0m\u001b[0m\n\u001b[0m\u001b[1;32m   2065\u001b[0m \u001b[0;34m\u001b[0m\u001b[0m\n\u001b[1;32m   2066\u001b[0m     def __array_wrap__(\n",
      "\u001b[0;31mValueError\u001b[0m: could not convert string to float: 'credit_card'"
     ]
    }
   ],
   "source": [
    "from sklearn.preprocessing import StandardScaler\n",
    "\n",
    "# Create a scaler object\n",
    "scaler = StandardScaler()\n",
    "\n",
    "# Fit the scaler to the data\n",
    "scaler.fit(Data.drop('credit.policy', axis=1))\n",
    "\n",
    "# Transform the data using the scaler\n",
    "scaled_data = scaler.transform(Data.drop('credit.policy', axis=1))\n",
    "\n",
    "# Convert the scaled data back into a pandas dataframe\n",
    "Data_scaled = pd.DataFrame(scaled_data, columns=Data.columns[1:])\n",
    "Data_scaled['credit.policy'] = Data['credit.policy']\n",
    "\n",
    "# Check the scaled data\n",
    "print(Data_scaled.head())"
   ]
  },
  {
   "cell_type": "code",
   "execution_count": 61,
   "metadata": {},
   "outputs": [
    {
     "ename": "NameError",
     "evalue": "name 'X_val' is not defined",
     "output_type": "error",
     "traceback": [
      "\u001b[0;31m---------------------------------------------------------------------------\u001b[0m",
      "\u001b[0;31mNameError\u001b[0m                                 Traceback (most recent call last)",
      "\u001b[0;32m/var/folders/gt/sfkj2f7j4wg1244sc_t5ddmm0000gn/T/ipykernel_32968/1414635524.py\u001b[0m in \u001b[0;36m<module>\u001b[0;34m\u001b[0m\n\u001b[1;32m     11\u001b[0m \u001b[0;34m\u001b[0m\u001b[0m\n\u001b[1;32m     12\u001b[0m \u001b[0;31m# transform the validation set\u001b[0m\u001b[0;34m\u001b[0m\u001b[0;34m\u001b[0m\u001b[0m\n\u001b[0;32m---> 13\u001b[0;31m \u001b[0mX_val\u001b[0m\u001b[0;34m[\u001b[0m\u001b[0mcols_to_scale\u001b[0m\u001b[0;34m]\u001b[0m \u001b[0;34m=\u001b[0m \u001b[0mscaler\u001b[0m\u001b[0;34m.\u001b[0m\u001b[0mtransform\u001b[0m\u001b[0;34m(\u001b[0m\u001b[0mX_val\u001b[0m\u001b[0;34m[\u001b[0m\u001b[0mcols_to_scale\u001b[0m\u001b[0;34m]\u001b[0m\u001b[0;34m)\u001b[0m\u001b[0;34m\u001b[0m\u001b[0;34m\u001b[0m\u001b[0m\n\u001b[0m\u001b[1;32m     14\u001b[0m \u001b[0;34m\u001b[0m\u001b[0m\n\u001b[1;32m     15\u001b[0m \u001b[0;31m# transform the test set\u001b[0m\u001b[0;34m\u001b[0m\u001b[0;34m\u001b[0m\u001b[0m\n",
      "\u001b[0;31mNameError\u001b[0m: name 'X_val' is not defined"
     ]
    }
   ],
   "source": [
    "from sklearn.preprocessing import StandardScaler\n",
    "\n",
    "# select the columns to be standardized\n",
    "cols_to_scale = ['int.rate', 'installment', 'log.annual.inc', 'dti', 'fico', 'days.with.cr.line', 'revol.bal', 'revol.util', 'inq.last.6mths', 'delinq.2yrs', 'pub.rec']\n",
    "\n",
    "# create a StandardScaler object\n",
    "scaler = StandardScaler()\n",
    "\n",
    "# fit and transform the training set\n",
    "X_train[cols_to_scale] = scaler.fit_transform(X_train[cols_to_scale])\n",
    "\n",
    "# transform the validation set\n",
    "X_val[cols_to_scale] = scaler.transform(X_val[cols_to_scale])\n",
    "\n",
    "# transform the test set\n",
    "X_test[cols_to_scale] = scaler.transform(X_test[cols_to_scale])\n"
   ]
  },
  {
   "cell_type": "code",
   "execution_count": 62,
   "metadata": {},
   "outputs": [
    {
     "ename": "NameError",
     "evalue": "name 'X_val' is not defined",
     "output_type": "error",
     "traceback": [
      "\u001b[0;31m---------------------------------------------------------------------------\u001b[0m",
      "\u001b[0;31mNameError\u001b[0m                                 Traceback (most recent call last)",
      "\u001b[0;32m/var/folders/gt/sfkj2f7j4wg1244sc_t5ddmm0000gn/T/ipykernel_32968/810955201.py\u001b[0m in \u001b[0;36m<module>\u001b[0;34m\u001b[0m\n\u001b[1;32m     11\u001b[0m \u001b[0;34m\u001b[0m\u001b[0m\n\u001b[1;32m     12\u001b[0m \u001b[0;31m# transform the validation set\u001b[0m\u001b[0;34m\u001b[0m\u001b[0;34m\u001b[0m\u001b[0m\n\u001b[0;32m---> 13\u001b[0;31m \u001b[0mX_val\u001b[0m\u001b[0;34m[\u001b[0m\u001b[0mcols_to_scale\u001b[0m\u001b[0;34m]\u001b[0m \u001b[0;34m=\u001b[0m \u001b[0mscaler\u001b[0m\u001b[0;34m.\u001b[0m\u001b[0mtransform\u001b[0m\u001b[0;34m(\u001b[0m\u001b[0mX_val\u001b[0m\u001b[0;34m[\u001b[0m\u001b[0mcols_to_scale\u001b[0m\u001b[0;34m]\u001b[0m\u001b[0;34m)\u001b[0m\u001b[0;34m\u001b[0m\u001b[0;34m\u001b[0m\u001b[0m\n\u001b[0m\u001b[1;32m     14\u001b[0m \u001b[0;34m\u001b[0m\u001b[0m\n\u001b[1;32m     15\u001b[0m \u001b[0;31m# transform the test set\u001b[0m\u001b[0;34m\u001b[0m\u001b[0;34m\u001b[0m\u001b[0m\n",
      "\u001b[0;31mNameError\u001b[0m: name 'X_val' is not defined"
     ]
    }
   ],
   "source": [
    "from sklearn.preprocessing import StandardScaler\n",
    "\n",
    "# define the columns to scale\n",
    "cols_to_scale = ['int.rate', 'installment', 'log.annual.inc', 'dti', 'fico', 'days.with.cr.line', 'revol.bal', 'revol.util', 'inq.last.6mths', 'delinq.2yrs', 'pub.rec']\n",
    "\n",
    "# fit the scaler on the training set\n",
    "scaler = StandardScaler().fit(X_train[cols_to_scale])\n",
    "\n",
    "# transform the training set\n",
    "X_train[cols_to_scale] = scaler.transform(X_train[cols_to_scale])\n",
    "\n",
    "# transform the validation set\n",
    "X_val[cols_to_scale] = scaler.transform(X_val[cols_to_scale])\n",
    "\n",
    "# transform the test set\n",
    "X_test[cols_to_scale] = scaler.transform(X_test[cols_to_scale])\n"
   ]
  },
  {
   "cell_type": "code",
   "execution_count": 63,
   "metadata": {},
   "outputs": [
    {
     "ename": "NameError",
     "evalue": "name 'X_val' is not defined",
     "output_type": "error",
     "traceback": [
      "\u001b[0;31m---------------------------------------------------------------------------\u001b[0m",
      "\u001b[0;31mNameError\u001b[0m                                 Traceback (most recent call last)",
      "\u001b[0;32m/var/folders/gt/sfkj2f7j4wg1244sc_t5ddmm0000gn/T/ipykernel_32968/417383962.py\u001b[0m in \u001b[0;36m<module>\u001b[0;34m\u001b[0m\n\u001b[1;32m     14\u001b[0m \u001b[0;34m\u001b[0m\u001b[0m\n\u001b[1;32m     15\u001b[0m \u001b[0;31m# transform the validation set\u001b[0m\u001b[0;34m\u001b[0m\u001b[0;34m\u001b[0m\u001b[0m\n\u001b[0;32m---> 16\u001b[0;31m \u001b[0mX_val\u001b[0m\u001b[0;34m[\u001b[0m\u001b[0mcols_to_scale\u001b[0m\u001b[0;34m]\u001b[0m \u001b[0;34m=\u001b[0m \u001b[0mscaler\u001b[0m\u001b[0;34m.\u001b[0m\u001b[0mtransform\u001b[0m\u001b[0;34m(\u001b[0m\u001b[0mX_val\u001b[0m\u001b[0;34m[\u001b[0m\u001b[0mcols_to_scale\u001b[0m\u001b[0;34m]\u001b[0m\u001b[0;34m)\u001b[0m\u001b[0;34m\u001b[0m\u001b[0;34m\u001b[0m\u001b[0m\n\u001b[0m\u001b[1;32m     17\u001b[0m \u001b[0;34m\u001b[0m\u001b[0m\n\u001b[1;32m     18\u001b[0m \u001b[0;31m# transform the test set\u001b[0m\u001b[0;34m\u001b[0m\u001b[0;34m\u001b[0m\u001b[0m\n",
      "\u001b[0;31mNameError\u001b[0m: name 'X_val' is not defined"
     ]
    }
   ],
   "source": [
    "from sklearn.preprocessing import StandardScaler\n",
    "\n",
    "# define columns to scale\n",
    "cols_to_scale = ['int.rate', 'installment', 'log.annual.inc', 'dti', 'fico', 'days.with.cr.line', 'revol.bal', 'revol.util', 'inq.last.6mths', 'delinq.2yrs', 'pub.rec']\n",
    "\n",
    "# create the scaler object\n",
    "scaler = StandardScaler()\n",
    "\n",
    "# fit the scaler on the training set\n",
    "scaler.fit(X_train[cols_to_scale])\n",
    "\n",
    "# transform the training set\n",
    "X_train[cols_to_scale] = scaler.transform(X_train[cols_to_scale])\n",
    "\n",
    "# transform the validation set\n",
    "X_val[cols_to_scale] = scaler.transform(X_val[cols_to_scale])\n",
    "\n",
    "# transform the test set\n",
    "X_test[cols_to_scale] = scaler.transform(X_test[cols_to_scale])\n"
   ]
  },
  {
   "cell_type": "code",
   "execution_count": 66,
   "metadata": {},
   "outputs": [],
   "source": [
    "from sklearn.preprocessing import StandardScaler\n",
    "\n",
    "# define your validation set\n",
    "X_val = Data.sample(frac=0.1, random_state=42)\n",
    "y_val = X_val.pop('not.fully.paid')\n",
    "\n",
    "# define the columns to scale\n",
    "cols_to_scale = ['int.rate', 'installment', 'log.annual.inc', 'dti', 'fico', 'days.with.cr.line', 'revol.bal', 'revol.util', 'inq.last.6mths', 'delinq.2yrs', 'pub.rec']\n",
    "\n",
    "# instantiate the scaler\n",
    "scaler = StandardScaler()\n",
    "\n",
    "# fit the scaler on the training set\n",
    "scaler.fit(X_train[cols_to_scale])\n",
    "\n",
    "# transform the training set\n",
    "X_train[cols_to_scale] = scaler.transform(X_train[cols_to_scale])\n",
    "\n",
    "# transform the validation set\n",
    "X_val[cols_to_scale] = scaler.transform(X_val[cols_to_scale])\n",
    "\n",
    "# transform the test set\n",
    "X_test[cols_to_scale] = scaler.transform(X_test[cols_to_scale])\n"
   ]
  },
  {
   "cell_type": "code",
   "execution_count": 60,
   "metadata": {},
   "outputs": [],
   "source": [
    "from sklearn.preprocessing import StandardScaler\n",
    "\n",
    "# Create an instance of StandardScaler\n",
    "scaler = StandardScaler()\n",
    "\n",
    "# Fit the scaler to the data\n",
    "scaler.fit(Data.select_dtypes(include='number').drop(['credit.policy'], axis=1))\n",
    "\n",
    "# Transform the data using the scaler\n",
    "Data_scaled = Data.copy()\n",
    "Data_scaled[Data.select_dtypes(include='number').drop(['credit.policy'], axis=1).columns] = scaler.transform(Data.select_dtypes(include='number').drop(['credit.policy'], axis=1))\n"
   ]
  },
  {
   "cell_type": "code",
   "execution_count": 23,
   "metadata": {},
   "outputs": [
    {
     "data": {
      "text/html": [
       "<div>\n",
       "<style scoped>\n",
       "    .dataframe tbody tr th:only-of-type {\n",
       "        vertical-align: middle;\n",
       "    }\n",
       "\n",
       "    .dataframe tbody tr th {\n",
       "        vertical-align: top;\n",
       "    }\n",
       "\n",
       "    .dataframe thead th {\n",
       "        text-align: right;\n",
       "    }\n",
       "</style>\n",
       "<table border=\"1\" class=\"dataframe\">\n",
       "  <thead>\n",
       "    <tr style=\"text-align: right;\">\n",
       "      <th></th>\n",
       "      <th>credit.policy</th>\n",
       "      <th>purpose</th>\n",
       "      <th>int.rate</th>\n",
       "      <th>installment</th>\n",
       "      <th>log.annual.inc</th>\n",
       "      <th>dti</th>\n",
       "      <th>fico</th>\n",
       "      <th>days.with.cr.line</th>\n",
       "      <th>revol.bal</th>\n",
       "      <th>revol.util</th>\n",
       "      <th>inq.last.6mths</th>\n",
       "      <th>delinq.2yrs</th>\n",
       "      <th>pub.rec</th>\n",
       "      <th>not.fully.paid</th>\n",
       "    </tr>\n",
       "  </thead>\n",
       "  <tbody>\n",
       "    <tr>\n",
       "      <th>1</th>\n",
       "      <td>1</td>\n",
       "      <td>credit_card</td>\n",
       "      <td>-0.596898</td>\n",
       "      <td>-0.457094</td>\n",
       "      <td>0.244448</td>\n",
       "      <td>0.213713</td>\n",
       "      <td>-0.104493</td>\n",
       "      <td>-0.335088</td>\n",
       "      <td>0.501048</td>\n",
       "      <td>1.000163</td>\n",
       "      <td>-0.829003</td>\n",
       "      <td>-0.325972</td>\n",
       "      <td>-0.243016</td>\n",
       "      <td>-0.430777</td>\n",
       "    </tr>\n",
       "    <tr>\n",
       "      <th>2</th>\n",
       "      <td>1</td>\n",
       "      <td>debt_consolidation</td>\n",
       "      <td>0.529201</td>\n",
       "      <td>0.217444</td>\n",
       "      <td>-0.936557</td>\n",
       "      <td>-0.177693</td>\n",
       "      <td>-0.780301</td>\n",
       "      <td>84.018646</td>\n",
       "      <td>-0.425854</td>\n",
       "      <td>-0.817685</td>\n",
       "      <td>-0.251072</td>\n",
       "      <td>-0.325972</td>\n",
       "      <td>-0.243016</td>\n",
       "      <td>-0.430777</td>\n",
       "    </tr>\n",
       "    <tr>\n",
       "      <th>3</th>\n",
       "      <td>1</td>\n",
       "      <td>debt_consolidation</td>\n",
       "      <td>-0.844955</td>\n",
       "      <td>-0.777626</td>\n",
       "      <td>0.691524</td>\n",
       "      <td>-0.697116</td>\n",
       "      <td>0.030669</td>\n",
       "      <td>-0.345904</td>\n",
       "      <td>0.502402</td>\n",
       "      <td>0.875653</td>\n",
       "      <td>-0.251072</td>\n",
       "      <td>-0.325972</td>\n",
       "      <td>-0.243016</td>\n",
       "      <td>-0.430777</td>\n",
       "    </tr>\n",
       "    <tr>\n",
       "      <th>4</th>\n",
       "      <td>1</td>\n",
       "      <td>credit_card</td>\n",
       "      <td>0.800883</td>\n",
       "      <td>-1.066727</td>\n",
       "      <td>0.607073</td>\n",
       "      <td>0.313772</td>\n",
       "      <td>-1.185786</td>\n",
       "      <td>-0.099811</td>\n",
       "      <td>-0.388023</td>\n",
       "      <td>-0.323202</td>\n",
       "      <td>-0.829003</td>\n",
       "      <td>2.253443</td>\n",
       "      <td>-0.243016</td>\n",
       "      <td>-0.430777</td>\n",
       "    </tr>\n",
       "    <tr>\n",
       "      <th>5</th>\n",
       "      <td>1</td>\n",
       "      <td>credit_card</td>\n",
       "      <td>-1.711186</td>\n",
       "      <td>-0.958667</td>\n",
       "      <td>1.615730</td>\n",
       "      <td>0.609534</td>\n",
       "      <td>0.436154</td>\n",
       "      <td>0.270226</td>\n",
       "      <td>1.030003</td>\n",
       "      <td>0.085903</td>\n",
       "      <td>-0.829003</td>\n",
       "      <td>-0.325972</td>\n",
       "      <td>-0.243016</td>\n",
       "      <td>-0.430777</td>\n",
       "    </tr>\n",
       "  </tbody>\n",
       "</table>\n",
       "</div>"
      ],
      "text/plain": [
       "   credit.policy             purpose  int.rate  installment  log.annual.inc  \\\n",
       "1              1         credit_card -0.596898    -0.457094        0.244448   \n",
       "2              1  debt_consolidation  0.529201     0.217444       -0.936557   \n",
       "3              1  debt_consolidation -0.844955    -0.777626        0.691524   \n",
       "4              1         credit_card  0.800883    -1.066727        0.607073   \n",
       "5              1         credit_card -1.711186    -0.958667        1.615730   \n",
       "\n",
       "        dti      fico  days.with.cr.line  revol.bal  revol.util  \\\n",
       "1  0.213713 -0.104493          -0.335088   0.501048    1.000163   \n",
       "2 -0.177693 -0.780301          84.018646  -0.425854   -0.817685   \n",
       "3 -0.697116  0.030669          -0.345904   0.502402    0.875653   \n",
       "4  0.313772 -1.185786          -0.099811  -0.388023   -0.323202   \n",
       "5  0.609534  0.436154           0.270226   1.030003    0.085903   \n",
       "\n",
       "   inq.last.6mths  delinq.2yrs   pub.rec  not.fully.paid  \n",
       "1       -0.829003    -0.325972 -0.243016       -0.430777  \n",
       "2       -0.251072    -0.325972 -0.243016       -0.430777  \n",
       "3       -0.251072    -0.325972 -0.243016       -0.430777  \n",
       "4       -0.829003     2.253443 -0.243016       -0.430777  \n",
       "5       -0.829003    -0.325972 -0.243016       -0.430777  "
      ]
     },
     "execution_count": 23,
     "metadata": {},
     "output_type": "execute_result"
    }
   ],
   "source": [
    "Data_scaled.head()"
   ]
  },
  {
   "cell_type": "code",
   "execution_count": 24,
   "metadata": {},
   "outputs": [
    {
     "data": {
      "text/plain": [
       "Index(['credit.policy', 'purpose', 'int.rate', 'installment', 'log.annual.inc',\n",
       "       'dti', 'fico', 'days.with.cr.line', 'revol.bal', 'revol.util',\n",
       "       'inq.last.6mths', 'delinq.2yrs', 'pub.rec', 'not.fully.paid'],\n",
       "      dtype='object')"
      ]
     },
     "execution_count": 24,
     "metadata": {},
     "output_type": "execute_result"
    }
   ],
   "source": [
    "Data_scaled.columns"
   ]
  },
  {
   "cell_type": "markdown",
   "metadata": {},
   "source": [
    "## Model Evaluation\n",
    "In this stage, we are going to train a logistic regression model. Cross validation will be used to determine hyper-parameters and evaluate model performance.\n"
   ]
  },
  {
   "cell_type": "markdown",
   "metadata": {},
   "source": [
    "### Logistic Regression Model\n",
    "\n",
    "## Task 5: Train a Logistic Regression Model with training dataset."
   ]
  },
  {
   "cell_type": "code",
   "execution_count": 25,
   "metadata": {},
   "outputs": [],
   "source": [
    "from sklearn.linear_model import LogisticRegression\n",
    "model_log = LogisticRegression()"
   ]
  },
  {
   "cell_type": "code",
   "execution_count": 27,
   "metadata": {},
   "outputs": [],
   "source": [
    "# Fill missing values with the mean of the respective column\n",
    "Data.fillna(Data.mean(), inplace=True)\n"
   ]
  },
  {
   "cell_type": "code",
   "execution_count": 28,
   "metadata": {},
   "outputs": [],
   "source": [
    "# Drop the rows with missing values\n",
    "Data.dropna(inplace=True)\n"
   ]
  },
  {
   "cell_type": "code",
   "execution_count": 32,
   "metadata": {},
   "outputs": [
    {
     "name": "stdout",
     "output_type": "stream",
     "text": [
      "1    8044\n",
      "0    1534\n",
      "Name: not.fully.paid, dtype: int64\n"
     ]
    }
   ],
   "source": [
    "# Convert 'not.fully.paid' variable to binary\n",
    "Data['not.fully.paid'] = Data['not.fully.paid'].apply(lambda x: 1 if x == 0 else 0)\n",
    "\n",
    "# Check the distribution of the target variable\n",
    "print(Data['not.fully.paid'].value_counts())\n"
   ]
  },
  {
   "cell_type": "code",
   "execution_count": 33,
   "metadata": {},
   "outputs": [
    {
     "name": "stdout",
     "output_type": "stream",
     "text": [
      "              precision    recall  f1-score   support\n",
      "\n",
      "           0       0.67      0.00      0.01       467\n",
      "           1       0.84      1.00      0.91      2407\n",
      "\n",
      "    accuracy                           0.84      2874\n",
      "   macro avg       0.75      0.50      0.46      2874\n",
      "weighted avg       0.81      0.84      0.76      2874\n",
      "\n",
      "[[   2  465]\n",
      " [   1 2406]]\n"
     ]
    }
   ],
   "source": [
    "X = Data.drop('not.fully.paid', axis=1)\n",
    "y = Data['not.fully.paid']\n",
    "\n",
    "X_train, X_test, y_train, y_test = train_test_split(X, y, test_size=0.3, random_state=42)\n",
    "\n",
    "# Train the logistic regression model\n",
    "log_model = LogisticRegression()\n",
    "log_model.fit(X_train, y_train)\n",
    "predictions = log_model.predict(X_test)\n",
    "\n",
    "# Print the classification report and confusion matrix\n",
    "print(classification_report(y_test, predictions))\n",
    "print(confusion_matrix(y_test, predictions))\n"
   ]
  },
  {
   "cell_type": "code",
   "execution_count": 34,
   "metadata": {},
   "outputs": [
    {
     "name": "stdout",
     "output_type": "stream",
     "text": [
      "              precision    recall  f1-score   support\n",
      "\n",
      "           0       0.67      0.00      0.01       467\n",
      "           1       0.84      1.00      0.91      2407\n",
      "\n",
      "    accuracy                           0.84      2874\n",
      "   macro avg       0.75      0.50      0.46      2874\n",
      "weighted avg       0.81      0.84      0.76      2874\n",
      "\n",
      "[[   2  465]\n",
      " [   1 2406]]\n"
     ]
    }
   ],
   "source": [
    "from sklearn.linear_model import LogisticRegression\n",
    "from sklearn.model_selection import train_test_split\n",
    "from sklearn.metrics import classification_report, confusion_matrix\n",
    "\n",
    "# Split the dataset into training and testing dataset\n",
    "X_train, X_test, y_train, y_test = train_test_split(X, y, test_size=0.3, random_state=42)\n",
    "\n",
    "# Train the logistic regression model\n",
    "logmodel = LogisticRegression()\n",
    "logmodel.fit(X_train, y_train)\n",
    "\n",
    "# Predict the output for testing dataset\n",
    "predictions = logmodel.predict(X_test)\n",
    "\n",
    "# Print the classification report and confusion matrix\n",
    "print(classification_report(y_test,predictions))\n",
    "print(confusion_matrix(y_test,predictions))\n"
   ]
  },
  {
   "cell_type": "markdown",
   "metadata": {},
   "source": [
    "\n",
    "## Task 6: To better understand our result, we visualize the performance evluation by comparing the model accuracy of the Logistic Regression model on the training dataset and each validation dataset."
   ]
  },
  {
   "cell_type": "code",
   "execution_count": 46,
   "metadata": {},
   "outputs": [],
   "source": [
    "X_val1, y_val1 = X_train[:1000], y_train[:1000]\n",
    "X_val2, y_val2 = X_train[1000:2000], y_train[1000:2000]\n",
    "X_val3, y_val3 = X_train[2000:3000], y_train[1000:2000]\n"
   ]
  },
  {
   "cell_type": "code",
   "execution_count": 47,
   "metadata": {},
   "outputs": [
    {
     "data": {
      "image/png": "[encoded data removed]",
      "text/plain": [
       "<Figure size 640x480 with 1 Axes>"
      ]
     },
     "metadata": {},
     "output_type": "display_data"
    }
   ],
   "source": [
    "# Define the logistic regression model\n",
    "lr = LogisticRegression()\n",
    "\n",
    "# Fit the model on the training dataset\n",
    "lr.fit(X_train, y_train)\n",
    "\n",
    "# Define the accuracies\n",
    "accuracies = [lr.score(X_train, y_train), lr.score(X_val1, y_val1), lr.score(X_val2, y_val2), lr.score(X_val3, y_val3)]\n",
    "\n",
    "# Create a bar chart\n",
    "plt.bar(['Training', 'Validation 1', 'Validation 2', 'Validation 3'], accuracies)\n",
    "plt.ylim([0, 1])\n",
    "plt.title('Model Accuracy')\n",
    "plt.show()\n"
   ]
  },
  {
   "cell_type": "code",
   "execution_count": 48,
   "metadata": {},
   "outputs": [
    {
     "data": {
      "image/png": "[encoded data removed]",
      "text/plain": [
       "<Figure size 640x480 with 1 Axes>"
      ]
     },
     "metadata": {},
     "output_type": "display_data"
    }
   ],
   "source": [
    "import matplotlib.pyplot as plt\n",
    "\n",
    "# Define the datasets\n",
    "datasets = ['Training', 'Validation 1', 'Validation 2', 'Validation 3']\n",
    "\n",
    "# Define the accuracies\n",
    "accuracies = [lr.score(X_train, y_train), lr.score(X_val1, y_val1), lr.score(X_val2, y_val2), lr.score(X_val3, y_val3)]\n",
    "\n",
    "# Create a bar chart\n",
    "plt.bar(datasets, accuracies)\n",
    "\n",
    "# Add labels to the chart\n",
    "plt.title('Logistic Regression Model Performance')\n",
    "plt.xlabel('Dataset')\n",
    "plt.ylabel('Accuracy')\n",
    "\n",
    "# Show the chart\n",
    "plt.show()\n"
   ]
  },
  {
   "cell_type": "markdown",
   "metadata": {},
   "source": [
    "From the visualised results, we can observe that the model prediction performance is very good. The accuracy on validation dataset is only slightly lower than the accuracy on the training dataset. This result is convincing since we have conducted 9 fold cross validation. Our cross validation indicates that we have obtained an accurate model. \n",
    "\n",
    "## Note that the test dataset is not used for evaluation. Since there is no hyperparameter in the Logistic Regression model, the cross-validation has reflected the performance of the model on unknown datasets. "
   ]
  },
  {
   "cell_type": "raw",
   "metadata": {},
   "source": [
    "It is generally a good practice to use a separate test dataset for evaluating the final performance of the model. This is because the performance on the validation dataset used for tuning the model may not be indicative of the model's performance on completely unknown data.\n",
    "\n",
    "However, in this case, since there are no hyperparameters to tune in the Logistic Regression model, the cross-validation results can be used as an estimate of the model's performance on unknown data. But it's still important to keep in mind that the cross-validation results may not be as reliable as a completely independent test dataset evaluation."
   ]
  },
  {
   "cell_type": "markdown",
   "metadata": {},
   "source": []
  }
 ],
 "metadata": {
  "interpreter": {
   "hash": "8e980b1e5c4f905ff33d2cb8f08d2dc2e69699c1a22f6c50ca73e5f58ac4c746"
  },
  "kernelspec": {
   "display_name": "Python 3 (ipykernel)",
   "language": "python",
   "name": "python3"
  },
  "language_info": {
   "codemirror_mode": {
    "name": "ipython",
    "version": 3
   },
   "file_extension": ".py",
   "mimetype": "text/x-python",
   "name": "python",
   "nbconvert_exporter": "python",
   "pygments_lexer": "ipython3",
   "version": "3.9.13"
  }
 },
 "nbformat": 4,
 "nbformat_minor": 2
}
