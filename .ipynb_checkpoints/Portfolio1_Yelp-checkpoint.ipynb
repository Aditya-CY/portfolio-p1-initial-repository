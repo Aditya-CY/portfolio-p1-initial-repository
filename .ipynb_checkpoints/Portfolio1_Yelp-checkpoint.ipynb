{
 "cells": [
  {
   "cell_type": "markdown",
   "id": "379d9b3f",
   "metadata": {},
   "source": [
    "# Analysis of Yelp Data\n",
    "\n",
    "\n",
    "The Yelp dataset is a collection of user-generated reviews and associated data for businesses in various cities. The data includes information such as the business name, category, location, and rating, as well as the user ID and review text for each review. This data can be used to analyze patterns and trends in consumer behavior, business performance, and geographic locations. Additionally, the dataset provides an opportunity to explore the relationships between different variables, such as ratings, reviews, and business categories. This data can be leveraged to gain insights and make informed decisions in a variety of industries, including marketing, business management, and public policy.\n",
    "\n",
    "Description of the variables of the data used here.\n",
    "\n",
    "* __business_id__ - A unique identifier for each business in the dataset\n",
    "* __business_categories__ - A list of categories associated with the business\n",
    "* __business_city__ - The city where the business is located.\n",
    "* __user_id__ - A unique identifier for each user who has written a review.\n",
    "* __text__ - The text of the review.\n",
    "* __stars__ - The user's rating towards the business\n",
    "* __useful__ - The number of times the review was voted as useful.\n",
    "* __date__ - The date the review was posted."
   ]
  },
  {
   "cell_type": "code",
   "execution_count": 1,
   "id": "e88cebe3",
   "metadata": {},
   "outputs": [
    {
     "data": {
      "text/plain": [
       "'Aditya Choudhary'"
      ]
     },
     "execution_count": 1,
     "metadata": {},
     "output_type": "execute_result"
    }
   ],
   "source": [
    "# Student Name\n",
    "'Aditya Choudhary'"
   ]
  },
  {
   "cell_type": "code",
   "execution_count": 2,
   "id": "590b0384",
   "metadata": {},
   "outputs": [
    {
     "data": {
      "text/plain": [
       "'47680288'"
      ]
     },
     "execution_count": 2,
     "metadata": {},
     "output_type": "execute_result"
    }
   ],
   "source": [
    "#Student ID\n",
    "'47680288'"
   ]
  },
  {
   "cell_type": "code",
   "execution_count": 4,
   "id": "1e925207",
   "metadata": {},
   "outputs": [],
   "source": [
    "import pandas as pd\n",
    "import numpy as np\n",
    "import matplotlib as plt\n",
    "import seaborn as sns"
   ]
  },
  {
   "cell_type": "code",
   "execution_count": 7,
   "id": "3d204996",
   "metadata": {},
   "outputs": [
    {
     "data": {
      "text/html": [
       "<div>\n",
       "<style scoped>\n",
       "    .dataframe tbody tr th:only-of-type {\n",
       "        vertical-align: middle;\n",
       "    }\n",
       "\n",
       "    .dataframe tbody tr th {\n",
       "        vertical-align: top;\n",
       "    }\n",
       "\n",
       "    .dataframe thead th {\n",
       "        text-align: right;\n",
       "    }\n",
       "</style>\n",
       "<table border=\"1\" class=\"dataframe\">\n",
       "  <thead>\n",
       "    <tr style=\"text-align: right;\">\n",
       "      <th></th>\n",
       "      <th>business_categories</th>\n",
       "      <th>business_city</th>\n",
       "      <th>business_id</th>\n",
       "      <th>date</th>\n",
       "      <th>stars</th>\n",
       "      <th>text</th>\n",
       "      <th>useful</th>\n",
       "      <th>user_id</th>\n",
       "    </tr>\n",
       "  </thead>\n",
       "  <tbody>\n",
       "    <tr>\n",
       "      <th>0</th>\n",
       "      <td>Breakfast &amp; Brunch; Restaurants</td>\n",
       "      <td>Phoenix</td>\n",
       "      <td>9yKzy9PApeiPPOUJEtnvkg</td>\n",
       "      <td>26/1/2011</td>\n",
       "      <td>5</td>\n",
       "      <td>My wife took me here on my birthday for breakf...</td>\n",
       "      <td>5</td>\n",
       "      <td>rLtl8ZkDX5vH5nAx9C3q5Q</td>\n",
       "    </tr>\n",
       "    <tr>\n",
       "      <th>1</th>\n",
       "      <td>Italian; Pizza; Restaurants</td>\n",
       "      <td>Phoenix</td>\n",
       "      <td>ZRJwVLyzEJq1VAihDhYiow</td>\n",
       "      <td>27/7/2011</td>\n",
       "      <td>5</td>\n",
       "      <td>I have no idea why some people give bad review...</td>\n",
       "      <td>0</td>\n",
       "      <td>0a2KyEL0d3Yb1V6aivbIuQ</td>\n",
       "    </tr>\n",
       "    <tr>\n",
       "      <th>2</th>\n",
       "      <td>Middle Eastern; Restaurants</td>\n",
       "      <td>Tempe</td>\n",
       "      <td>6oRAC4uyJCsJl1X0WZpVSA</td>\n",
       "      <td>14/6/2012</td>\n",
       "      <td>4</td>\n",
       "      <td>love the gyro plate. Rice is so good and I als...</td>\n",
       "      <td>1</td>\n",
       "      <td>0hT2KtfLiobPvh6cDC8JQg</td>\n",
       "    </tr>\n",
       "    <tr>\n",
       "      <th>3</th>\n",
       "      <td>Active Life; Dog Parks; Parks</td>\n",
       "      <td>Scottsdale</td>\n",
       "      <td>_1QQZuf4zZOyFCvXc0o6Vg</td>\n",
       "      <td>27/5/2010</td>\n",
       "      <td>5</td>\n",
       "      <td>Rosie, Dakota, and I LOVE Chaparral Dog Park!!...</td>\n",
       "      <td>2</td>\n",
       "      <td>uZetl9T0NcROGOyFfughhg</td>\n",
       "    </tr>\n",
       "    <tr>\n",
       "      <th>4</th>\n",
       "      <td>Tires; Automotive</td>\n",
       "      <td>Mesa</td>\n",
       "      <td>6ozycU1RpktNG2-1BroVtw</td>\n",
       "      <td>5/1/2012</td>\n",
       "      <td>5</td>\n",
       "      <td>General Manager Scott Petello is a good egg!!!...</td>\n",
       "      <td>0</td>\n",
       "      <td>vYmM4KTsC8ZfQBg-j5MWkw</td>\n",
       "    </tr>\n",
       "    <tr>\n",
       "      <th>...</th>\n",
       "      <td>...</td>\n",
       "      <td>...</td>\n",
       "      <td>...</td>\n",
       "      <td>...</td>\n",
       "      <td>...</td>\n",
       "      <td>...</td>\n",
       "      <td>...</td>\n",
       "      <td>...</td>\n",
       "    </tr>\n",
       "    <tr>\n",
       "      <th>229902</th>\n",
       "      <td>Gastropubs; Restaurants</td>\n",
       "      <td>Tempe</td>\n",
       "      <td>vnffHkFJbmd-J3OaBbK2Eg</td>\n",
       "      <td>14/4/2011</td>\n",
       "      <td>2</td>\n",
       "      <td>I really wanted to like this place because it'...</td>\n",
       "      <td>0</td>\n",
       "      <td>6e7pZofhDuIlD_rX2oYirQ</td>\n",
       "    </tr>\n",
       "    <tr>\n",
       "      <th>229903</th>\n",
       "      <td>Hotels &amp; Travel; Event Planning &amp; Services; Ho...</td>\n",
       "      <td>Peoria</td>\n",
       "      <td>l5oUrgQ190l8CcN8uzd_pA</td>\n",
       "      <td>23/1/2011</td>\n",
       "      <td>1</td>\n",
       "      <td>My husband I stayed here for two nights.  Of c...</td>\n",
       "      <td>2</td>\n",
       "      <td>dDNfSFT0VApxPmURclX6_g</td>\n",
       "    </tr>\n",
       "    <tr>\n",
       "      <th>229904</th>\n",
       "      <td>Pubs; Bars; American (Traditional); Nightlife;...</td>\n",
       "      <td>Tempe</td>\n",
       "      <td>#NAME?</td>\n",
       "      <td>11/10/2010</td>\n",
       "      <td>4</td>\n",
       "      <td>Cool atmosphere. A lot of beers on tap and goo...</td>\n",
       "      <td>0</td>\n",
       "      <td>M5wHt6Odh1k5v0tIjqd8DQ</td>\n",
       "    </tr>\n",
       "    <tr>\n",
       "      <th>229905</th>\n",
       "      <td>Wine Bars; Bars; Pizza; Nightlife; Restaurants</td>\n",
       "      <td>Tempe</td>\n",
       "      <td>YQvg0JCGRFUkb6reMMf3Iw</td>\n",
       "      <td>18/1/2011</td>\n",
       "      <td>3</td>\n",
       "      <td>I have to take a star off for the spotty servi...</td>\n",
       "      <td>2</td>\n",
       "      <td>jopndPrv-H5KW2CfScnw9A</td>\n",
       "    </tr>\n",
       "    <tr>\n",
       "      <th>229906</th>\n",
       "      <td>Churches; Religious Organizations</td>\n",
       "      <td>Phoenix</td>\n",
       "      <td>gKxOZvQTTd5hpFa3r5igGQ</td>\n",
       "      <td>14/8/2010</td>\n",
       "      <td>5</td>\n",
       "      <td>So cool, yo.</td>\n",
       "      <td>0</td>\n",
       "      <td>mbRUG6h0Mgb2XIJvscIoMg</td>\n",
       "    </tr>\n",
       "  </tbody>\n",
       "</table>\n",
       "<p>229907 rows × 8 columns</p>\n",
       "</div>"
      ],
      "text/plain": [
       "                                      business_categories business_city  \\\n",
       "0                         Breakfast & Brunch; Restaurants       Phoenix   \n",
       "1                             Italian; Pizza; Restaurants       Phoenix   \n",
       "2                             Middle Eastern; Restaurants         Tempe   \n",
       "3                           Active Life; Dog Parks; Parks    Scottsdale   \n",
       "4                                       Tires; Automotive          Mesa   \n",
       "...                                                   ...           ...   \n",
       "229902                            Gastropubs; Restaurants         Tempe   \n",
       "229903  Hotels & Travel; Event Planning & Services; Ho...        Peoria   \n",
       "229904  Pubs; Bars; American (Traditional); Nightlife;...         Tempe   \n",
       "229905     Wine Bars; Bars; Pizza; Nightlife; Restaurants         Tempe   \n",
       "229906                  Churches; Religious Organizations       Phoenix   \n",
       "\n",
       "                   business_id        date  stars  \\\n",
       "0       9yKzy9PApeiPPOUJEtnvkg   26/1/2011      5   \n",
       "1       ZRJwVLyzEJq1VAihDhYiow   27/7/2011      5   \n",
       "2       6oRAC4uyJCsJl1X0WZpVSA   14/6/2012      4   \n",
       "3       _1QQZuf4zZOyFCvXc0o6Vg   27/5/2010      5   \n",
       "4       6ozycU1RpktNG2-1BroVtw    5/1/2012      5   \n",
       "...                        ...         ...    ...   \n",
       "229902  vnffHkFJbmd-J3OaBbK2Eg   14/4/2011      2   \n",
       "229903  l5oUrgQ190l8CcN8uzd_pA   23/1/2011      1   \n",
       "229904                  #NAME?  11/10/2010      4   \n",
       "229905  YQvg0JCGRFUkb6reMMf3Iw   18/1/2011      3   \n",
       "229906  gKxOZvQTTd5hpFa3r5igGQ   14/8/2010      5   \n",
       "\n",
       "                                                     text  useful  \\\n",
       "0       My wife took me here on my birthday for breakf...       5   \n",
       "1       I have no idea why some people give bad review...       0   \n",
       "2       love the gyro plate. Rice is so good and I als...       1   \n",
       "3       Rosie, Dakota, and I LOVE Chaparral Dog Park!!...       2   \n",
       "4       General Manager Scott Petello is a good egg!!!...       0   \n",
       "...                                                   ...     ...   \n",
       "229902  I really wanted to like this place because it'...       0   \n",
       "229903  My husband I stayed here for two nights.  Of c...       2   \n",
       "229904  Cool atmosphere. A lot of beers on tap and goo...       0   \n",
       "229905  I have to take a star off for the spotty servi...       2   \n",
       "229906                                       So cool, yo.       0   \n",
       "\n",
       "                       user_id  \n",
       "0       rLtl8ZkDX5vH5nAx9C3q5Q  \n",
       "1       0a2KyEL0d3Yb1V6aivbIuQ  \n",
       "2       0hT2KtfLiobPvh6cDC8JQg  \n",
       "3       uZetl9T0NcROGOyFfughhg  \n",
       "4       vYmM4KTsC8ZfQBg-j5MWkw  \n",
       "...                        ...  \n",
       "229902  6e7pZofhDuIlD_rX2oYirQ  \n",
       "229903  dDNfSFT0VApxPmURclX6_g  \n",
       "229904  M5wHt6Odh1k5v0tIjqd8DQ  \n",
       "229905  jopndPrv-H5KW2CfScnw9A  \n",
       "229906  mbRUG6h0Mgb2XIJvscIoMg  \n",
       "\n",
       "[229907 rows x 8 columns]"
      ]
     },
     "execution_count": 7,
     "metadata": {},
     "output_type": "execute_result"
    }
   ],
   "source": [
    "pd.read_csv('Files/Yelp_Portfolio1_Input.csv')"
   ]
  },
  {
   "cell_type": "code",
   "execution_count": 9,
   "id": "fd14dedf",
   "metadata": {},
   "outputs": [],
   "source": [
    "# read data from csv file\n",
    "df = pd.read_csv('Files/Yelp_Portfolio1_Input.csv')"
   ]
  },
  {
   "cell_type": "code",
   "execution_count": 10,
   "id": "e2c3251a",
   "metadata": {},
   "outputs": [
    {
     "data": {
      "text/html": [
       "<div>\n",
       "<style scoped>\n",
       "    .dataframe tbody tr th:only-of-type {\n",
       "        vertical-align: middle;\n",
       "    }\n",
       "\n",
       "    .dataframe tbody tr th {\n",
       "        vertical-align: top;\n",
       "    }\n",
       "\n",
       "    .dataframe thead th {\n",
       "        text-align: right;\n",
       "    }\n",
       "</style>\n",
       "<table border=\"1\" class=\"dataframe\">\n",
       "  <thead>\n",
       "    <tr style=\"text-align: right;\">\n",
       "      <th></th>\n",
       "      <th>business_categories</th>\n",
       "      <th>business_city</th>\n",
       "      <th>business_id</th>\n",
       "      <th>date</th>\n",
       "      <th>stars</th>\n",
       "      <th>text</th>\n",
       "      <th>useful</th>\n",
       "      <th>user_id</th>\n",
       "    </tr>\n",
       "  </thead>\n",
       "  <tbody>\n",
       "    <tr>\n",
       "      <th>0</th>\n",
       "      <td>Breakfast &amp; Brunch; Restaurants</td>\n",
       "      <td>Phoenix</td>\n",
       "      <td>9yKzy9PApeiPPOUJEtnvkg</td>\n",
       "      <td>26/1/2011</td>\n",
       "      <td>5</td>\n",
       "      <td>My wife took me here on my birthday for breakf...</td>\n",
       "      <td>5</td>\n",
       "      <td>rLtl8ZkDX5vH5nAx9C3q5Q</td>\n",
       "    </tr>\n",
       "    <tr>\n",
       "      <th>1</th>\n",
       "      <td>Italian; Pizza; Restaurants</td>\n",
       "      <td>Phoenix</td>\n",
       "      <td>ZRJwVLyzEJq1VAihDhYiow</td>\n",
       "      <td>27/7/2011</td>\n",
       "      <td>5</td>\n",
       "      <td>I have no idea why some people give bad review...</td>\n",
       "      <td>0</td>\n",
       "      <td>0a2KyEL0d3Yb1V6aivbIuQ</td>\n",
       "    </tr>\n",
       "    <tr>\n",
       "      <th>2</th>\n",
       "      <td>Middle Eastern; Restaurants</td>\n",
       "      <td>Tempe</td>\n",
       "      <td>6oRAC4uyJCsJl1X0WZpVSA</td>\n",
       "      <td>14/6/2012</td>\n",
       "      <td>4</td>\n",
       "      <td>love the gyro plate. Rice is so good and I als...</td>\n",
       "      <td>1</td>\n",
       "      <td>0hT2KtfLiobPvh6cDC8JQg</td>\n",
       "    </tr>\n",
       "    <tr>\n",
       "      <th>3</th>\n",
       "      <td>Active Life; Dog Parks; Parks</td>\n",
       "      <td>Scottsdale</td>\n",
       "      <td>_1QQZuf4zZOyFCvXc0o6Vg</td>\n",
       "      <td>27/5/2010</td>\n",
       "      <td>5</td>\n",
       "      <td>Rosie, Dakota, and I LOVE Chaparral Dog Park!!...</td>\n",
       "      <td>2</td>\n",
       "      <td>uZetl9T0NcROGOyFfughhg</td>\n",
       "    </tr>\n",
       "    <tr>\n",
       "      <th>4</th>\n",
       "      <td>Tires; Automotive</td>\n",
       "      <td>Mesa</td>\n",
       "      <td>6ozycU1RpktNG2-1BroVtw</td>\n",
       "      <td>5/1/2012</td>\n",
       "      <td>5</td>\n",
       "      <td>General Manager Scott Petello is a good egg!!!...</td>\n",
       "      <td>0</td>\n",
       "      <td>vYmM4KTsC8ZfQBg-j5MWkw</td>\n",
       "    </tr>\n",
       "  </tbody>\n",
       "</table>\n",
       "</div>"
      ],
      "text/plain": [
       "               business_categories business_city             business_id  \\\n",
       "0  Breakfast & Brunch; Restaurants       Phoenix  9yKzy9PApeiPPOUJEtnvkg   \n",
       "1      Italian; Pizza; Restaurants       Phoenix  ZRJwVLyzEJq1VAihDhYiow   \n",
       "2      Middle Eastern; Restaurants         Tempe  6oRAC4uyJCsJl1X0WZpVSA   \n",
       "3    Active Life; Dog Parks; Parks    Scottsdale  _1QQZuf4zZOyFCvXc0o6Vg   \n",
       "4                Tires; Automotive          Mesa  6ozycU1RpktNG2-1BroVtw   \n",
       "\n",
       "        date  stars                                               text  \\\n",
       "0  26/1/2011      5  My wife took me here on my birthday for breakf...   \n",
       "1  27/7/2011      5  I have no idea why some people give bad review...   \n",
       "2  14/6/2012      4  love the gyro plate. Rice is so good and I als...   \n",
       "3  27/5/2010      5  Rosie, Dakota, and I LOVE Chaparral Dog Park!!...   \n",
       "4   5/1/2012      5  General Manager Scott Petello is a good egg!!!...   \n",
       "\n",
       "   useful                 user_id  \n",
       "0       5  rLtl8ZkDX5vH5nAx9C3q5Q  \n",
       "1       0  0a2KyEL0d3Yb1V6aivbIuQ  \n",
       "2       1  0hT2KtfLiobPvh6cDC8JQg  \n",
       "3       2  uZetl9T0NcROGOyFfughhg  \n",
       "4       0  vYmM4KTsC8ZfQBg-j5MWkw  "
      ]
     },
     "execution_count": 10,
     "metadata": {},
     "output_type": "execute_result"
    }
   ],
   "source": [
    "df.head()"
   ]
  },
  {
   "cell_type": "code",
   "execution_count": 11,
   "id": "2feabd12",
   "metadata": {},
   "outputs": [
    {
     "data": {
      "text/plain": [
       "Index(['business_categories', 'business_city', 'business_id', 'date', 'stars',\n",
       "       'text', 'useful', 'user_id'],\n",
       "      dtype='object')"
      ]
     },
     "execution_count": 11,
     "metadata": {},
     "output_type": "execute_result"
    }
   ],
   "source": [
    "df.columns"
   ]
  },
  {
   "cell_type": "code",
   "execution_count": 12,
   "id": "ec58cc72",
   "metadata": {},
   "outputs": [
    {
     "data": {
      "text/plain": [
       "(229907, 8)"
      ]
     },
     "execution_count": 12,
     "metadata": {},
     "output_type": "execute_result"
    }
   ],
   "source": [
    "df.shape"
   ]
  },
  {
   "cell_type": "code",
   "execution_count": 13,
   "id": "0844973a",
   "metadata": {},
   "outputs": [
    {
     "data": {
      "text/plain": [
       "<bound method NDFrame.describe of                                       business_categories business_city  \\\n",
       "0                         Breakfast & Brunch; Restaurants       Phoenix   \n",
       "1                             Italian; Pizza; Restaurants       Phoenix   \n",
       "2                             Middle Eastern; Restaurants         Tempe   \n",
       "3                           Active Life; Dog Parks; Parks    Scottsdale   \n",
       "4                                       Tires; Automotive          Mesa   \n",
       "...                                                   ...           ...   \n",
       "229902                            Gastropubs; Restaurants         Tempe   \n",
       "229903  Hotels & Travel; Event Planning & Services; Ho...        Peoria   \n",
       "229904  Pubs; Bars; American (Traditional); Nightlife;...         Tempe   \n",
       "229905     Wine Bars; Bars; Pizza; Nightlife; Restaurants         Tempe   \n",
       "229906                  Churches; Religious Organizations       Phoenix   \n",
       "\n",
       "                   business_id        date  stars  \\\n",
       "0       9yKzy9PApeiPPOUJEtnvkg   26/1/2011      5   \n",
       "1       ZRJwVLyzEJq1VAihDhYiow   27/7/2011      5   \n",
       "2       6oRAC4uyJCsJl1X0WZpVSA   14/6/2012      4   \n",
       "3       _1QQZuf4zZOyFCvXc0o6Vg   27/5/2010      5   \n",
       "4       6ozycU1RpktNG2-1BroVtw    5/1/2012      5   \n",
       "...                        ...         ...    ...   \n",
       "229902  vnffHkFJbmd-J3OaBbK2Eg   14/4/2011      2   \n",
       "229903  l5oUrgQ190l8CcN8uzd_pA   23/1/2011      1   \n",
       "229904                  #NAME?  11/10/2010      4   \n",
       "229905  YQvg0JCGRFUkb6reMMf3Iw   18/1/2011      3   \n",
       "229906  gKxOZvQTTd5hpFa3r5igGQ   14/8/2010      5   \n",
       "\n",
       "                                                     text  useful  \\\n",
       "0       My wife took me here on my birthday for breakf...       5   \n",
       "1       I have no idea why some people give bad review...       0   \n",
       "2       love the gyro plate. Rice is so good and I als...       1   \n",
       "3       Rosie, Dakota, and I LOVE Chaparral Dog Park!!...       2   \n",
       "4       General Manager Scott Petello is a good egg!!!...       0   \n",
       "...                                                   ...     ...   \n",
       "229902  I really wanted to like this place because it'...       0   \n",
       "229903  My husband I stayed here for two nights.  Of c...       2   \n",
       "229904  Cool atmosphere. A lot of beers on tap and goo...       0   \n",
       "229905  I have to take a star off for the spotty servi...       2   \n",
       "229906                                       So cool, yo.       0   \n",
       "\n",
       "                       user_id  \n",
       "0       rLtl8ZkDX5vH5nAx9C3q5Q  \n",
       "1       0a2KyEL0d3Yb1V6aivbIuQ  \n",
       "2       0hT2KtfLiobPvh6cDC8JQg  \n",
       "3       uZetl9T0NcROGOyFfughhg  \n",
       "4       vYmM4KTsC8ZfQBg-j5MWkw  \n",
       "...                        ...  \n",
       "229902  6e7pZofhDuIlD_rX2oYirQ  \n",
       "229903  dDNfSFT0VApxPmURclX6_g  \n",
       "229904  M5wHt6Odh1k5v0tIjqd8DQ  \n",
       "229905  jopndPrv-H5KW2CfScnw9A  \n",
       "229906  mbRUG6h0Mgb2XIJvscIoMg  \n",
       "\n",
       "[229907 rows x 8 columns]>"
      ]
     },
     "execution_count": 13,
     "metadata": {},
     "output_type": "execute_result"
    }
   ],
   "source": [
    "df.describe"
   ]
  },
  {
   "cell_type": "markdown",
   "id": "5edf3fef",
   "metadata": {},
   "source": [
    " # Q1. Check and remove missing data\n",
    " \n",
    "### Q1.1 Write a Python code snippet that checks for missing values in each column of the dataset. If any, only display the names of the columns with missing values and their corresponding number of missing values. Print the length of the data before removing the missing data.\n",
    "\n",
    "Note: Only output the number of missing values for the columns having at least one missing value!"
   ]
  },
  {
   "cell_type": "code",
   "execution_count": null,
   "id": "5303e35a",
   "metadata": {},
   "outputs": [],
   "source": [
    "# your code and solutions"
   ]
  },
  {
   "cell_type": "code",
   "execution_count": 14,
   "id": "1cacccd2",
   "metadata": {},
   "outputs": [
    {
     "data": {
      "text/html": [
       "<div>\n",
       "<style scoped>\n",
       "    .dataframe tbody tr th:only-of-type {\n",
       "        vertical-align: middle;\n",
       "    }\n",
       "\n",
       "    .dataframe tbody tr th {\n",
       "        vertical-align: top;\n",
       "    }\n",
       "\n",
       "    .dataframe thead th {\n",
       "        text-align: right;\n",
       "    }\n",
       "</style>\n",
       "<table border=\"1\" class=\"dataframe\">\n",
       "  <thead>\n",
       "    <tr style=\"text-align: right;\">\n",
       "      <th></th>\n",
       "      <th>business_categories</th>\n",
       "      <th>business_city</th>\n",
       "      <th>business_id</th>\n",
       "      <th>date</th>\n",
       "      <th>stars</th>\n",
       "      <th>text</th>\n",
       "      <th>useful</th>\n",
       "      <th>user_id</th>\n",
       "    </tr>\n",
       "  </thead>\n",
       "  <tbody>\n",
       "    <tr>\n",
       "      <th>0</th>\n",
       "      <td>False</td>\n",
       "      <td>False</td>\n",
       "      <td>False</td>\n",
       "      <td>False</td>\n",
       "      <td>False</td>\n",
       "      <td>False</td>\n",
       "      <td>False</td>\n",
       "      <td>False</td>\n",
       "    </tr>\n",
       "    <tr>\n",
       "      <th>1</th>\n",
       "      <td>False</td>\n",
       "      <td>False</td>\n",
       "      <td>False</td>\n",
       "      <td>False</td>\n",
       "      <td>False</td>\n",
       "      <td>False</td>\n",
       "      <td>False</td>\n",
       "      <td>False</td>\n",
       "    </tr>\n",
       "    <tr>\n",
       "      <th>2</th>\n",
       "      <td>False</td>\n",
       "      <td>False</td>\n",
       "      <td>False</td>\n",
       "      <td>False</td>\n",
       "      <td>False</td>\n",
       "      <td>False</td>\n",
       "      <td>False</td>\n",
       "      <td>False</td>\n",
       "    </tr>\n",
       "    <tr>\n",
       "      <th>3</th>\n",
       "      <td>False</td>\n",
       "      <td>False</td>\n",
       "      <td>False</td>\n",
       "      <td>False</td>\n",
       "      <td>False</td>\n",
       "      <td>False</td>\n",
       "      <td>False</td>\n",
       "      <td>False</td>\n",
       "    </tr>\n",
       "    <tr>\n",
       "      <th>4</th>\n",
       "      <td>False</td>\n",
       "      <td>False</td>\n",
       "      <td>False</td>\n",
       "      <td>False</td>\n",
       "      <td>False</td>\n",
       "      <td>False</td>\n",
       "      <td>False</td>\n",
       "      <td>False</td>\n",
       "    </tr>\n",
       "    <tr>\n",
       "      <th>...</th>\n",
       "      <td>...</td>\n",
       "      <td>...</td>\n",
       "      <td>...</td>\n",
       "      <td>...</td>\n",
       "      <td>...</td>\n",
       "      <td>...</td>\n",
       "      <td>...</td>\n",
       "      <td>...</td>\n",
       "    </tr>\n",
       "    <tr>\n",
       "      <th>229902</th>\n",
       "      <td>False</td>\n",
       "      <td>False</td>\n",
       "      <td>False</td>\n",
       "      <td>False</td>\n",
       "      <td>False</td>\n",
       "      <td>False</td>\n",
       "      <td>False</td>\n",
       "      <td>False</td>\n",
       "    </tr>\n",
       "    <tr>\n",
       "      <th>229903</th>\n",
       "      <td>False</td>\n",
       "      <td>False</td>\n",
       "      <td>False</td>\n",
       "      <td>False</td>\n",
       "      <td>False</td>\n",
       "      <td>False</td>\n",
       "      <td>False</td>\n",
       "      <td>False</td>\n",
       "    </tr>\n",
       "    <tr>\n",
       "      <th>229904</th>\n",
       "      <td>False</td>\n",
       "      <td>False</td>\n",
       "      <td>False</td>\n",
       "      <td>False</td>\n",
       "      <td>False</td>\n",
       "      <td>False</td>\n",
       "      <td>False</td>\n",
       "      <td>False</td>\n",
       "    </tr>\n",
       "    <tr>\n",
       "      <th>229905</th>\n",
       "      <td>False</td>\n",
       "      <td>False</td>\n",
       "      <td>False</td>\n",
       "      <td>False</td>\n",
       "      <td>False</td>\n",
       "      <td>False</td>\n",
       "      <td>False</td>\n",
       "      <td>False</td>\n",
       "    </tr>\n",
       "    <tr>\n",
       "      <th>229906</th>\n",
       "      <td>False</td>\n",
       "      <td>False</td>\n",
       "      <td>False</td>\n",
       "      <td>False</td>\n",
       "      <td>False</td>\n",
       "      <td>False</td>\n",
       "      <td>False</td>\n",
       "      <td>False</td>\n",
       "    </tr>\n",
       "  </tbody>\n",
       "</table>\n",
       "<p>229907 rows × 8 columns</p>\n",
       "</div>"
      ],
      "text/plain": [
       "        business_categories  business_city  business_id   date  stars   text  \\\n",
       "0                     False          False        False  False  False  False   \n",
       "1                     False          False        False  False  False  False   \n",
       "2                     False          False        False  False  False  False   \n",
       "3                     False          False        False  False  False  False   \n",
       "4                     False          False        False  False  False  False   \n",
       "...                     ...            ...          ...    ...    ...    ...   \n",
       "229902                False          False        False  False  False  False   \n",
       "229903                False          False        False  False  False  False   \n",
       "229904                False          False        False  False  False  False   \n",
       "229905                False          False        False  False  False  False   \n",
       "229906                False          False        False  False  False  False   \n",
       "\n",
       "        useful  user_id  \n",
       "0        False    False  \n",
       "1        False    False  \n",
       "2        False    False  \n",
       "3        False    False  \n",
       "4        False    False  \n",
       "...        ...      ...  \n",
       "229902   False    False  \n",
       "229903   False    False  \n",
       "229904   False    False  \n",
       "229905   False    False  \n",
       "229906   False    False  \n",
       "\n",
       "[229907 rows x 8 columns]"
      ]
     },
     "execution_count": 14,
     "metadata": {},
     "output_type": "execute_result"
    }
   ],
   "source": [
    "df.isnull()"
   ]
  },
  {
   "cell_type": "code",
   "execution_count": 15,
   "id": "7206221f",
   "metadata": {},
   "outputs": [
    {
     "data": {
      "text/plain": [
       "business_categories    777\n",
       "business_city            0\n",
       "business_id              0\n",
       "date                     0\n",
       "stars                    0\n",
       "text                     6\n",
       "useful                   0\n",
       "user_id                  0\n",
       "dtype: int64"
      ]
     },
     "execution_count": 15,
     "metadata": {},
     "output_type": "execute_result"
    }
   ],
   "source": [
    "df.isnull().sum()"
   ]
  },
  {
   "cell_type": "code",
   "execution_count": 16,
   "id": "31116526",
   "metadata": {},
   "outputs": [
    {
     "data": {
      "text/plain": [
       "783"
      ]
     },
     "execution_count": 16,
     "metadata": {},
     "output_type": "execute_result"
    }
   ],
   "source": [
    "df.isnull().sum().sum()"
   ]
  },
  {
   "cell_type": "code",
   "execution_count": 17,
   "id": "801a7db5",
   "metadata": {},
   "outputs": [
    {
     "name": "stdout",
     "output_type": "stream",
     "text": [
      "length of the data before removing the missing data: 229907\n"
     ]
    }
   ],
   "source": [
    "print(\"length of the data before removing the missing data:\",len(df))"
   ]
  },
  {
   "cell_type": "code",
   "execution_count": 18,
   "id": "107705a9",
   "metadata": {},
   "outputs": [
    {
     "name": "stdout",
     "output_type": "stream",
     "text": [
      "length of the data after removing the missing data: 229907\n"
     ]
    }
   ],
   "source": [
    "print(\"length of the data after removing the missing data:\",len(df))"
   ]
  },
  {
   "cell_type": "code",
   "execution_count": 19,
   "id": "2a397b4e",
   "metadata": {},
   "outputs": [
    {
     "data": {
      "text/plain": [
       "business_categories\n",
       "Accessories; Fashion; Shopping; Cosmetics & Beauty Supply; Beauty & Spas                            4\n",
       "Accountants; Professional Services                                                                 15\n",
       "Accountants; Professional Services; Financial Advising; Financial Services                          3\n",
       "Accountants; Professional Services; Tax Services; Financial Services                               10\n",
       "Active Life                                                                                       116\n",
       "                                                                                                 ... \n",
       "Women's Clothing; Used, Vintage & Consignment; Fashion; Shopping                                   14\n",
       "Women's Clothing; Used, Vintage & Consignment; Fashion; Shopping; Accessories                       7\n",
       "Women's Clothing; Used, Vintage & Consignment; Fashion; Shopping; Men's Clothing                  119\n",
       "Yoga; Beauty & Spas; Food; Juice Bars & Smoothies; Fitness & Instruction; Active Life; Massage     31\n",
       "Yoga; Gyms; Weight Loss Centers; Health & Medical; Fitness & Instruction; Active Life               3\n",
       "Name: business_city, Length: 2060, dtype: int64"
      ]
     },
     "execution_count": 19,
     "metadata": {},
     "output_type": "execute_result"
    }
   ],
   "source": [
    "df.groupby(['business_categories'])['business_city'].count()"
   ]
  },
  {
   "cell_type": "code",
   "execution_count": 20,
   "id": "3c6740a4",
   "metadata": {},
   "outputs": [
    {
     "data": {
      "text/plain": [
       "business_categories\n",
       "Accessories; Fashion; Shopping; Cosmetics & Beauty Supply; Beauty & Spas                            4\n",
       "Accountants; Professional Services                                                                 15\n",
       "Accountants; Professional Services; Financial Advising; Financial Services                          3\n",
       "Accountants; Professional Services; Tax Services; Financial Services                               10\n",
       "Active Life                                                                                       116\n",
       "                                                                                                 ... \n",
       "Women's Clothing; Used, Vintage & Consignment; Fashion; Shopping                                   14\n",
       "Women's Clothing; Used, Vintage & Consignment; Fashion; Shopping; Accessories                       7\n",
       "Women's Clothing; Used, Vintage & Consignment; Fashion; Shopping; Men's Clothing                  119\n",
       "Yoga; Beauty & Spas; Food; Juice Bars & Smoothies; Fitness & Instruction; Active Life; Massage     31\n",
       "Yoga; Gyms; Weight Loss Centers; Health & Medical; Fitness & Instruction; Active Life               3\n",
       "Name: text, Length: 2060, dtype: int64"
      ]
     },
     "execution_count": 20,
     "metadata": {},
     "output_type": "execute_result"
    }
   ],
   "source": [
    "df.groupby(['business_categories'])['text'].count()"
   ]
  },
  {
   "cell_type": "code",
   "execution_count": null,
   "id": "1c88456b",
   "metadata": {},
   "outputs": [],
   "source": []
  },
  {
   "cell_type": "markdown",
   "id": "da3df088",
   "metadata": {},
   "source": [
    "### Q1.2 Remove any row that contains at least one missing value, and output the length of the resulting cleaned dataset; After that, remove any row that contain invalid value with either \"#NAME?\" or \"#VALUE!\" in the `business_id` and `user_id` columns, and output the length of the resulting cleaned dataset."
   ]
  },
  {
   "cell_type": "code",
   "execution_count": null,
   "id": "ba17f19d",
   "metadata": {},
   "outputs": [],
   "source": [
    "# your code and solutions"
   ]
  },
  {
   "cell_type": "code",
   "execution_count": 21,
   "id": "3a1d1e78",
   "metadata": {},
   "outputs": [],
   "source": [
    "import pandas as pd\n",
    "import numpy as np\n",
    "import matplotlib as plt\n",
    "import seaborn as sns"
   ]
  },
  {
   "cell_type": "code",
   "execution_count": 22,
   "id": "4bb6a412",
   "metadata": {},
   "outputs": [],
   "source": [
    "# read data from csv file\n",
    "df = pd.read_csv('Files/Yelp_Portfolio1_Input.csv')"
   ]
  },
  {
   "cell_type": "code",
   "execution_count": 25,
   "id": "18b6620f",
   "metadata": {},
   "outputs": [],
   "source": [
    "import pandas as pd\n",
    "\n",
    "# read the dataset into a pandas dataframe\n",
    "df = pd.read_csv('Files/Yelp_Portfolio1_Input.csv')\n",
    "\n",
    "# drop any rows with missing values\n",
    "df.dropna(inplace = True)"
   ]
  },
  {
   "cell_type": "code",
   "execution_count": 24,
   "id": "f01ae5a3",
   "metadata": {},
   "outputs": [
    {
     "name": "stdout",
     "output_type": "stream",
     "text": [
      "The length of the cleansed dataset is: 229124\n"
     ]
    }
   ],
   "source": [
    "import pandas as pd\n",
    "\n",
    "# read the dataset into a pandas dataframe\n",
    "df = pd.read_csv('Files/Yelp_Portfolio1_Input.csv')\n",
    "\n",
    "# drop any rows with missing values\n",
    "df.dropna(inplace = True)\n",
    "\n",
    "# print the length of the resulting cleansed dataset\n",
    "print(f\"The length of the cleansed dataset is:\",len(df))"
   ]
  },
  {
   "cell_type": "code",
   "execution_count": 26,
   "id": "a630fc17",
   "metadata": {},
   "outputs": [
    {
     "name": "stdout",
     "output_type": "stream",
     "text": [
      "Length of data before removing missing values: 229907\n"
     ]
    }
   ],
   "source": [
    "import pandas as pd\n",
    "\n",
    "# read the dataset into a pandas dataframe\n",
    "df = pd.read_csv('Files/Yelp_Portfolio1_Input.csv')\n",
    "\n",
    "# print the length of the original data set\n",
    "print(f\"Length of data before removing missing values:\", (len(df)))\n",
    "\n",
    "# check for missing values in each column\n",
    "missing_values = df.isnull().sum()\n"
   ]
  },
  {
   "cell_type": "code",
   "execution_count": 27,
   "id": "a16369f1",
   "metadata": {},
   "outputs": [
    {
     "name": "stdout",
     "output_type": "stream",
     "text": [
      "Length of data before removing missing values: 229907\n",
      "Column 'business_categories' has 777 missing values.\n",
      "Column 'text' has 6 missing values.\n",
      "Length of data after removing missing values: 229124\n"
     ]
    }
   ],
   "source": [
    "import pandas as pd\n",
    "\n",
    "# read the dataset into a pandas dataframe\n",
    "df = pd.read_csv('Files/Yelp_Portfolio1_Input.csv')\n",
    "\n",
    "# print the length of the original data set\n",
    "print(f\"Length of data before removing missing values:\", (len(df)))\n",
    "\n",
    "# check for missing values in each column\n",
    "missing_values = df.isnull().sum()\n",
    "\n",
    "# iterate over columns with missing values and remove them\n",
    "for column in df.columns:\n",
    "    if missing_values[column] > 0:\n",
    "        print(f\"Column '{column}' has {missing_values[column]} missing values.\")\n",
    "        df.dropna(subset=[column], inplace=True)\n",
    "\n",
    "# print the length of the resulting cleansed data set\n",
    "print(f\"Length of data after removing missing values: {len(df)}\")"
   ]
  },
  {
   "cell_type": "code",
   "execution_count": null,
   "id": "a01fcec3",
   "metadata": {},
   "outputs": [],
   "source": []
  },
  {
   "cell_type": "markdown",
   "id": "334b9f9e",
   "metadata": {},
   "source": [
    "# Q2. Random Subset Selection of Yelp Businesses by City"
   ]
  },
  {
   "cell_type": "markdown",
   "id": "b386ff6c",
   "metadata": {},
   "source": [
    "Selecting a random subset of cities from the Yelp business dataset and extracting all the rows corresponding to businesses located in those cities can be useful for various purposes. For example, it can be used to \n",
    "perform exploratory data analysis on a smaller subset of the dataset, which can be more manageable and faster to process than the entire dataset. Suppose you want to select a random subset of 10 cities from the dataset and extract all the rows that correspond to businesses located in those cities. At last, print the length of the resulting sample data. Write Python code that accomplishes this task.\n",
    "\n",
    "Note: Use the $random.sample()$ function to select 10 random cities from the list of unique cities. Set the random seed to 42 before selecting the cities!!!"
   ]
  },
  {
   "cell_type": "code",
   "execution_count": null,
   "id": "0abef7dc",
   "metadata": {},
   "outputs": [],
   "source": [
    "# your code and solutions"
   ]
  },
  {
   "cell_type": "code",
   "execution_count": 56,
   "id": "636c06af",
   "metadata": {},
   "outputs": [],
   "source": [
    "import pandas as pd\n",
    "import numpy as np\n",
    "import matplotlib as plt\n",
    "import seaborn as sns"
   ]
  },
  {
   "cell_type": "code",
   "execution_count": 57,
   "id": "51912aaa",
   "metadata": {},
   "outputs": [
    {
     "data": {
      "text/html": [
       "<div>\n",
       "<style scoped>\n",
       "    .dataframe tbody tr th:only-of-type {\n",
       "        vertical-align: middle;\n",
       "    }\n",
       "\n",
       "    .dataframe tbody tr th {\n",
       "        vertical-align: top;\n",
       "    }\n",
       "\n",
       "    .dataframe thead th {\n",
       "        text-align: right;\n",
       "    }\n",
       "</style>\n",
       "<table border=\"1\" class=\"dataframe\">\n",
       "  <thead>\n",
       "    <tr style=\"text-align: right;\">\n",
       "      <th></th>\n",
       "      <th>business_categories</th>\n",
       "      <th>business_city</th>\n",
       "      <th>business_id</th>\n",
       "      <th>date</th>\n",
       "      <th>stars</th>\n",
       "      <th>text</th>\n",
       "      <th>useful</th>\n",
       "      <th>user_id</th>\n",
       "    </tr>\n",
       "  </thead>\n",
       "  <tbody>\n",
       "    <tr>\n",
       "      <th>0</th>\n",
       "      <td>Breakfast &amp; Brunch; Restaurants</td>\n",
       "      <td>Phoenix</td>\n",
       "      <td>9yKzy9PApeiPPOUJEtnvkg</td>\n",
       "      <td>26/1/2011</td>\n",
       "      <td>5</td>\n",
       "      <td>My wife took me here on my birthday for breakf...</td>\n",
       "      <td>5</td>\n",
       "      <td>rLtl8ZkDX5vH5nAx9C3q5Q</td>\n",
       "    </tr>\n",
       "    <tr>\n",
       "      <th>1</th>\n",
       "      <td>Italian; Pizza; Restaurants</td>\n",
       "      <td>Phoenix</td>\n",
       "      <td>ZRJwVLyzEJq1VAihDhYiow</td>\n",
       "      <td>27/7/2011</td>\n",
       "      <td>5</td>\n",
       "      <td>I have no idea why some people give bad review...</td>\n",
       "      <td>0</td>\n",
       "      <td>0a2KyEL0d3Yb1V6aivbIuQ</td>\n",
       "    </tr>\n",
       "    <tr>\n",
       "      <th>2</th>\n",
       "      <td>Middle Eastern; Restaurants</td>\n",
       "      <td>Tempe</td>\n",
       "      <td>6oRAC4uyJCsJl1X0WZpVSA</td>\n",
       "      <td>14/6/2012</td>\n",
       "      <td>4</td>\n",
       "      <td>love the gyro plate. Rice is so good and I als...</td>\n",
       "      <td>1</td>\n",
       "      <td>0hT2KtfLiobPvh6cDC8JQg</td>\n",
       "    </tr>\n",
       "    <tr>\n",
       "      <th>3</th>\n",
       "      <td>Active Life; Dog Parks; Parks</td>\n",
       "      <td>Scottsdale</td>\n",
       "      <td>_1QQZuf4zZOyFCvXc0o6Vg</td>\n",
       "      <td>27/5/2010</td>\n",
       "      <td>5</td>\n",
       "      <td>Rosie, Dakota, and I LOVE Chaparral Dog Park!!...</td>\n",
       "      <td>2</td>\n",
       "      <td>uZetl9T0NcROGOyFfughhg</td>\n",
       "    </tr>\n",
       "    <tr>\n",
       "      <th>4</th>\n",
       "      <td>Tires; Automotive</td>\n",
       "      <td>Mesa</td>\n",
       "      <td>6ozycU1RpktNG2-1BroVtw</td>\n",
       "      <td>5/1/2012</td>\n",
       "      <td>5</td>\n",
       "      <td>General Manager Scott Petello is a good egg!!!...</td>\n",
       "      <td>0</td>\n",
       "      <td>vYmM4KTsC8ZfQBg-j5MWkw</td>\n",
       "    </tr>\n",
       "    <tr>\n",
       "      <th>...</th>\n",
       "      <td>...</td>\n",
       "      <td>...</td>\n",
       "      <td>...</td>\n",
       "      <td>...</td>\n",
       "      <td>...</td>\n",
       "      <td>...</td>\n",
       "      <td>...</td>\n",
       "      <td>...</td>\n",
       "    </tr>\n",
       "    <tr>\n",
       "      <th>229902</th>\n",
       "      <td>Gastropubs; Restaurants</td>\n",
       "      <td>Tempe</td>\n",
       "      <td>vnffHkFJbmd-J3OaBbK2Eg</td>\n",
       "      <td>14/4/2011</td>\n",
       "      <td>2</td>\n",
       "      <td>I really wanted to like this place because it'...</td>\n",
       "      <td>0</td>\n",
       "      <td>6e7pZofhDuIlD_rX2oYirQ</td>\n",
       "    </tr>\n",
       "    <tr>\n",
       "      <th>229903</th>\n",
       "      <td>Hotels &amp; Travel; Event Planning &amp; Services; Ho...</td>\n",
       "      <td>Peoria</td>\n",
       "      <td>l5oUrgQ190l8CcN8uzd_pA</td>\n",
       "      <td>23/1/2011</td>\n",
       "      <td>1</td>\n",
       "      <td>My husband I stayed here for two nights.  Of c...</td>\n",
       "      <td>2</td>\n",
       "      <td>dDNfSFT0VApxPmURclX6_g</td>\n",
       "    </tr>\n",
       "    <tr>\n",
       "      <th>229904</th>\n",
       "      <td>Pubs; Bars; American (Traditional); Nightlife;...</td>\n",
       "      <td>Tempe</td>\n",
       "      <td>#NAME?</td>\n",
       "      <td>11/10/2010</td>\n",
       "      <td>4</td>\n",
       "      <td>Cool atmosphere. A lot of beers on tap and goo...</td>\n",
       "      <td>0</td>\n",
       "      <td>M5wHt6Odh1k5v0tIjqd8DQ</td>\n",
       "    </tr>\n",
       "    <tr>\n",
       "      <th>229905</th>\n",
       "      <td>Wine Bars; Bars; Pizza; Nightlife; Restaurants</td>\n",
       "      <td>Tempe</td>\n",
       "      <td>YQvg0JCGRFUkb6reMMf3Iw</td>\n",
       "      <td>18/1/2011</td>\n",
       "      <td>3</td>\n",
       "      <td>I have to take a star off for the spotty servi...</td>\n",
       "      <td>2</td>\n",
       "      <td>jopndPrv-H5KW2CfScnw9A</td>\n",
       "    </tr>\n",
       "    <tr>\n",
       "      <th>229906</th>\n",
       "      <td>Churches; Religious Organizations</td>\n",
       "      <td>Phoenix</td>\n",
       "      <td>gKxOZvQTTd5hpFa3r5igGQ</td>\n",
       "      <td>14/8/2010</td>\n",
       "      <td>5</td>\n",
       "      <td>So cool, yo.</td>\n",
       "      <td>0</td>\n",
       "      <td>mbRUG6h0Mgb2XIJvscIoMg</td>\n",
       "    </tr>\n",
       "  </tbody>\n",
       "</table>\n",
       "<p>229907 rows × 8 columns</p>\n",
       "</div>"
      ],
      "text/plain": [
       "                                      business_categories business_city  \\\n",
       "0                         Breakfast & Brunch; Restaurants       Phoenix   \n",
       "1                             Italian; Pizza; Restaurants       Phoenix   \n",
       "2                             Middle Eastern; Restaurants         Tempe   \n",
       "3                           Active Life; Dog Parks; Parks    Scottsdale   \n",
       "4                                       Tires; Automotive          Mesa   \n",
       "...                                                   ...           ...   \n",
       "229902                            Gastropubs; Restaurants         Tempe   \n",
       "229903  Hotels & Travel; Event Planning & Services; Ho...        Peoria   \n",
       "229904  Pubs; Bars; American (Traditional); Nightlife;...         Tempe   \n",
       "229905     Wine Bars; Bars; Pizza; Nightlife; Restaurants         Tempe   \n",
       "229906                  Churches; Religious Organizations       Phoenix   \n",
       "\n",
       "                   business_id        date  stars  \\\n",
       "0       9yKzy9PApeiPPOUJEtnvkg   26/1/2011      5   \n",
       "1       ZRJwVLyzEJq1VAihDhYiow   27/7/2011      5   \n",
       "2       6oRAC4uyJCsJl1X0WZpVSA   14/6/2012      4   \n",
       "3       _1QQZuf4zZOyFCvXc0o6Vg   27/5/2010      5   \n",
       "4       6ozycU1RpktNG2-1BroVtw    5/1/2012      5   \n",
       "...                        ...         ...    ...   \n",
       "229902  vnffHkFJbmd-J3OaBbK2Eg   14/4/2011      2   \n",
       "229903  l5oUrgQ190l8CcN8uzd_pA   23/1/2011      1   \n",
       "229904                  #NAME?  11/10/2010      4   \n",
       "229905  YQvg0JCGRFUkb6reMMf3Iw   18/1/2011      3   \n",
       "229906  gKxOZvQTTd5hpFa3r5igGQ   14/8/2010      5   \n",
       "\n",
       "                                                     text  useful  \\\n",
       "0       My wife took me here on my birthday for breakf...       5   \n",
       "1       I have no idea why some people give bad review...       0   \n",
       "2       love the gyro plate. Rice is so good and I als...       1   \n",
       "3       Rosie, Dakota, and I LOVE Chaparral Dog Park!!...       2   \n",
       "4       General Manager Scott Petello is a good egg!!!...       0   \n",
       "...                                                   ...     ...   \n",
       "229902  I really wanted to like this place because it'...       0   \n",
       "229903  My husband I stayed here for two nights.  Of c...       2   \n",
       "229904  Cool atmosphere. A lot of beers on tap and goo...       0   \n",
       "229905  I have to take a star off for the spotty servi...       2   \n",
       "229906                                       So cool, yo.       0   \n",
       "\n",
       "                       user_id  \n",
       "0       rLtl8ZkDX5vH5nAx9C3q5Q  \n",
       "1       0a2KyEL0d3Yb1V6aivbIuQ  \n",
       "2       0hT2KtfLiobPvh6cDC8JQg  \n",
       "3       uZetl9T0NcROGOyFfughhg  \n",
       "4       vYmM4KTsC8ZfQBg-j5MWkw  \n",
       "...                        ...  \n",
       "229902  6e7pZofhDuIlD_rX2oYirQ  \n",
       "229903  dDNfSFT0VApxPmURclX6_g  \n",
       "229904  M5wHt6Odh1k5v0tIjqd8DQ  \n",
       "229905  jopndPrv-H5KW2CfScnw9A  \n",
       "229906  mbRUG6h0Mgb2XIJvscIoMg  \n",
       "\n",
       "[229907 rows x 8 columns]"
      ]
     },
     "execution_count": 57,
     "metadata": {},
     "output_type": "execute_result"
    }
   ],
   "source": [
    "pd.read_csv('Files/Yelp_Portfolio1_Input.csv')"
   ]
  },
  {
   "cell_type": "code",
   "execution_count": 58,
   "id": "c0891b73",
   "metadata": {},
   "outputs": [],
   "source": [
    "import random"
   ]
  },
  {
   "cell_type": "code",
   "execution_count": 59,
   "id": "9c8bea06",
   "metadata": {},
   "outputs": [],
   "source": [
    "random.seed(42)"
   ]
  },
  {
   "cell_type": "code",
   "execution_count": 60,
   "id": "bd6aefc5",
   "metadata": {},
   "outputs": [],
   "source": [
    "x = df['business_city'].unique()"
   ]
  },
  {
   "cell_type": "code",
   "execution_count": 61,
   "id": "46a20595",
   "metadata": {},
   "outputs": [
    {
     "data": {
      "text/plain": [
       "['Ahwatukee', 'Tolleson', 'Tempe']"
      ]
     },
     "execution_count": 61,
     "metadata": {},
     "output_type": "execute_result"
    }
   ],
   "source": [
    "df\n",
    "random.sample(list(x), 3)"
   ]
  },
  {
   "cell_type": "code",
   "execution_count": 62,
   "id": "898b3d3f",
   "metadata": {},
   "outputs": [
    {
     "data": {
      "text/plain": [
       "['Saguaro Lake',\n",
       " 'Cave Creek',\n",
       " 'Goodyear',\n",
       " 'Avondale',\n",
       " 'Surprise',\n",
       " 'Tonto Basin',\n",
       " 'Glendale',\n",
       " 'Coolidge',\n",
       " 'North Pinal',\n",
       " 'Gold Canyon',\n",
       " 'Gilbert',\n",
       " 'Tortilla Flat',\n",
       " 'Waddell',\n",
       " 'Scottsdale',\n",
       " 'Tempe',\n",
       " 'Yuma',\n",
       " 'Florence',\n",
       " 'Grand Junction',\n",
       " 'Guadalupe',\n",
       " 'Sun City West']"
      ]
     },
     "execution_count": 62,
     "metadata": {},
     "output_type": "execute_result"
    }
   ],
   "source": [
    "df\n",
    "random.sample(list(x), 20)"
   ]
  },
  {
   "cell_type": "code",
   "execution_count": 72,
   "id": "b5b46858",
   "metadata": {},
   "outputs": [
    {
     "name": "stdout",
     "output_type": "stream",
     "text": [
      "['Casa Grande', 'Litchfield Park', 'Sun City Anthem', 'Scottsdale ', 'Laveen', 'Sun City', 'Anthem', 'Surprise', 'Goodyear', 'Saguaro Lake', 'San Tan Valley', 'Gold Canyon', 'Glendale Az', 'Charleston', 'Tortilla Flat', 'Waddell', 'Higley', 'Wittmann', 'Fort McDowell', 'Avondale']\n"
     ]
    }
   ],
   "source": [
    "df\n",
    "random.sample(list(x), 20)\n",
    "print(random.sample(list(x), 20))"
   ]
  },
  {
   "cell_type": "code",
   "execution_count": 70,
   "id": "ac0e4210",
   "metadata": {},
   "outputs": [
    {
     "data": {
      "text/plain": [
       "['Fort McDowell',\n",
       " 'Sun Lakes',\n",
       " 'Florence',\n",
       " 'Rio Verde',\n",
       " 'Cave Creek',\n",
       " 'Gila Bend',\n",
       " 'Coolidge',\n",
       " 'Scottsdale ',\n",
       " 'Chandler',\n",
       " 'Sun City West']"
      ]
     },
     "execution_count": 70,
     "metadata": {},
     "output_type": "execute_result"
    }
   ],
   "source": [
    "df\n",
    "random.sample(list(x),10)"
   ]
  },
  {
   "cell_type": "code",
   "execution_count": 69,
   "id": "d72df115",
   "metadata": {},
   "outputs": [
    {
     "name": "stdout",
     "output_type": "stream",
     "text": [
      "['Glendale Az', 'Avondale', 'North Pinal', 'Glendale', 'Apache Junction', 'Cave Creek', 'Laveen', 'Ahwatukee', 'Fort McDowell', 'Paradise Valley']\n"
     ]
    }
   ],
   "source": [
    "df\n",
    "random.sample(list(x),10)\n",
    "print(random.sample(list(x), 10))"
   ]
  },
  {
   "cell_type": "code",
   "execution_count": 71,
   "id": "0efbed5b",
   "metadata": {},
   "outputs": [
    {
     "data": {
      "text/plain": [
       "['Ahwatukee',\n",
       " 'Paradise Valley',\n",
       " 'Gold Canyon',\n",
       " 'Higley',\n",
       " 'Goodyear',\n",
       " 'Wittmann',\n",
       " 'Laveen',\n",
       " 'Apache Junction',\n",
       " 'Cave Creek',\n",
       " 'Tonto Basin']"
      ]
     },
     "execution_count": 71,
     "metadata": {},
     "output_type": "execute_result"
    }
   ],
   "source": [
    "df\n",
    "random.sample(list(x),10)"
   ]
  },
  {
   "cell_type": "code",
   "execution_count": 68,
   "id": "2784bb46",
   "metadata": {},
   "outputs": [
    {
     "name": "stdout",
     "output_type": "stream",
     "text": [
      "['Tolleson', 'Wittmann', 'Apache Junction', 'Gilbert', 'San Tan Valley', 'Youngtown', 'Stanfield', 'Ahwatukee', 'Good Year', 'Fort McDowell']\n"
     ]
    }
   ],
   "source": [
    "df\n",
    "random.sample(list(x),10)\n",
    "\n",
    "print(random.sample(list(x), 10))"
   ]
  },
  {
   "cell_type": "code",
   "execution_count": null,
   "id": "2ce48da6",
   "metadata": {},
   "outputs": [],
   "source": []
  },
  {
   "cell_type": "markdown",
   "id": "0ff5298a",
   "metadata": {},
   "source": [
    "# Q3. Descriptive statistics on the data output from Q2\n",
    "### Q3.1 Compute summary statistics for the `stars` column of the sample data\n",
    "Note: the resulting output includes the count, mean, standard deviation, minimum, maximum values of the column."
   ]
  },
  {
   "cell_type": "code",
   "execution_count": null,
   "id": "02571c2c",
   "metadata": {},
   "outputs": [],
   "source": [
    "# your code and solutions"
   ]
  },
  {
   "cell_type": "code",
   "execution_count": 30,
   "id": "c063109d",
   "metadata": {},
   "outputs": [
    {
     "name": "stdout",
     "output_type": "stream",
     "text": [
      "Summary statistics for column '(stars)':\n",
      "count    229907.000000\n",
      "mean          3.766723\n",
      "std           1.217010\n",
      "min           1.000000\n",
      "25%           3.000000\n",
      "50%           4.000000\n",
      "75%           5.000000\n",
      "max           5.000000\n",
      "Name: stars, dtype: float64\n"
     ]
    }
   ],
   "source": [
    "import pandas as pd\n",
    "\n",
    "# read the dataset into a pandas dataframe\n",
    "df = pd.read_csv('Files/Yelp_Portfolio1_Input.csv')\n",
    "\n",
    "\n",
    "# compute summary statistics for a specific column\n",
    "column_name = 'stars'\n",
    "column_stats = df['stars'].describe()\n",
    "\n",
    "# print the summary statistics\n",
    "print(f\"Summary statistics for column '(stars)':\\n{column_stats}\")\n"
   ]
  },
  {
   "cell_type": "code",
   "execution_count": 31,
   "id": "4e69a6fd",
   "metadata": {},
   "outputs": [
    {
     "name": "stdout",
     "output_type": "stream",
     "text": [
      "Summary statistics for column 'stars':\n",
      "Count: 229907\n",
      "Mean: 3.766723066283323\n",
      "Standard deviation: 1.2170100856368637\n",
      "Minimum: 1\n",
      "Maximum: 5\n"
     ]
    }
   ],
   "source": [
    "import pandas as pd\n",
    "\n",
    "# read the dataset into a pandas dataframe\n",
    "df = pd.read_csv('Files/Yelp_Portfolio1_Input.csv')\n",
    "\n",
    "# compute summary statistics for a column\n",
    "column_name = 'stars'\n",
    "count = df['stars'].count()\n",
    "mean = df['stars'].mean()\n",
    "std = df['stars'].std()\n",
    "minimum = df['stars'].min()\n",
    "maximum = df['stars'].max()\n",
    "\n",
    "# print the summary statistics for the column\n",
    "print(f\"Summary statistics for column '{'stars'':\")\n",
    "print(f\"Count: {count}\")\n",
    "print(f\"Mean: {mean}\")\n",
    "print(f\"Standard deviation: {std}\")\n",
    "print(f\"Minimum: {minimum}\")\n",
    "print(f\"Maximum: {maximum}\")\n"
   ]
  },
  {
   "cell_type": "code",
   "execution_count": null,
   "id": "256c615f",
   "metadata": {},
   "outputs": [],
   "source": []
  },
  {
   "cell_type": "markdown",
   "id": "9ac40c1f",
   "metadata": {},
   "source": [
    "### Q3.2 For each city in the dataframe, how many unique businesses are there?\n",
    "\n",
    "Note: the resulting dataframe has two columns: `business_city` and `count`. Compute summary statistics (similar as Q 3.1) for the `count` column."
   ]
  },
  {
   "cell_type": "code",
   "execution_count": null,
   "id": "42af9783",
   "metadata": {},
   "outputs": [],
   "source": [
    "# your code and solutions"
   ]
  },
  {
   "cell_type": "code",
   "execution_count": 32,
   "id": "3ddd7bc4",
   "metadata": {},
   "outputs": [
    {
     "name": "stdout",
     "output_type": "stream",
     "text": [
      "Summary statistics for column '('business_city')':\n",
      "count      229907\n",
      "unique         61\n",
      "top       Phoenix\n",
      "freq        96569\n",
      "Name: business_city, dtype: object\n"
     ]
    }
   ],
   "source": [
    "import pandas as pd\n",
    "\n",
    "# read the dataset into a pandas dataframe\n",
    "df = pd.read_csv('Files/Yelp_Portfolio1_Input.csv')\n",
    "\n",
    "\n",
    "# compute summary statistics for a specific column\n",
    "column_name = 'business_city'\n",
    "column_stats = df['business_city'].describe()\n",
    "\n",
    "# print the summary statistics\n",
    "print(f\"Summary statistics for column '('business_city')':\\n{column_stats}\")"
   ]
  },
  {
   "cell_type": "markdown",
   "id": "90c84abe",
   "metadata": {},
   "source": [
    "### Q3.3 For each business category and business ID combination in the dataframe, how many unique users have rated the business?\n",
    "\n",
    "Note: the resulting dataframe has three columns: `business_categories`, `business_id`, and `count`. Compute summary statistics (similar as Q 3.1) for the `count` column."
   ]
  },
  {
   "cell_type": "code",
   "execution_count": null,
   "id": "442afa03",
   "metadata": {},
   "outputs": [],
   "source": [
    "# your code and solutions"
   ]
  },
  {
   "cell_type": "code",
   "execution_count": 47,
   "id": "7747597a",
   "metadata": {},
   "outputs": [
    {
     "name": "stdout",
     "output_type": "stream",
     "text": [
      "Summary statistics for column '('business_categories')':\n",
      "count                   229130\n",
      "unique                    2060\n",
      "top       Mexican; Restaurants\n",
      "freq                     15153\n",
      "Name: business_categories, dtype: object\n"
     ]
    }
   ],
   "source": [
    "import pandas as pd\n",
    "\n",
    "# read the dataset into a pandas dataframe\n",
    "df = pd.read_csv('Files/Yelp_Portfolio1_Input.csv')\n",
    "\n",
    "\n",
    "# compute summary statistics for a specific column\n",
    "column_name = 'business_categories'\n",
    "column_stats = df['business_categories'].describe()\n",
    "\n",
    "# print the summary statistics\n",
    "print(f\"Summary statistics for column '('business_categories')':\\n{column_stats}\")"
   ]
  },
  {
   "cell_type": "code",
   "execution_count": 49,
   "id": "07890c70",
   "metadata": {},
   "outputs": [
    {
     "name": "stdout",
     "output_type": "stream",
     "text": [
      "Summary statistics for column '(business_id)':\n",
      "count     229907\n",
      "unique     11377\n",
      "top       #NAME?\n",
      "freq        3716\n",
      "Name: business_id, dtype: object\n"
     ]
    }
   ],
   "source": [
    "import pandas as pd\n",
    "\n",
    "# read the dataset into a pandas dataframe\n",
    "df = pd.read_csv('Files/Yelp_Portfolio1_Input.csv')\n",
    "\n",
    "\n",
    "# compute summary statistics for a specific column\n",
    "column_name = 'business_id'\n",
    "column_stats = df['business_id'].describe()\n",
    "\n",
    "# print the summary statistics\n",
    "print(f\"Summary statistics for column '(business_id)':\\n{column_stats}\")"
   ]
  },
  {
   "cell_type": "code",
   "execution_count": null,
   "id": "ccdfa55e",
   "metadata": {},
   "outputs": [],
   "source": [
    "import pandas as pd\n",
    "\n",
    "# read the dataset into a pandas dataframe\n",
    "df = pd.read_csv('Files/Yelp_Portfolio1_Input.csv')\n",
    "\n",
    "# compute summary statistics for a column\n",
    "column_name = 'business_id'\n",
    "count = df['business_id'].count()\n",
    "mean = df['business_id'].mean()\n",
    "std = df['business_id'].std()\n",
    "minimum = df['business_id'].min()\n",
    "maximum = df['business_id'].max()\n",
    "\n",
    "# print the summary statistics for the column\n",
    "print(f\"Summary statistics for column '{'business_id'}':\")\n",
    "print(f\"Count: {count}\")\n",
    "print(f\"Mean: {mean}\")\n",
    "print(f\"Standard deviation: {std}\")\n",
    "print(f\"Minimum: {minimum}\")\n",
    "print(f\"Maximum: {maximum}\")"
   ]
  },
  {
   "cell_type": "code",
   "execution_count": null,
   "id": "77e5cfcb",
   "metadata": {},
   "outputs": [],
   "source": []
  },
  {
   "cell_type": "markdown",
   "id": "8e5b9d9f",
   "metadata": {},
   "source": [
    "# Q4. Plotting and Analysis"
   ]
  },
  {
   "cell_type": "markdown",
   "id": "1fe2a1bb",
   "metadata": {},
   "source": [
    "Explore the distribution of each variable, or the correlation between the `business_city`, `useful`,`business_categories` or `other variables` and the `stars` column in both the cleaned dataset from Q1 and the sampled dataset from Q2. For instance, does some cities tend to provide higher stars than others? Hint: you may use the boxplot function to plot figures for comparison (___Challenge___).\n",
    "    \n",
    "You may need to select the most suitable graphic forms for ease of presentation. Most importantly, for each figure or subfigure, please summarise ___what each plot shows___ (i.e. observations and explanations). Finally, you may need to provide an overall summary of the Yelp data."
   ]
  },
  {
   "cell_type": "markdown",
   "id": "d5e27994",
   "metadata": {},
   "source": [
    "Analysis and observation are open, and require you to think critically and analyze data to develop your own insights and conclusions. It's important for you to analyze the data, identify patterns, draw your own conclusions, and communicate your findings. This fosters critical thinking skills, ownership of learning, and a deeper understanding of the data."
   ]
  },
  {
   "cell_type": "code",
   "execution_count": null,
   "id": "2f89f8c6",
   "metadata": {},
   "outputs": [],
   "source": [
    "# your code and solutions"
   ]
  },
  {
   "cell_type": "code",
   "execution_count": 74,
   "id": "669faf9f",
   "metadata": {},
   "outputs": [
    {
     "data": {
      "text/plain": [
       "Index(['business_categories', 'business_city', 'business_id', 'date', 'stars',\n",
       "       'text', 'useful', 'user_id'],\n",
       "      dtype='object')"
      ]
     },
     "execution_count": 74,
     "metadata": {},
     "output_type": "execute_result"
    }
   ],
   "source": [
    "df.columns"
   ]
  },
  {
   "cell_type": "code",
   "execution_count": 75,
   "id": "d5078d28",
   "metadata": {},
   "outputs": [],
   "source": [
    "new_df = df.drop(['business_categories' , 'business_city' , 'stars'], axis = 1)\n"
   ]
  },
  {
   "cell_type": "code",
   "execution_count": 76,
   "id": "81d83f25",
   "metadata": {},
   "outputs": [
    {
     "data": {
      "text/plain": [
       "Index(['business_id', 'date', 'text', 'useful', 'user_id'], dtype='object')"
      ]
     },
     "execution_count": 76,
     "metadata": {},
     "output_type": "execute_result"
    }
   ],
   "source": [
    "new_df.columns"
   ]
  },
  {
   "cell_type": "code",
   "execution_count": 77,
   "id": "5d101f28",
   "metadata": {},
   "outputs": [
    {
     "data": {
      "text/plain": [
       "(229907, 5)"
      ]
     },
     "execution_count": 77,
     "metadata": {},
     "output_type": "execute_result"
    }
   ],
   "source": [
    "new_df.shape"
   ]
  },
  {
   "cell_type": "code",
   "execution_count": 78,
   "id": "1937de47",
   "metadata": {},
   "outputs": [
    {
     "data": {
      "text/plain": [
       "(229907, 8)"
      ]
     },
     "execution_count": 78,
     "metadata": {},
     "output_type": "execute_result"
    }
   ],
   "source": [
    "df.shape"
   ]
  },
  {
   "cell_type": "code",
   "execution_count": 79,
   "id": "ac50f878",
   "metadata": {},
   "outputs": [
    {
     "data": {
      "text/plain": [
       "<AxesSubplot:>"
      ]
     },
     "execution_count": 79,
     "metadata": {},
     "output_type": "execute_result"
    },
    {
     "data": {
      "image/png": "[encoded data removed]",
      "text/plain": [
       "<Figure size 640x480 with 1 Axes>"
      ]
     },
     "metadata": {},
     "output_type": "display_data"
    }
   ],
   "source": [
    "sns.boxplot(data = new_df)"
   ]
  },
  {
   "cell_type": "code",
   "execution_count": 80,
   "id": "0789d82f",
   "metadata": {},
   "outputs": [
    {
     "data": {
      "text/plain": [
       "<AxesSubplot:>"
      ]
     },
     "execution_count": 80,
     "metadata": {},
     "output_type": "execute_result"
    },
    {
     "data": {
      "image/png": "[encoded data removed]",
      "text/plain": [
       "<Figure size 640x480 with 1 Axes>"
      ]
     },
     "metadata": {},
     "output_type": "display_data"
    }
   ],
   "source": [
    "sns.scatterplot(data = new_df)"
   ]
  },
  {
   "cell_type": "code",
   "execution_count": 81,
   "id": "70e3848b",
   "metadata": {},
   "outputs": [
    {
     "data": {
      "text/plain": [
       "Index(['business_categories', 'business_city', 'business_id', 'date', 'stars',\n",
       "       'text', 'useful', 'user_id'],\n",
       "      dtype='object')"
      ]
     },
     "execution_count": 81,
     "metadata": {},
     "output_type": "execute_result"
    }
   ],
   "source": [
    "df.columns"
   ]
  },
  {
   "cell_type": "code",
   "execution_count": 86,
   "id": "4269c761",
   "metadata": {},
   "outputs": [
    {
     "data": {
      "text/plain": [
       "(229907, 8)"
      ]
     },
     "execution_count": 86,
     "metadata": {},
     "output_type": "execute_result"
    }
   ],
   "source": [
    "df.shape"
   ]
  },
  {
   "cell_type": "code",
   "execution_count": 87,
   "id": "df134a11",
   "metadata": {},
   "outputs": [
    {
     "data": {
      "text/html": [
       "<div>\n",
       "<style scoped>\n",
       "    .dataframe tbody tr th:only-of-type {\n",
       "        vertical-align: middle;\n",
       "    }\n",
       "\n",
       "    .dataframe tbody tr th {\n",
       "        vertical-align: top;\n",
       "    }\n",
       "\n",
       "    .dataframe thead th {\n",
       "        text-align: right;\n",
       "    }\n",
       "</style>\n",
       "<table border=\"1\" class=\"dataframe\">\n",
       "  <thead>\n",
       "    <tr style=\"text-align: right;\">\n",
       "      <th></th>\n",
       "      <th>business_categories</th>\n",
       "      <th>business_city</th>\n",
       "      <th>business_id</th>\n",
       "      <th>date</th>\n",
       "      <th>stars</th>\n",
       "      <th>text</th>\n",
       "      <th>useful</th>\n",
       "      <th>user_id</th>\n",
       "    </tr>\n",
       "  </thead>\n",
       "  <tbody>\n",
       "    <tr>\n",
       "      <th>0</th>\n",
       "      <td>Breakfast &amp; Brunch; Restaurants</td>\n",
       "      <td>Phoenix</td>\n",
       "      <td>9yKzy9PApeiPPOUJEtnvkg</td>\n",
       "      <td>26/1/2011</td>\n",
       "      <td>5</td>\n",
       "      <td>My wife took me here on my birthday for breakf...</td>\n",
       "      <td>5</td>\n",
       "      <td>rLtl8ZkDX5vH5nAx9C3q5Q</td>\n",
       "    </tr>\n",
       "    <tr>\n",
       "      <th>1</th>\n",
       "      <td>Italian; Pizza; Restaurants</td>\n",
       "      <td>Phoenix</td>\n",
       "      <td>ZRJwVLyzEJq1VAihDhYiow</td>\n",
       "      <td>27/7/2011</td>\n",
       "      <td>5</td>\n",
       "      <td>I have no idea why some people give bad review...</td>\n",
       "      <td>0</td>\n",
       "      <td>0a2KyEL0d3Yb1V6aivbIuQ</td>\n",
       "    </tr>\n",
       "    <tr>\n",
       "      <th>2</th>\n",
       "      <td>Middle Eastern; Restaurants</td>\n",
       "      <td>Tempe</td>\n",
       "      <td>6oRAC4uyJCsJl1X0WZpVSA</td>\n",
       "      <td>14/6/2012</td>\n",
       "      <td>4</td>\n",
       "      <td>love the gyro plate. Rice is so good and I als...</td>\n",
       "      <td>1</td>\n",
       "      <td>0hT2KtfLiobPvh6cDC8JQg</td>\n",
       "    </tr>\n",
       "    <tr>\n",
       "      <th>3</th>\n",
       "      <td>Active Life; Dog Parks; Parks</td>\n",
       "      <td>Scottsdale</td>\n",
       "      <td>_1QQZuf4zZOyFCvXc0o6Vg</td>\n",
       "      <td>27/5/2010</td>\n",
       "      <td>5</td>\n",
       "      <td>Rosie, Dakota, and I LOVE Chaparral Dog Park!!...</td>\n",
       "      <td>2</td>\n",
       "      <td>uZetl9T0NcROGOyFfughhg</td>\n",
       "    </tr>\n",
       "    <tr>\n",
       "      <th>4</th>\n",
       "      <td>Tires; Automotive</td>\n",
       "      <td>Mesa</td>\n",
       "      <td>6ozycU1RpktNG2-1BroVtw</td>\n",
       "      <td>5/1/2012</td>\n",
       "      <td>5</td>\n",
       "      <td>General Manager Scott Petello is a good egg!!!...</td>\n",
       "      <td>0</td>\n",
       "      <td>vYmM4KTsC8ZfQBg-j5MWkw</td>\n",
       "    </tr>\n",
       "  </tbody>\n",
       "</table>\n",
       "</div>"
      ],
      "text/plain": [
       "               business_categories business_city             business_id  \\\n",
       "0  Breakfast & Brunch; Restaurants       Phoenix  9yKzy9PApeiPPOUJEtnvkg   \n",
       "1      Italian; Pizza; Restaurants       Phoenix  ZRJwVLyzEJq1VAihDhYiow   \n",
       "2      Middle Eastern; Restaurants         Tempe  6oRAC4uyJCsJl1X0WZpVSA   \n",
       "3    Active Life; Dog Parks; Parks    Scottsdale  _1QQZuf4zZOyFCvXc0o6Vg   \n",
       "4                Tires; Automotive          Mesa  6ozycU1RpktNG2-1BroVtw   \n",
       "\n",
       "        date  stars                                               text  \\\n",
       "0  26/1/2011      5  My wife took me here on my birthday for breakf...   \n",
       "1  27/7/2011      5  I have no idea why some people give bad review...   \n",
       "2  14/6/2012      4  love the gyro plate. Rice is so good and I als...   \n",
       "3  27/5/2010      5  Rosie, Dakota, and I LOVE Chaparral Dog Park!!...   \n",
       "4   5/1/2012      5  General Manager Scott Petello is a good egg!!!...   \n",
       "\n",
       "   useful                 user_id  \n",
       "0       5  rLtl8ZkDX5vH5nAx9C3q5Q  \n",
       "1       0  0a2KyEL0d3Yb1V6aivbIuQ  \n",
       "2       1  0hT2KtfLiobPvh6cDC8JQg  \n",
       "3       2  uZetl9T0NcROGOyFfughhg  \n",
       "4       0  vYmM4KTsC8ZfQBg-j5MWkw  "
      ]
     },
     "execution_count": 87,
     "metadata": {},
     "output_type": "execute_result"
    }
   ],
   "source": [
    "df.head()"
   ]
  },
  {
   "cell_type": "code",
   "execution_count": 88,
   "id": "1dc79d39",
   "metadata": {},
   "outputs": [
    {
     "data": {
      "text/plain": [
       "stars\n",
       "1    17516\n",
       "2    20957\n",
       "3    35363\n",
       "4    79878\n",
       "5    76193\n",
       "Name: useful, dtype: int64"
      ]
     },
     "execution_count": 88,
     "metadata": {},
     "output_type": "execute_result"
    }
   ],
   "source": [
    "df.groupby(['stars'])['useful'].count()"
   ]
  },
  {
   "cell_type": "code",
   "execution_count": 89,
   "id": "89924b99",
   "metadata": {},
   "outputs": [
    {
     "data": {
      "text/plain": [
       "stars\n",
       "1    [1, 4, 0, 6, 7, 2, 3, 5, 8, 9, 20, 15, 14, 10,...\n",
       "2    [2, 3, 1, 0, 5, 7, 10, 6, 4, 9, 8, 17, 14, 12,...\n",
       "3    [4, 6, 3, 0, 1, 2, 7, 12, 8, 5, 10, 9, 17, 11,...\n",
       "4    [1, 3, 0, 2, 4, 19, 5, 8, 7, 15, 10, 9, 6, 23,...\n",
       "5    [5, 0, 2, 7, 1, 3, 16, 6, 9, 17, 28, 8, 4, 15,...\n",
       "Name: useful, dtype: object"
      ]
     },
     "execution_count": 89,
     "metadata": {},
     "output_type": "execute_result"
    }
   ],
   "source": [
    "df.groupby(['stars'])['useful'].unique()"
   ]
  },
  {
   "cell_type": "code",
   "execution_count": 90,
   "id": "9fe4c7bd",
   "metadata": {},
   "outputs": [
    {
     "data": {
      "text/plain": [
       "stars\n",
       "1    30\n",
       "2    31\n",
       "3    28\n",
       "4    37\n",
       "5    47\n",
       "Name: useful, dtype: int64"
      ]
     },
     "execution_count": 90,
     "metadata": {},
     "output_type": "execute_result"
    }
   ],
   "source": [
    "df.groupby(['stars'])['useful'].nunique()"
   ]
  },
  {
   "cell_type": "code",
   "execution_count": 91,
   "id": "cf55065a",
   "metadata": {},
   "outputs": [
    {
     "data": {
      "text/plain": [
       "array([5, 4, 2, 3, 1])"
      ]
     },
     "execution_count": 91,
     "metadata": {},
     "output_type": "execute_result"
    }
   ],
   "source": [
    "df.stars.unique()\n"
   ]
  },
  {
   "cell_type": "code",
   "execution_count": 93,
   "id": "103d0a0d",
   "metadata": {},
   "outputs": [],
   "source": [
    "df1 = df.groupby(['stars'])['useful'].nunique()"
   ]
  },
  {
   "cell_type": "code",
   "execution_count": 94,
   "id": "b539de38",
   "metadata": {},
   "outputs": [],
   "source": [
    "df1 = df.groupby(['stars'])['useful'].nunique().reset_index (name='count')\n"
   ]
  },
  {
   "cell_type": "code",
   "execution_count": 95,
   "id": "8c7c57c1",
   "metadata": {},
   "outputs": [
    {
     "data": {
      "text/html": [
       "<div>\n",
       "<style scoped>\n",
       "    .dataframe tbody tr th:only-of-type {\n",
       "        vertical-align: middle;\n",
       "    }\n",
       "\n",
       "    .dataframe tbody tr th {\n",
       "        vertical-align: top;\n",
       "    }\n",
       "\n",
       "    .dataframe thead th {\n",
       "        text-align: right;\n",
       "    }\n",
       "</style>\n",
       "<table border=\"1\" class=\"dataframe\">\n",
       "  <thead>\n",
       "    <tr style=\"text-align: right;\">\n",
       "      <th></th>\n",
       "      <th>stars</th>\n",
       "      <th>count</th>\n",
       "    </tr>\n",
       "  </thead>\n",
       "  <tbody>\n",
       "    <tr>\n",
       "      <th>0</th>\n",
       "      <td>1</td>\n",
       "      <td>30</td>\n",
       "    </tr>\n",
       "    <tr>\n",
       "      <th>1</th>\n",
       "      <td>2</td>\n",
       "      <td>31</td>\n",
       "    </tr>\n",
       "    <tr>\n",
       "      <th>2</th>\n",
       "      <td>3</td>\n",
       "      <td>28</td>\n",
       "    </tr>\n",
       "    <tr>\n",
       "      <th>3</th>\n",
       "      <td>4</td>\n",
       "      <td>37</td>\n",
       "    </tr>\n",
       "    <tr>\n",
       "      <th>4</th>\n",
       "      <td>5</td>\n",
       "      <td>47</td>\n",
       "    </tr>\n",
       "  </tbody>\n",
       "</table>\n",
       "</div>"
      ],
      "text/plain": [
       "   stars  count\n",
       "0      1     30\n",
       "1      2     31\n",
       "2      3     28\n",
       "3      4     37\n",
       "4      5     47"
      ]
     },
     "execution_count": 95,
     "metadata": {},
     "output_type": "execute_result"
    }
   ],
   "source": [
    "df1"
   ]
  },
  {
   "cell_type": "code",
   "execution_count": 96,
   "id": "2a3f4a0f",
   "metadata": {},
   "outputs": [],
   "source": [
    "df1 = df.groupby(['stars'])['useful'].sum().reset_index (name='sum')"
   ]
  },
  {
   "cell_type": "code",
   "execution_count": 97,
   "id": "755d66be",
   "metadata": {},
   "outputs": [
    {
     "data": {
      "text/plain": [
       "<seaborn.axisgrid.FacetGrid at 0x7fd6b698a130>"
      ]
     },
     "execution_count": 97,
     "metadata": {},
     "output_type": "execute_result"
    },
    {
     "data": {
      "image/png": "[encoded data removed]",
      "text/plain": [
       "<Figure size 500x500 with 1 Axes>"
      ]
     },
     "metadata": {},
     "output_type": "display_data"
    }
   ],
   "source": [
    "sns.lmplot(x='stars', y='useful' , data= df)"
   ]
  },
  {
   "cell_type": "code",
   "execution_count": 98,
   "id": "83b2c32f",
   "metadata": {},
   "outputs": [
    {
     "data": {
      "text/plain": [
       "<seaborn.axisgrid.FacetGrid at 0x7fd641036ca0>"
      ]
     },
     "execution_count": 98,
     "metadata": {},
     "output_type": "execute_result"
    },
    {
     "data": {
      "image/png": "[encoded data removed]",
      "text/plain": [
       "<Figure size 558.875x500 with 1 Axes>"
      ]
     },
     "metadata": {},
     "output_type": "display_data"
    }
   ],
   "source": [
    "sns.lmplot(x='stars', y='useful' , data= df , hue = 'stars')"
   ]
  },
  {
   "cell_type": "code",
   "execution_count": 99,
   "id": "5a1e00b3",
   "metadata": {},
   "outputs": [
    {
     "data": {
      "text/plain": [
       "<seaborn.axisgrid.FacetGrid at 0x7fd640ad5310>"
      ]
     },
     "execution_count": 99,
     "metadata": {},
     "output_type": "execute_result"
    },
    {
     "data": {
      "image/png": "[encoded data removed]",
      "text/plain": [
       "<Figure size 558.875x500 with 1 Axes>"
      ]
     },
     "metadata": {},
     "output_type": "display_data"
    }
   ],
   "source": [
    "sns.lmplot(x='stars', y='useful' , data= df , hue = 'stars' , fit_reg = False)"
   ]
  },
  {
   "cell_type": "code",
   "execution_count": 101,
   "id": "162d4220",
   "metadata": {},
   "outputs": [
    {
     "data": {
      "text/plain": [
       "<AxesSubplot:>"
      ]
     },
     "execution_count": 101,
     "metadata": {},
     "output_type": "execute_result"
    },
    {
     "data": {
      "image/png": "[encoded data removed]",
      "text/plain": [
       "<Figure size 640x480 with 1 Axes>"
      ]
     },
     "metadata": {},
     "output_type": "display_data"
    }
   ],
   "source": [
    "sns.boxplot(data = df)"
   ]
  },
  {
   "cell_type": "code",
   "execution_count": 102,
   "id": "0ec7a435",
   "metadata": {},
   "outputs": [
    {
     "data": {
      "text/plain": [
       "<AxesSubplot:>"
      ]
     },
     "execution_count": 102,
     "metadata": {},
     "output_type": "execute_result"
    },
    {
     "data": {
      "image/png": "[encoded data removed]",
      "text/plain": [
       "<Figure size 640x480 with 1 Axes>"
      ]
     },
     "metadata": {},
     "output_type": "display_data"
    }
   ],
   "source": [
    "sns.scatterplot(data = df)"
   ]
  },
  {
   "cell_type": "code",
   "execution_count": 103,
   "id": "2b43b9d0",
   "metadata": {},
   "outputs": [
    {
     "data": {
      "text/html": [
       "<div>\n",
       "<style scoped>\n",
       "    .dataframe tbody tr th:only-of-type {\n",
       "        vertical-align: middle;\n",
       "    }\n",
       "\n",
       "    .dataframe tbody tr th {\n",
       "        vertical-align: top;\n",
       "    }\n",
       "\n",
       "    .dataframe thead th {\n",
       "        text-align: right;\n",
       "    }\n",
       "</style>\n",
       "<table border=\"1\" class=\"dataframe\">\n",
       "  <thead>\n",
       "    <tr style=\"text-align: right;\">\n",
       "      <th></th>\n",
       "      <th>business_id</th>\n",
       "      <th>date</th>\n",
       "      <th>text</th>\n",
       "      <th>useful</th>\n",
       "      <th>user_id</th>\n",
       "    </tr>\n",
       "  </thead>\n",
       "  <tbody>\n",
       "    <tr>\n",
       "      <th>0</th>\n",
       "      <td>9yKzy9PApeiPPOUJEtnvkg</td>\n",
       "      <td>26/1/2011</td>\n",
       "      <td>My wife took me here on my birthday for breakf...</td>\n",
       "      <td>5</td>\n",
       "      <td>rLtl8ZkDX5vH5nAx9C3q5Q</td>\n",
       "    </tr>\n",
       "    <tr>\n",
       "      <th>1</th>\n",
       "      <td>ZRJwVLyzEJq1VAihDhYiow</td>\n",
       "      <td>27/7/2011</td>\n",
       "      <td>I have no idea why some people give bad review...</td>\n",
       "      <td>0</td>\n",
       "      <td>0a2KyEL0d3Yb1V6aivbIuQ</td>\n",
       "    </tr>\n",
       "    <tr>\n",
       "      <th>2</th>\n",
       "      <td>6oRAC4uyJCsJl1X0WZpVSA</td>\n",
       "      <td>14/6/2012</td>\n",
       "      <td>love the gyro plate. Rice is so good and I als...</td>\n",
       "      <td>1</td>\n",
       "      <td>0hT2KtfLiobPvh6cDC8JQg</td>\n",
       "    </tr>\n",
       "    <tr>\n",
       "      <th>3</th>\n",
       "      <td>_1QQZuf4zZOyFCvXc0o6Vg</td>\n",
       "      <td>27/5/2010</td>\n",
       "      <td>Rosie, Dakota, and I LOVE Chaparral Dog Park!!...</td>\n",
       "      <td>2</td>\n",
       "      <td>uZetl9T0NcROGOyFfughhg</td>\n",
       "    </tr>\n",
       "    <tr>\n",
       "      <th>4</th>\n",
       "      <td>6ozycU1RpktNG2-1BroVtw</td>\n",
       "      <td>5/1/2012</td>\n",
       "      <td>General Manager Scott Petello is a good egg!!!...</td>\n",
       "      <td>0</td>\n",
       "      <td>vYmM4KTsC8ZfQBg-j5MWkw</td>\n",
       "    </tr>\n",
       "  </tbody>\n",
       "</table>\n",
       "</div>"
      ],
      "text/plain": [
       "              business_id       date  \\\n",
       "0  9yKzy9PApeiPPOUJEtnvkg  26/1/2011   \n",
       "1  ZRJwVLyzEJq1VAihDhYiow  27/7/2011   \n",
       "2  6oRAC4uyJCsJl1X0WZpVSA  14/6/2012   \n",
       "3  _1QQZuf4zZOyFCvXc0o6Vg  27/5/2010   \n",
       "4  6ozycU1RpktNG2-1BroVtw   5/1/2012   \n",
       "\n",
       "                                                text  useful  \\\n",
       "0  My wife took me here on my birthday for breakf...       5   \n",
       "1  I have no idea why some people give bad review...       0   \n",
       "2  love the gyro plate. Rice is so good and I als...       1   \n",
       "3  Rosie, Dakota, and I LOVE Chaparral Dog Park!!...       2   \n",
       "4  General Manager Scott Petello is a good egg!!!...       0   \n",
       "\n",
       "                  user_id  \n",
       "0  rLtl8ZkDX5vH5nAx9C3q5Q  \n",
       "1  0a2KyEL0d3Yb1V6aivbIuQ  \n",
       "2  0hT2KtfLiobPvh6cDC8JQg  \n",
       "3  uZetl9T0NcROGOyFfughhg  \n",
       "4  vYmM4KTsC8ZfQBg-j5MWkw  "
      ]
     },
     "execution_count": 103,
     "metadata": {},
     "output_type": "execute_result"
    }
   ],
   "source": [
    "new_df.head()"
   ]
  },
  {
   "cell_type": "code",
   "execution_count": 108,
   "id": "18a6c434",
   "metadata": {},
   "outputs": [
    {
     "name": "stdout",
     "output_type": "stream",
     "text": [
      "portfolio completed\n"
     ]
    }
   ],
   "source": [
    "print('portfolio completed')"
   ]
  },
  {
   "cell_type": "code",
   "execution_count": 109,
   "id": "d37c11b7",
   "metadata": {},
   "outputs": [
    {
     "name": "stdout",
     "output_type": "stream",
     "text": [
      "Thank you\n"
     ]
    }
   ],
   "source": [
    "print('Thank you')"
   ]
  },
  {
   "cell_type": "code",
   "execution_count": null,
   "id": "dbd119b4",
   "metadata": {},
   "outputs": [],
   "source": []
  }
 ],
 "metadata": {
  "kernelspec": {
   "display_name": "Python 3 (ipykernel)",
   "language": "python",
   "name": "python3"
  },
  "language_info": {
   "codemirror_mode": {
    "name": "ipython",
    "version": 3
   },
   "file_extension": ".py",
   "mimetype": "text/x-python",
   "name": "python",
   "nbconvert_exporter": "python",
   "pygments_lexer": "ipython3",
   "version": "3.9.13"
  }
 },
 "nbformat": 4,
 "nbformat_minor": 5
}
