{
 "cells": [
  {
   "cell_type": "markdown",
   "id": "72d057bb",
   "metadata": {},
   "source": [
    "## Aditya Choudhary"
   ]
  },
  {
   "cell_type": "markdown",
   "id": "aa116403",
   "metadata": {},
   "source": [
    "## 47680288"
   ]
  },
  {
   "cell_type": "markdown",
   "id": "e73a3974",
   "metadata": {},
   "source": [
    "## Overall Presentation and Reflective Report\n",
    "### The overall presentation of your Github repository (eg. README, layout, commit history and comments)  and reflective report take  10% in total which are due in week 11\n",
    "\n",
    "### Git presentation (4 marks), including README, and regular commit activities.\n",
    "\n",
    "### The presentation of each portfolio is worth of 1 mark. \n"
   ]
  },
  {
   "cell_type": "markdown",
   "id": "e52d576c",
   "metadata": {},
   "source": [
    "#### We will mark your presentation based on what you have maintained in your Github repository.\n",
    "#### Reflective report (6 marks) on portfolio 4"
   ]
  },
  {
   "cell_type": "markdown",
   "id": "1f2a402d",
   "metadata": {},
   "source": [
    "#### Please submit a brief report (up to 1,000 words, no more than 2 pages) in Markdown format to both Github (the same repo as other portfolios) and iLearn (as the backup)\n",
    "#### In reflective report, you need to report the process of solving problems and learning to use notebooks. (2 marks) how have you progressed from the start of the unit, what are you interested in doing with this in the future? (2 marks)"
   ]
  },
  {
   "cell_type": "markdown",
   "id": "9af5fc39",
   "metadata": {},
   "source": [
    "#### You also need to have at least two discussion points based on portfolio 4 and each point is worth of 1.0 mark. There are some examples you can discuss in your report: \n",
    "#### 1) why you choose the dataset you have used for your portfolio; \n",
    "#### 2) How do you identify the problem you target to solve in your portfolio? \n",
    "#### 3) The reason to choose your machine models in portfolio 4 and why these models are suitable for solving the problem you have raised; \n",
    "#### 4) Can you well explain the insights or conclusion you draw from your study? Is the result consistent with your intuitive expectation? "
   ]
  },
  {
   "cell_type": "markdown",
   "id": "62d7d3ac",
   "metadata": {},
   "source": [
    "#### You are free to add more points worth discussion in your reports on portfolio 4. \n"
   ]
  },
  {
   "cell_type": "markdown",
   "id": "ef832953",
   "metadata": {},
   "source": []
  },
  {
   "attachments": {},
   "cell_type": "markdown",
   "id": "4f44f312",
   "metadata": {},
   "source": [
    "When I first embarked on this course, my command over Python programming was pretty elementary. I had a reasonable comprehension of the basic data structures that Python offers, like lists, dictionaries, and tuples. However, I hadn't yet explored the complex concepts frequently required in the data science realm.\n",
    "\n",
    "As I embarked on this learning journey, I gradually but consistently broadened my horizon of understanding. I grappled with more challenging problems, navigated through intricate datasets, and honed my coding skills to perform complex data analysis. \n",
    "\n",
    "In this progression, a turning point was the introduction to Pandas, an essential Python library for data manipulation and analysis. This tool was pivotal in my journey, enabling me to manage large datasets with relative ease. With pandas, I learned how to cleanse and wrangle data – transforming raw data into a form more amenable to analysis. Handling missing values, dealing with outliers, converting data types, and reshaping datasets are now processes that I can comfortably navigate through."
   ]
  },
  {
   "attachments": {},
   "cell_type": "markdown",
   "id": "d33c63b5",
   "metadata": {},
   "source": [
    "A significant point in my educational journey was acquiring proficiency in data visualization, a key component in the field of data science. Utilizing Python libraries like matplotlib and Seaborn, I was able to craft various types of plots - including line plots, scatter plots, box plots, bar plots, histograms, and heatmaps. Each of these visualization methods offers a distinct perspective to analyze the data, enabling me to uncover patterns, spot trends, and witness connections between variables. This pictorial depiction of data acts as an influential instrument for conveying insights and results, catering not only to fellow data scientists but also to those without a technical background.\n",
    "\n",
    "With the growth of my capabilities, the complexity of the problems I was able to address also increased. I stepped into the world of predictive modeling and machine learning, empowered by the formidable scikit-learn library. I gained proficiency in machine learning algorithms, from the rather uncomplicated Linear Regression and Logistic Regression to more complex ones like K-Nearest Neighbors (KNN)."
   ]
  },
  {
   "attachments": {},
   "cell_type": "markdown",
   "id": "1e5de59d",
   "metadata": {},
   "source": [
    "Alongside learning to build models, I also studied techniques for model evaluation and selection. Understanding metrics such as accuracy, precision, recall, F1 score, mean absolute error (MAE), mean squared error (MSE), and R-squared were crucial for assessing the performance of my models. Feature selection techniques such as Recursive Feature Elimination (RFE) allowed me to optimize models by identifying and using only the most important features.\n",
    "\n",
    "As I forge ahead in my educational quest, immersing myself deeper into the complex sphere of machine learning algorithms like Support Vector Machines (SVM), Decision Trees, Random Forests, and Neural Networks, my interest is steadily mounting. Also, I find the prospect of delving into specialized areas of data science, such as Natural Language Processing (NLP), Image Processing, Time Series Analysis, and Deep Learning, to be exceptionally intriguing."
   ]
  },
  {
   "attachments": {},
   "cell_type": "markdown",
   "id": "a66878d8",
   "metadata": {},
   "source": [
    "### Let's now consider some discussion points related to my Portfolio 4, which centers on the 'affairs.csv' dataset."
   ]
  },
  {
   "attachments": {},
   "cell_type": "markdown",
   "id": "48f93b23",
   "metadata": {},
   "source": [
    "### a. Choice of Dataset: \n",
    "The decision to choose the 'affairs.csv' dataset for my portfolio was driven by the dataset's complexity and versatility. The dataset provides a rich variety of features, which are a mix of numerical and categorical data. This diversity offers a broad scope for analysis and modeling, which was a major factor in choosing this dataset. Furthermore, the real-world context of the dataset facilitates a more practical and engaging exploration."
   ]
  },
  {
   "attachments": {},
   "cell_type": "markdown",
   "id": "7bf42938",
   "metadata": {},
   "source": [
    "### b. Problem Identification: \n",
    "The 'affairs.csv' dataset provides an opportunity to address several interesting problems. Based on the features available in the dataset, I targeted to predict the 'affairs' variable. This is a classic classification problem, which could be addressed using several machine learning models. The rich set of features also allows for an in-depth exploratory data analysis (EDA) and feature selection."
   ]
  },
  {
   "cell_type": "markdown",
   "id": "43f5d5a9",
   "metadata": {},
   "source": [
    "### c. Choices of Machine Learning Models: \n",
    "The machine learning models chosen in Portfolio 4 were largely dictated by the nature of the data and the problem at hand. Linear Regression is an excellent choice when the target variable is continuous, while Logistic Regression and K-Nearest Neighbors (KNN) are suitable for binary and multi-class classification problems respectively. Besides, these models are relatively straightforward and provide interpretable results, which is crucial in real-world scenarios."
   ]
  },
  {
   "attachments": {},
   "cell_type": "markdown",
   "id": "abab825d",
   "metadata": {},
   "source": [
    "### d. Insights and Conclusions: \n",
    "The analysis of the 'affairs.csv' dataset offered several fascinating insights. For instance, it was intriguing to observe the correlation between 'age' and 'affairs' in the scatter plot. Correspondingly, the heatmap provided a holistic view of the relationships between different features. It was rewarding to witness how these insights corroborated my initial hypotheses and expectations, and equally intriguing when they defied them. These surprises spurred more exploration and led to deeper understanding. The efforts I've invested in my portfolio have solidified my conviction in the vast strength and possibility that data science offers. \n",
    "By utilizing suitable methods and tools, we possess the capacity to extract meaningful findings from raw data. These understandings can influence decision-making processes in a wide variety of areas, spanning healthcare and finance to public policy and marketing.\n",
    "My endeavors in creating my portfolio have solidified my faith in the enormous capability and promise that data science holds. By harnessing suitable tools and techniques, we can draw noteworthy insights from unprocessed data, which can guide decision-making procedures in numerous areas, ranging from healthcare and finance to public policy and marketing."
   ]
  },
  {
   "attachments": {},
   "cell_type": "markdown",
   "id": "0fef643c",
   "metadata": {},
   "source": [
    "Additionally, throughout my educational journey, I've come to appreciate the significance of succinct and clear communication in the realm of data science.\n",
    "\n",
    "Whether it's through well-commented code, comprehensive documentation, or visually appealing data plots, effective communication helps convey complex results to both technical and non-technical audiences. It’s a skill I am keen on developing further as I delve deeper into the field of data science.\n",
    "\n"
   ]
  },
  {
   "cell_type": "markdown",
   "id": "a13fbba3",
   "metadata": {},
   "source": [
    "Moreover, I have realized the criticality of maintaining an ethical stance in this field. The power of data manipulation and prediction must be balanced with a respect for privacy and fairness. As I move forward, I am committed to upholding these ethical standards in all my data science endeavors.\n",
    "\n",
    "Regarding my future interests, I am drawn towards the application of data science in societal and humanitarian issues."
   ]
  },
  {
   "attachments": {},
   "cell_type": "markdown",
   "id": "92d3c9ce",
   "metadata": {},
   "source": [
    "Data science carries the potential to enlighten and enhance decision-making, community progression, and the provision of services. I am especially captivated by the prospect of utilizing data-derived insights to address challenges in education, healthcare, public safety, and environmental sustainability."
   ]
  },
  {
   "attachments": {},
   "cell_type": "markdown",
   "id": "10214c78",
   "metadata": {},
   "source": [
    "Looking forward, I also foresee obstacles. The domain of data science is persistently advancing, and maintaining pace with this rapid evolution will necessitate a dedication to continuous learning. New instruments and technologies are perpetually emerging, along with the development of new methodologies. Staying updated with these advancements will be essential for my professional growth."
   ]
  },
  {
   "attachments": {},
   "cell_type": "markdown",
   "id": "43acb7a0",
   "metadata": {},
   "source": [
    "In summary, this course has laid a strong foundation in data science for me, and I am enthusiastic about continually building on this knowledge base.\n",
    "The journey has been intellectually invigorating and immensely fulfilling, and I am eager to discover where it will guide me next. I am assured that the competencies and comprehension I have gained will be beneficial as I steer the future of data science, and I look forward to applying them in addressing real-world dilemmas."
   ]
  },
  {
   "cell_type": "markdown",
   "id": "652e78ee",
   "metadata": {},
   "source": []
  }
 ],
 "metadata": {
  "kernelspec": {
   "display_name": "Python 3 (ipykernel)",
   "language": "python",
   "name": "python3"
  },
  "language_info": {
   "codemirror_mode": {
    "name": "ipython",
    "version": 3
   },
   "file_extension": ".py",
   "mimetype": "text/x-python",
   "name": "python",
   "nbconvert_exporter": "python",
   "pygments_lexer": "ipython3",
   "version": "3.9.13"
  }
 },
 "nbformat": 4,
 "nbformat_minor": 5
}
